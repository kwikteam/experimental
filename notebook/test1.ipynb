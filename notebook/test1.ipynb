{
 "metadata": {
  "name": "",
  "signature": "sha256:a7584be0f404540f73d35be194ab26a87571c077cdbbd8b971cf6f02854d1e2d"
 },
 "nbformat": 3,
 "nbformat_minor": 0,
 "worksheets": [
  {
   "cells": [
    {
     "cell_type": "code",
     "collapsed": false,
     "input": [
      "import numpy as np\n",
      "import matplotlib.pyplot as plt\n",
      "%matplotlib inline\n",
      "import mpld3\n",
      "mpld3.enable_notebook()"
     ],
     "language": "python",
     "metadata": {},
     "outputs": [],
     "prompt_number": 76
    },
    {
     "cell_type": "code",
     "collapsed": false,
     "input": [
      "import kwiklib\n",
      "import klustaviewa as kv\n",
      "from kwiklib import Experiment"
     ],
     "language": "python",
     "metadata": {},
     "outputs": [],
     "prompt_number": 2
    },
    {
     "cell_type": "code",
     "collapsed": false,
     "input": [
      "from IPython.display import HTML, Javascript, display, clear_output\n",
      "import IPython.html.widgets as widgets"
     ],
     "language": "python",
     "metadata": {},
     "outputs": [],
     "prompt_number": 83
    },
    {
     "cell_type": "code",
     "collapsed": false,
     "input": [
      "from IPython.utils.traitlets import Unicode, List, Dict, Set, Int\n",
      "from IPython.html.widgets import DOMWidget"
     ],
     "language": "python",
     "metadata": {},
     "outputs": [],
     "prompt_number": 60
    },
    {
     "cell_type": "code",
     "collapsed": false,
     "input": [
      "filename = 'data/test.kwik'"
     ],
     "language": "python",
     "metadata": {},
     "outputs": [],
     "prompt_number": 5
    },
    {
     "cell_type": "code",
     "collapsed": false,
     "input": [
      "exp = Experiment(filename)"
     ],
     "language": "python",
     "metadata": {},
     "outputs": [
      {
       "output_type": "stream",
       "stream": "stdout",
       "text": [
        "2014-08-25 15:09:28  kwik:63                 IOError: ``D:\\git\\phy-experimental\\notebook\\data/test.high.kwd`` does not exist\n"
       ]
      },
      {
       "output_type": "stream",
       "stream": "stdout",
       "text": [
        "2014-08-25 15:09:28  kwik:63                 IOError: ``D:\\git\\phy-experimental\\notebook\\data/test.low.kwd`` does not exist\n"
       ]
      },
      {
       "output_type": "stream",
       "stream": "stdout",
       "text": [
        "2014-08-25 15:09:28  kwik:63                 IOError: ``D:\\git\\phy-experimental\\notebook\\data/test.raw.kwd`` does not exist\n"
       ]
      }
     ],
     "prompt_number": 6
    },
    {
     "cell_type": "code",
     "collapsed": false,
     "input": [
      "chgrp = exp.channel_groups[1]\n",
      "spkclu = chgrp.spikes.clusters.main[:]"
     ],
     "language": "python",
     "metadata": {},
     "outputs": [],
     "prompt_number": 77
    },
    {
     "cell_type": "code",
     "collapsed": false,
     "input": [
      "clusters_list = chgrp.clusters.main.keys()"
     ],
     "language": "python",
     "metadata": {},
     "outputs": [],
     "prompt_number": 8
    },
    {
     "cell_type": "code",
     "collapsed": false,
     "input": [
      "cluster_colors = chgrp.clusters.main.color[:]"
     ],
     "language": "python",
     "metadata": {},
     "outputs": [],
     "prompt_number": 50
    },
    {
     "cell_type": "code",
     "collapsed": false,
     "input": [
      "cludiv = '<div class=\"cluster\" style=\"background-color: %s;\">%d</div>'\n",
      "clucontainer = '<div class=\"cluster-container\">%s</div>'"
     ],
     "language": "python",
     "metadata": {},
     "outputs": [],
     "prompt_number": 9
    },
    {
     "cell_type": "code",
     "collapsed": false,
     "input": [
      "from vispy.color import get_color_names"
     ],
     "language": "python",
     "metadata": {},
     "outputs": [],
     "prompt_number": 10
    },
    {
     "cell_type": "code",
     "collapsed": false,
     "input": [
      "colors = get_color_names()"
     ],
     "language": "python",
     "metadata": {},
     "outputs": []
    },
    {
     "cell_type": "code",
     "collapsed": false,
     "input": [
      "%%HTML\n",
      "<style rel=\"stylesheet\" type=\"text/css\">\n",
      ".cluster {\n",
      "    float: left;\n",
      "    width: 30px;\n",
      "    height: 30px;\n",
      "    text-align: center;\n",
      "    vertical-align: center;\n",
      "    margin: 4px;\n",
      "    padding-top: 4px;\n",
      "    border: 1px solid black;\n",
      "    cursor: pointer;\n",
      "}\n",
      ".cluster-container {\n",
      "\n",
      "}\n",
      "</style>"
     ],
     "language": "python",
     "metadata": {},
     "outputs": [
      {
       "html": [
        "<style rel=\"stylesheet\" type=\"text/css\">\n",
        ".cluster {\n",
        "    float: left;\n",
        "    width: 30px;\n",
        "    height: 30px;\n",
        "    text-align: center;\n",
        "    vertical-align: center;\n",
        "    margin: 4px;\n",
        "    padding-top: 4px;\n",
        "    border: 1px solid black;\n",
        "    cursor: pointer;\n",
        "}\n",
        ".cluster-container {\n",
        "\n",
        "}\n",
        "</style>"
       ],
       "metadata": {},
       "output_type": "display_data",
       "text": [
        "<IPython.core.display.HTML object>"
       ]
      }
     ],
     "prompt_number": 38
    },
    {
     "cell_type": "code",
     "collapsed": false,
     "input": [
      "class ClusterWidget(DOMWidget):\n",
      "    _view_name = Unicode('ClusterWidget', sync=True)\n",
      "    description = Unicode(help=\"Description of the value this widget represents\", sync=True)\n",
      "    value = List(sync=True)\n",
      "    colors = List(sync=True)\n",
      "    selected_cluster = Int(sync=True)\n",
      "    \n",
      "    def __init__(self, *args, **kwargs):\n",
      "        super(ClusterWidget, self).__init__(*args, **kwargs)\n",
      "        self.on_trait_change(self._on_cluster_selected, 'selected_cluster')\n",
      "\n",
      "    def _on_cluster_selected(self, name, cluster):\n",
      "        #print(\"Cluster selected: %d\" % cluster)\n",
      "        clear_output()\n",
      "        plot(cluster)"
     ],
     "language": "python",
     "metadata": {},
     "outputs": [],
     "prompt_number": 92
    },
    {
     "cell_type": "code",
     "collapsed": false,
     "input": [
      "%%javascript\n",
      "require([\"widgets/js/widget\"], function(WidgetManager){\n",
      "    var ClusterWidget = IPython.DOMWidgetView.extend({\n",
      "        render: function(){\n",
      "            var that = this;\n",
      "            this.$el.addClass('cluster-container');\n",
      "            this.model.on('change:value', this.value_changed, this);\n",
      "            this.value_changed();\n",
      "        },\n",
      "        \n",
      "        add_cluster: function(i, color) {\n",
      "            var that = this;\n",
      "            var cluster = $('<button \\\n",
      "                            style=\"background-color: '+color+';\\\n",
      "                            \">'+i.toString()+'</div>');\n",
      "            cluster.addClass('cluster');\n",
      "            cluster.click(function () {\n",
      "                that.model.set('selected_cluster', i);\n",
      "                that.touch();\n",
      "            });\n",
      "            this.$el.append(cluster);\n",
      "        },\n",
      "        \n",
      "        value_changed: function() {\n",
      "            var clusters = this.model.get('value');\n",
      "            var colors = this.model.get('colors');\n",
      "            this.$el.empty();\n",
      "            for (var i = 0; i < clusters.length; i++) {\n",
      "                this.add_cluster(clusters[i], colors[i]);\n",
      "            }\n",
      "        },\n",
      "    });\n",
      "    \n",
      "    WidgetManager.register_widget_view('ClusterWidget', ClusterWidget);\n",
      "});"
     ],
     "language": "python",
     "metadata": {},
     "outputs": [
      {
       "javascript": [
        "require([\"widgets/js/widget\"], function(WidgetManager){\n",
        "    var ClusterWidget = IPython.DOMWidgetView.extend({\n",
        "        render: function(){\n",
        "            var that = this;\n",
        "            this.$el.addClass('cluster-container');\n",
        "            this.model.on('change:value', this.value_changed, this);\n",
        "            this.value_changed();\n",
        "        },\n",
        "        \n",
        "        add_cluster: function(i, color) {\n",
        "            var that = this;\n",
        "            var cluster = $('<button \\\n",
        "                            style=\"background-color: '+color+';\\\n",
        "                            \">'+i.toString()+'</div>');\n",
        "            cluster.addClass('cluster');\n",
        "            cluster.click(function () {\n",
        "                that.model.set('selected_cluster', i);\n",
        "                that.touch();\n",
        "            });\n",
        "            this.$el.append(cluster);\n",
        "        },\n",
        "        \n",
        "        value_changed: function() {\n",
        "            var clusters = this.model.get('value');\n",
        "            var colors = this.model.get('colors');\n",
        "            this.$el.empty();\n",
        "            for (var i = 0; i < clusters.length; i++) {\n",
        "                this.add_cluster(clusters[i], colors[i]);\n",
        "            }\n",
        "        },\n",
        "    });\n",
        "    \n",
        "    WidgetManager.register_widget_view('ClusterWidget', ClusterWidget);\n",
        "});"
       ],
       "metadata": {},
       "output_type": "display_data",
       "text": [
        "<IPython.core.display.Javascript object>"
       ]
      }
     ],
     "prompt_number": 93
    },
    {
     "cell_type": "code",
     "collapsed": false,
     "input": [
      "cw = ClusterWidget(value=clusters_list, colors=[colors[i] for i in cluster_colors])\n",
      "cw"
     ],
     "language": "python",
     "metadata": {},
     "outputs": [
      {
       "html": [
        "\n",
        "<style>\n",
        "\n",
        "</style>\n",
        "\n",
        "<div id=\"fig34604135273442672664138\"></div>\n",
        "<script>\n",
        "function mpld3_load_lib(url, callback){\n",
        "  var s = document.createElement('script');\n",
        "  s.src = url;\n",
        "  s.async = true;\n",
        "  s.onreadystatechange = s.onload = callback;\n",
        "  s.onerror = function(){console.warn(\"failed to load library \" + url);};\n",
        "  document.getElementsByTagName(\"head\")[0].appendChild(s);\n",
        "}\n",
        "\n",
        "function create_fig34604135273442672664138(){\n",
        "  \n",
        "  mpld3.draw_figure(\"fig34604135273442672664138\", {\"width\": 480.0, \"axes\": [{\"xlim\": [-20.0, 15.0], \"yscale\": \"linear\", \"axesbg\": \"#FFFFFF\", \"texts\": [], \"zoomable\": true, \"images\": [], \"xdomain\": [-20.0, 15.0], \"ylim\": [-25.0, 15.0], \"paths\": [], \"sharey\": [], \"sharex\": [], \"axesbgalpha\": null, \"axes\": [{\"grid\": {\"gridOn\": false}, \"position\": \"bottom\", \"nticks\": 8, \"tickvalues\": null, \"tickformat\": null}, {\"grid\": {\"gridOn\": false}, \"position\": \"left\", \"nticks\": 9, \"tickvalues\": null, \"tickformat\": null}], \"lines\": [], \"markers\": [], \"id\": \"3460406595288\", \"ydomain\": [-25.0, 15.0], \"collections\": [{\"paths\": [[[[0.0, -0.5], [0.13260155, -0.5], [0.25978993539242673, -0.44731684579412084], [0.3535533905932738, -0.3535533905932738], [0.44731684579412084, -0.25978993539242673], [0.5, -0.13260155], [0.5, 0.0], [0.5, 0.13260155], [0.44731684579412084, 0.25978993539242673], [0.3535533905932738, 0.3535533905932738], [0.25978993539242673, 0.44731684579412084], [0.13260155, 0.5], [0.0, 0.5], [-0.13260155, 0.5], [-0.25978993539242673, 0.44731684579412084], [-0.3535533905932738, 0.3535533905932738], [-0.44731684579412084, 0.25978993539242673], [-0.5, 0.13260155], [-0.5, 0.0], [-0.5, -0.13260155], [-0.44731684579412084, -0.25978993539242673], [-0.3535533905932738, -0.3535533905932738], [-0.25978993539242673, -0.44731684579412084], [-0.13260155, -0.5], [0.0, -0.5]], [\"M\", \"C\", \"C\", \"C\", \"C\", \"C\", \"C\", \"C\", \"C\", \"Z\"]]], \"edgecolors\": [\"#A52A2A\"], \"edgewidths\": [1.0], \"offsets\": \"data01\", \"yindex\": 1, \"id\": \"3460337119048\", \"pathtransforms\": [[4.969039949999533, 0.0, 0.0, 4.969039949999533, 0.0, 0.0]], \"pathcoordinates\": \"display\", \"offsetcoordinates\": \"data\", \"zorder\": 1, \"xindex\": 0, \"alphas\": [null], \"facecolors\": [\"#A52A2A\"]}], \"xscale\": \"linear\", \"bbox\": [0.125, 0.125, 0.77500000000000002, 0.77500000000000002]}], \"data\": {\"data01\": [[-3.551513671875, -6.844970703125], [0.51318359375, 1.94970703125], [-3.609619140625, 2.295654296875], [5.24560546875, -3.66943359375], [6.351318359375, -7.343017578125], [-8.616943359375, 2.056640625], [5.799560546875, -1.903076171875], [-0.594482421875, -8.181884765625], [-3.36474609375, 0.761474609375], [-2.242919921875, 0.949951171875], [-0.031494140625, -4.99658203125], [-14.266845703125, -10.727294921875], [-1.798095703125, -5.22265625], [-6.91064453125, -20.091552734375], [-5.208251953125, 2.31982421875], [-4.25439453125, -2.639404296875], [-5.70947265625, -6.536376953125], [-0.60791015625, 0.8330078125], [-6.223876953125, -11.59765625], [3.44287109375, -2.20703125], [2.4697265625, -0.61474609375], [6.343017578125, -8.031494140625], [-3.650390625, 2.70849609375], [0.266357421875, -7.361572265625], [0.56103515625, -2.64501953125], [-3.711181640625, -6.29931640625], [-6.712158203125, -6.8251953125], [-3.972412109375, -3.05615234375], [-10.675048828125, -10.353515625], [-0.6142578125, 0.67724609375], [-3.50830078125, -4.232177734375], [-11.871826171875, -0.248779296875], [-3.60009765625, -7.626220703125], [-1.1416015625, -3.862548828125], [-2.119384765625, -1.882568359375], [0.1435546875, 8.60888671875], [-3.134765625, -7.093017578125], [-10.00146484375, -0.643310546875], [2.176513671875, 1.271484375], [3.09521484375, -4.7666015625], [-9.73828125, -5.556884765625], [-7.267822265625, -1.9638671875], [-8.025634765625, 5.745849609375], [-2.872314453125, -2.536376953125], [1.657958984375, -8.57421875], [9.44580078125, -10.2978515625], [-3.530029296875, -5.458251953125], [6.52099609375, -4.715576171875], [-5.7802734375, -1.9521484375], [2.334716796875, -7.3720703125], [-4.8828125, -7.0595703125], [-3.64306640625, -5.065185546875], [4.634521484375, -9.933349609375], [-6.183349609375, -2.186279296875], [-6.322265625, 1.215087890625], [-4.10107421875, 2.416748046875], [1.61376953125, -13.062255859375], [-7.74267578125, 3.11279296875], [0.530517578125, 0.973876953125], [-8.77734375, -7.014404296875], [-4.072998046875, -5.28125], [-4.408935546875, -7.9287109375], [-5.03125, -4.560791015625], [-0.13720703125, -3.8486328125], [-4.982421875, -4.756103515625], [-8.266845703125, -2.924560546875], [-2.947509765625, -3.533203125], [-14.126708984375, -0.0703125], [-6.54052734375, -4.443603515625], [-3.225341796875, -6.238525390625], [-11.9169921875, 1.533935546875], [-3.2568359375, 2.441162109375], [-9.576171875, -9.087890625], [-6.005126953125, -7.126708984375], [-15.244384765625, 7.9677734375], [-6.91162109375, -3.79248046875], [2.16552734375, -5.085205078125], [8.380126953125, -4.729248046875], [2.59912109375, -3.35009765625], [-0.311279296875, -6.569091796875], [0.505615234375, -9.35693359375], [2.956298828125, -8.791015625], [-8.1513671875, -15.628173828125], [1.072509765625, 1.38720703125], [-11.20849609375, -4.58154296875], [1.557373046875, -10.575927734375], [-5.757568359375, 0.232177734375], [-2.84521484375, -2.279541015625], [5.53076171875, -9.367431640625], [-6.814697265625, -2.436279296875], [-2.090576171875, -8.582763671875], [-0.591064453125, -2.9482421875], [-5.75634765625, -1.9755859375], [-4.80419921875, -7.81396484375], [-4.0986328125, -2.14501953125], [-0.605712890625, -7.185302734375], [0.125244140625, -4.259033203125], [-3.927734375, 3.739013671875], [3.741455078125, -3.91064453125], [-5.645263671875, -5.09912109375], [-9.39697265625, -1.251220703125], [-6.376953125, -6.7822265625], [2.3447265625, -11.076171875], [-6.986572265625, 2.145263671875], [-3.570556640625, -3.51904296875], [-8.65185546875, -15.431396484375], [7.1328125, -4.683837890625], [5.31005859375, -1.9736328125], [-3.437255859375, -8.115234375], [-1.908447265625, -12.000732421875], [4.435791015625, -0.894287109375], [1.333984375, -6.345947265625], [-3.189208984375, -3.80517578125], [-3.591064453125, 3.78662109375], [-2.64990234375, -7.471435546875], [-4.769287109375, -7.155029296875], [7.460693359375, -3.325927734375], [1.307373046875, -2.86572265625], [-5.3349609375, -5.081298828125], [-2.1904296875, 4.859619140625], [2.36474609375, -4.537353515625], [-4.988525390625, -7.960205078125], [-7.468017578125, 3.64013671875], [-5.039794921875, 5.146484375], [-1.55908203125, -3.218994140625], [-4.988037109375, -3.005126953125], [1.884521484375, -9.2744140625], [3.452880859375, -4.237548828125], [-12.94873046875, 2.76708984375]]}, \"id\": \"3460413527344\", \"toolbar\": [\"reset\", \"move\"], \"height\": 320.0});\n",
        "}\n",
        "\n",
        "if(typeof(mpld3) !== \"undefined\"){\n",
        "   // already loaded: just create the figure\n",
        "   create_fig34604135273442672664138();\n",
        "}else if(typeof define === \"function\" && define.amd){\n",
        "   // require.js is available: use it to load d3/mpld3\n",
        "   require.config({paths: {d3: \"http://d3js.org/d3.v3.min\"}});\n",
        "   require([\"d3\"], function(d3){\n",
        "      window.d3 = d3;\n",
        "      mpld3_load_lib(\"http://mpld3.github.io/js/mpld3.v0.1.js\", create_fig34604135273442672664138);\n",
        "    });\n",
        "}else{\n",
        "    // require.js not available: dynamically load d3 & mpld3\n",
        "    mpld3_load_lib(\"http://d3js.org/d3.v3.min.js\", function(){\n",
        "        mpld3_load_lib(\"http://mpld3.github.io/js/mpld3.v0.1.js\", create_fig34604135273442672664138);})\n",
        "}\n",
        "</script>"
       ],
       "metadata": {},
       "output_type": "display_data",
       "png": "[encoded data removed]",
       "text": [
        "<matplotlib.figure.Figure at 0x18a5ed30>"
       ]
      }
     ],
     "prompt_number": 94
    },
    {
     "cell_type": "code",
     "collapsed": false,
     "input": [
      "f = chgrp.spikes.features[:]"
     ],
     "language": "python",
     "metadata": {},
     "outputs": [],
     "prompt_number": 95
    },
    {
     "cell_type": "code",
     "collapsed": false,
     "input": [
      "def plot(clu):\n",
      "    spk = spkclu==clu\n",
      "    plt.scatter(f[spk,0],f[spk,1],color=colors[cluster_colors[clusters_list.index(clu)]]);"
     ],
     "language": "python",
     "metadata": {},
     "outputs": [],
     "prompt_number": 96
    }
   ],
   "metadata": {}
  }
 ]
}
{
 "metadata": {
  "name": "",
  "signature": "sha256:9fc9d3a580e47343d42ba5ec857b0844de752e2a210e0f308717906a3b4f8e1e"
 },
 "nbformat": 3,
 "nbformat_minor": 0,
 "worksheets": [
  {
   "cells": [
    {
     "cell_type": "markdown",
     "metadata": {},
     "source": [
      "# Pure Python correlograms"
     ]
    },
    {
     "cell_type": "markdown",
     "metadata": {},
     "source": [
      "Imports."
     ]
    },
    {
     "cell_type": "code",
     "collapsed": false,
     "input": [
      "import numpy as np\n",
      "from numpy.lib.stride_tricks import as_strided\n",
      "from klustaviewa.stats.correlograms import compute_correlograms"
     ],
     "language": "python",
     "metadata": {},
     "outputs": [],
     "prompt_number": 51
    },
    {
     "cell_type": "markdown",
     "metadata": {},
     "source": [
      "## Mock dataset"
     ]
    },
    {
     "cell_type": "markdown",
     "metadata": {},
     "source": [
      "Define the two spike trains."
     ]
    },
    {
     "cell_type": "code",
     "collapsed": false,
     "input": [
      "# 20 samples per ms\n",
      "sr = 20000\n",
      "# one spike every 20 ms\n",
      "train0 = np.arange(0, 20000, 20*20).astype(np.int64)\n",
      "# 30 samples between train 0 and train 1\n",
      "train1 = train0 + 30\n",
      "spiketimes = np.hstack((train0, train1))"
     ],
     "language": "python",
     "metadata": {},
     "outputs": [],
     "prompt_number": 52
    },
    {
     "cell_type": "markdown",
     "metadata": {},
     "source": [
      "Generate the clusters: first spike train = cluster 0, second one = cluster 1."
     ]
    },
    {
     "cell_type": "code",
     "collapsed": false,
     "input": [
      "clusters = np.hstack((np.zeros(len(train0), dtype=np.int32),\n",
      "                       np.ones(len(train1), dtype=np.int32)))"
     ],
     "language": "python",
     "metadata": {},
     "outputs": [],
     "prompt_number": 53
    },
    {
     "cell_type": "code",
     "collapsed": false,
     "input": [
      "nclusters = len(np.unique(clusters))"
     ],
     "language": "python",
     "metadata": {},
     "outputs": [],
     "prompt_number": 54
    },
    {
     "cell_type": "markdown",
     "metadata": {},
     "source": [
      "Sort both spike times and clusters in time."
     ]
    },
    {
     "cell_type": "code",
     "collapsed": false,
     "input": [
      "indices_sorting = np.argsort(spiketimes)\n",
      "spiketimes = spiketimes[indices_sorting]\n",
      "clusters = clusters[indices_sorting]"
     ],
     "language": "python",
     "metadata": {},
     "outputs": [],
     "prompt_number": 55
    },
    {
     "cell_type": "code",
     "collapsed": false,
     "input": [
      "halfwindow = int(.01*sr)  # half-window = 10 ms\n",
      "binsize = int(.001*sr)  # in time samples\n",
      "window = 2 * halfwindow + 1  # full size of the window. 0 is the center bin.\n",
      "nbins = 2*int(halfwindow // binsize) + 1\n",
      "assert nbins % 2 == 1"
     ],
     "language": "python",
     "metadata": {},
     "outputs": [],
     "prompt_number": 90
    },
    {
     "cell_type": "markdown",
     "metadata": {},
     "source": [
      "Test function."
     ]
    },
    {
     "cell_type": "code",
     "collapsed": false,
     "input": [
      "def test_correlograms(correlograms):\n",
      "    c01 = np.zeros(20, dtype=np.int32)\n",
      "    c01[11] = 50\n",
      "\n",
      "    c10 = np.zeros(20, dtype=np.int32)\n",
      "    c10[8] = 50\n",
      "\n",
      "    return(np.array_equal(correlograms[(0, 0)], np.zeros(20)),\n",
      "           np.array_equal(correlograms[(1, 1)], np.zeros(20)),\n",
      "           np.array_equal(correlograms[(0, 1)], c01),\n",
      "           np.array_equal(correlograms[(1, 0)], c10),)"
     ],
     "language": "python",
     "metadata": {},
     "outputs": [],
     "prompt_number": 57
    },
    {
     "cell_type": "markdown",
     "metadata": {},
     "source": [
      "## Original Cython implementation"
     ]
    },
    {
     "cell_type": "markdown",
     "metadata": {},
     "source": [
      "Compute the correlograms with the current Cython implementation."
     ]
    },
    {
     "cell_type": "code",
     "collapsed": false,
     "input": [
      "correlograms = compute_correlograms(spiketimes/float(sr),  # warning: float version for now\n",
      "                                    clusters,\n",
      "                                    ncorrbins=(nbins//2)*2, corrbin=binsize/float(sr))"
     ],
     "language": "python",
     "metadata": {},
     "outputs": [],
     "prompt_number": 58
    },
    {
     "cell_type": "code",
     "collapsed": false,
     "input": [
      "print(correlograms[(0, 0)])\n",
      "print(correlograms[(1, 1)])\n",
      "print(correlograms[(0, 1)])\n",
      "print(correlograms[(1, 0)])"
     ],
     "language": "python",
     "metadata": {},
     "outputs": [
      {
       "output_type": "stream",
       "stream": "stdout",
       "text": [
        "[50  0 49  0  0  0  0  0  0  0]\n",
        "[50  0 49  0  0  0  0  0  0  0]\n",
        "[ 0 49  0  0  0  0  0  0  0  0]\n",
        "[ 0 50  0  0  0  0  0  0  0  0]\n"
       ]
      }
     ],
     "prompt_number": 95
    },
    {
     "cell_type": "code",
     "collapsed": false,
     "input": [
      "test_correlograms(correlograms)"
     ],
     "language": "python",
     "metadata": {},
     "outputs": [
      {
       "metadata": {},
       "output_type": "pyout",
       "prompt_number": 60,
       "text": [
        "(True, True, True, True)"
       ]
      }
     ],
     "prompt_number": 60
    },
    {
     "cell_type": "markdown",
     "metadata": {},
     "source": [
      "## Pure Python implementation"
     ]
    },
    {
     "cell_type": "markdown",
     "metadata": {},
     "source": [
      "### Utility functions"
     ]
    },
    {
     "cell_type": "markdown",
     "metadata": {},
     "source": [
      "#### Increment function"
     ]
    },
    {
     "cell_type": "markdown",
     "metadata": {},
     "source": [
      "Increment utility function that takes repeated indices into account."
     ]
    },
    {
     "cell_type": "code",
     "collapsed": false,
     "input": [
      "def increment(arr, indices):\n",
      "    \"\"\"Increment some indices in a 1D vector of non-negative integers.\n",
      "    Repeated indices are taken into account.\"\"\"\n",
      "    bbins = np.bincount(indices)\n",
      "    arr[:len(bbins)] += bbins\n",
      "    return arr"
     ],
     "language": "python",
     "metadata": {},
     "outputs": [],
     "prompt_number": 61
    },
    {
     "cell_type": "code",
     "collapsed": false,
     "input": [
      "a = np.arange(10)\n",
      "b = [0, 2, 4, 2, 2, 2, 2, 2, 2]\n",
      "increment(a, b)"
     ],
     "language": "python",
     "metadata": {},
     "outputs": [
      {
       "metadata": {},
       "output_type": "pyout",
       "prompt_number": 62,
       "text": [
        "array([1, 1, 9, 3, 5, 5, 6, 7, 8, 9])"
       ]
      }
     ],
     "prompt_number": 62
    },
    {
     "cell_type": "markdown",
     "metadata": {},
     "source": [
      "#### Shift-diff"
     ]
    },
    {
     "cell_type": "markdown",
     "metadata": {},
     "source": [
      "Return a diff between a shifted version of the array, and the array. The source is the original array, the target is the shifted array."
     ]
    },
    {
     "cell_type": "code",
     "collapsed": false,
     "input": [
      "def shiftdiff(arr, steps):\n",
      "    return arr[steps:] - arr[:len(arr)-steps]"
     ],
     "language": "python",
     "metadata": {},
     "outputs": [],
     "prompt_number": 63
    },
    {
     "cell_type": "code",
     "collapsed": false,
     "input": [
      "print(shiftdiff(np.array([2, 3, 5, 7, 11, 13, 17]), 1))\n",
      "print(shiftdiff(np.array([2, 3, 5, 7, 11, 13, 17]), 2))"
     ],
     "language": "python",
     "metadata": {},
     "outputs": [
      {
       "output_type": "stream",
       "stream": "stdout",
       "text": [
        "[1 2 2 4 2 4]\n",
        "[3 4 6 6 6]\n"
       ]
      }
     ],
     "prompt_number": 64
    },
    {
     "cell_type": "markdown",
     "metadata": {},
     "source": [
      "#### Binarize"
     ]
    },
    {
     "cell_type": "code",
     "collapsed": false,
     "input": [
      "def binarize(delays, binsize=None):\n",
      "    return delays // binsize"
     ],
     "language": "python",
     "metadata": {},
     "outputs": [],
     "prompt_number": 65
    },
    {
     "cell_type": "code",
     "collapsed": false,
     "input": [
      "binarize(np.array([1, 3, 10, 15, 20, 30, 50, 100]), 10)"
     ],
     "language": "python",
     "metadata": {},
     "outputs": [
      {
       "metadata": {},
       "output_type": "pyout",
       "prompt_number": 66,
       "text": [
        "array([ 0,  0,  1,  1,  2,  3,  5, 10])"
       ]
      }
     ],
     "prompt_number": 66
    },
    {
     "cell_type": "markdown",
     "metadata": {},
     "source": [
      "#### Data structures"
     ]
    },
    {
     "cell_type": "code",
     "collapsed": false,
     "input": [
      "def create_correlograms_array(nclusters, nbins):\n",
      "    return np.zeros((nclusters, nclusters, nbins), dtype=np.int32)"
     ],
     "language": "python",
     "metadata": {},
     "outputs": [],
     "prompt_number": 71
    },
    {
     "cell_type": "code",
     "collapsed": false,
     "input": [
      "def get_flat_indices(indices, nclusters, nbins):\n",
      "    return np.ravel_multi_index(indices, (nclusters, nclusters, nbins))"
     ],
     "language": "python",
     "metadata": {},
     "outputs": [],
     "prompt_number": 72
    },
    {
     "cell_type": "code",
     "collapsed": false,
     "input": [
      "def get_correlograms_indices(clusters, shift, nclusters, nbins):\n",
      "    # TODO: non-contiguous cluster indices (relative/absolute indexing)\n",
      "    # Swap the first two dimensions below to swap x/y axes in the correlograms matrix.\n",
      "    indices = (clusters[shift:], clusters[:len(clusters)-shift], shift)\n",
      "    return get_flat_indices(indices, nclusters, nbins)"
     ],
     "language": "python",
     "metadata": {},
     "outputs": [],
     "prompt_number": 73
    },
    {
     "cell_type": "markdown",
     "metadata": {},
     "source": [
      "### Implementation"
     ]
    },
    {
     "cell_type": "code",
     "collapsed": false,
     "input": [
      "correlograms = create_correlograms_array(nclusters, nbins//2)\n",
      "correlograms_r = correlograms.ravel()\n",
      "\n",
      "shift = 0  # shift between the two copies of the spike trains\n",
      "mindelay = 0  # minimum delay between any two spikes separated by `step`\n",
      "while mindelay <= halfwindow:  # stop when all spikes are separated more than the window size\n",
      "    spikediff = shiftdiff(spiketimes, shift)\n",
      "    \n",
      "    # Calculate the minimum delay, used for the termination condition in the loop.\n",
      "    mindelay = spikediff.min()\n",
      "    \n",
      "    # Binarize the delays between spikes.\n",
      "    spikediff_b = binarize(spikediff, binsize=binsize)\n",
      "    \n",
      "    # Find the indices in the raveled correlograms array that need to be incremented,\n",
      "    # taking into account the spike clusters.\n",
      "    indices = get_correlograms_indices(clusters, shift, nclusters, nbins//2)\n",
      "    \n",
      "    # Increment the final correlograms (making sure duplicates are being\n",
      "    # taken into account).\n",
      "    increment(correlograms_r, indices)\n",
      "    \n",
      "    shift += 1"
     ],
     "language": "python",
     "metadata": {},
     "outputs": [],
     "prompt_number": 91
    },
    {
     "cell_type": "code",
     "collapsed": false,
     "input": [
      "print(correlograms[0,0,:].tolist())\n",
      "print(correlograms[1,1,:].tolist())\n",
      "print(correlograms[0,1,:].tolist())\n",
      "print(correlograms[1,0,:].tolist())"
     ],
     "language": "python",
     "metadata": {},
     "outputs": [
      {
       "output_type": "stream",
       "stream": "stdout",
       "text": [
        "[50, 0, 49, 0, 0, 0, 0, 0, 0, 0]\n",
        "[50, 0, 49, 0, 0, 0, 0, 0, 0, 0]\n",
        "[0, 49, 0, 0, 0, 0, 0, 0, 0, 0]\n",
        "[0, 50, 0, 0, 0, 0, 0, 0, 0, 0]\n"
       ]
      }
     ],
     "prompt_number": 97
    }
   ],
   "metadata": {}
  }
 ]
}
{
 "cells": [
  {
   "cell_type": "markdown",
   "metadata": {},
   "source": [
    "# Manual clustering with phy"
   ]
  },
  {
   "cell_type": "markdown",
   "metadata": {},
   "source": [
    "This notebook example gives an overview of the Python API for manual clustering provided by the [phy](https://github.com/kwikteam/phy) library."
   ]
  },
  {
   "cell_type": "markdown",
   "metadata": {},
   "source": [
    "## Loading a dataset"
   ]
  },
  {
   "cell_type": "markdown",
   "metadata": {},
   "source": [
    "Let's import the library:"
   ]
  },
  {
   "cell_type": "code",
   "execution_count": 1,
   "metadata": {
    "collapsed": true
   },
   "outputs": [],
   "source": [
    "import phy\n",
    "from phy.cluster.manual.session import Session"
   ]
  },
  {
   "cell_type": "markdown",
   "metadata": {},
   "source": [
    "We'll also need a few standard scientific Python libraries."
   ]
  },
  {
   "cell_type": "code",
   "execution_count": 2,
   "metadata": {
    "collapsed": true
   },
   "outputs": [],
   "source": [
    "import numpy as np\n",
    "import matplotlib.pyplot as plt\n",
    "import seaborn as sns\n",
    "%matplotlib inline\n",
    "%gui qt"
   ]
  },
  {
   "cell_type": "markdown",
   "metadata": {},
   "source": [
    "This is the full path to a Kwik file:"
   ]
  },
  {
   "cell_type": "code",
   "execution_count": 3,
   "metadata": {
    "collapsed": true
   },
   "outputs": [],
   "source": [
    "filename = \"/home/cyrille/1_simple120sec/test_hybrid_120sec.kwik\""
   ]
  },
  {
   "cell_type": "markdown",
   "metadata": {},
   "source": [
    "The `Session` is the main gateway to your clustering session. It gives you access to the data, the clustering process, and the views."
   ]
  },
  {
   "cell_type": "code",
   "execution_count": 4,
   "metadata": {
    "collapsed": false
   },
   "outputs": [],
   "source": [
    "session = Session()"
   ]
  },
  {
   "cell_type": "markdown",
   "metadata": {},
   "source": [
    "This is the command to open the dataset:"
   ]
  },
  {
   "cell_type": "code",
   "execution_count": 5,
   "metadata": {
    "collapsed": false
   },
   "outputs": [
    {
     "name": "stdout",
     "output_type": "stream",
     "text": [
      "Initializing the cluster store: 4.00%.\r",
      "Initializing the cluster store: 8.00%.\r",
      "Initializing the cluster store: 12.00%.\r",
      "Initializing the cluster store: 16.00%.\r",
      "Initializing the cluster store: 20.00%.\r",
      "Initializing the cluster store: 24.00%.\r",
      "Initializing the cluster store: 28.00%.\r",
      "Initializing the cluster store: 32.00%.\r",
      "Initializing the cluster store: 36.00%.\r",
      "Initializing the cluster store: 40.00%.\r",
      "Initializing the cluster store: 44.00%.\r",
      "Initializing the cluster store: 48.00%.\r",
      "Initializing the cluster store: 52.00%.\r",
      "Initializing the cluster store: 56.00%.\r",
      "Initializing the cluster store: 60.00%.\r",
      "Initializing the cluster store: 64.00%.\r",
      "Initializing the cluster store: 68.00%.\r",
      "Initializing the cluster store: 72.00%.\r",
      "Initializing the cluster store: 76.00%.\r",
      "Initializing the cluster store: 80.00%.\r",
      "Initializing the cluster store: 84.00%.\r",
      "Initializing the cluster store: 88.00%.\r",
      "Initializing the cluster store: 92.00%.\r",
      "Initializing the cluster store: 96.00%.\r"
     ]
    }
   ],
   "source": [
    "session.open(filename)"
   ]
  },
  {
   "cell_type": "markdown",
   "metadata": {},
   "source": [
    "The very first call may last a few minutes, because an internal cache is created in the same folder as your data. This will make the program much faster. Once the cache exists, re-loading the data is very fast."
   ]
  },
  {
   "cell_type": "markdown",
   "metadata": {},
   "source": [
    "## What's in the data?"
   ]
  },
  {
   "cell_type": "markdown",
   "metadata": {},
   "source": [
    "You can use tab completion in IPython to inspect the properties provided by the `Session` object. Type `session.<TAB>`:"
   ]
  },
  {
   "cell_type": "markdown",
   "metadata": {},
   "source": [
    "    session."
   ]
  },
  {
   "cell_type": "markdown",
   "metadata": {},
   "source": [
    "The `Session` object provides several useful methods, as we'll see later. It also gives access to two other important objects:\n",
    "\n",
    "* `session.model` stores the experiment's data\n",
    "* `session.clustering` is responsible for the manual clustering process"
   ]
  },
  {
   "cell_type": "markdown",
   "metadata": {},
   "source": [
    "For now, let's have a look at the model."
   ]
  },
  {
   "cell_type": "code",
   "execution_count": 6,
   "metadata": {
    "collapsed": true
   },
   "outputs": [],
   "source": [
    "model = session.model"
   ]
  },
  {
   "cell_type": "markdown",
   "metadata": {},
   "source": [
    "Here are a few details about the experiment:"
   ]
  },
  {
   "cell_type": "markdown",
   "metadata": {},
   "source": [
    "> Note: [support for multiple shanks is still WIP](https://github.com/kwikteam/phy/issues/142). Currently, phy loads the first shank automatically."
   ]
  },
  {
   "cell_type": "code",
   "execution_count": 7,
   "metadata": {
    "collapsed": false
   },
   "outputs": [
    {
     "data": {
      "text/plain": [
       "18539"
      ]
     },
     "execution_count": 7,
     "metadata": {},
     "output_type": "execute_result"
    }
   ],
   "source": [
    "model.n_spikes"
   ]
  },
  {
   "cell_type": "code",
   "execution_count": 8,
   "metadata": {
    "collapsed": false
   },
   "outputs": [
    {
     "data": {
      "text/plain": [
       "32"
      ]
     },
     "execution_count": 8,
     "metadata": {},
     "output_type": "execute_result"
    }
   ],
   "source": [
    "model.n_channels"
   ]
  },
  {
   "cell_type": "markdown",
   "metadata": {},
   "source": [
    "The `metadata` is a dictionary with various parameters used for automatic clustering (as used in SpikeDetekt2 and KlustaKwik)."
   ]
  },
  {
   "cell_type": "code",
   "execution_count": 9,
   "metadata": {
    "collapsed": false,
    "scrolled": true
   },
   "outputs": [
    {
     "data": {
      "text/plain": [
       "{'__doc__': b'Contain default parameters.',\n",
       " 'assigntofirstclosestmask': 1,\n",
       " 'chunk_overlap': 300,\n",
       " 'chunk_size': 20000,\n",
       " 'connected_component_join_size': 1,\n",
       " 'debug': 0,\n",
       " 'detect_spikes': b'negative',\n",
       " 'excerpt_size': 20000,\n",
       " 'experiment_name': b'test_hybrid_120sec',\n",
       " 'extract_s_after': 16,\n",
       " 'extract_s_before': 16,\n",
       " 'filter_butter_order': 3,\n",
       " 'filter_high': 9500.0,\n",
       " 'filter_lfp_high': 300,\n",
       " 'filter_lfp_low': 0,\n",
       " 'filter_low': 500.0,\n",
       " 'fullstepevery': 10,\n",
       " 'maskstarts': 100,\n",
       " 'maxiter': 10000,\n",
       " 'maxpossibleclusters': 500,\n",
       " 'nbits': 16,\n",
       " 'nchannels': 32,\n",
       " 'nexcerpts': 50,\n",
       " 'nfeatures_per_channel': 3,\n",
       " 'pca_nwaveforms_max': 10000,\n",
       " 'penaltyk': 0,\n",
       " 'penaltyklogn': 1,\n",
       " 'prb_file': b'32chan1shankbuzsaki.prb',\n",
       " 'priorpoint': 1,\n",
       " 'randomseed': 654,\n",
       " 'raw_data_files': b'test_hybrid_120sec.raw.kwd',\n",
       " 'sample_rate': 20000,\n",
       " 'savecovariancemeans': 0,\n",
       " 'savesorted': 0,\n",
       " 'splitevery': 100,\n",
       " 'splitfirst': 20,\n",
       " 'subset': 1,\n",
       " 'threshold_strong_std_factor': 4.5,\n",
       " 'threshold_weak_std_factor': 2.0,\n",
       " 'usedistributional': 1,\n",
       " 'usemaskedinitialconditions': 1,\n",
       " 'voltage_gain': 10.0,\n",
       " 'waveforms_nsamples': 32}"
      ]
     },
     "execution_count": 9,
     "metadata": {},
     "output_type": "execute_result"
    }
   ],
   "source": [
    "model.metadata"
   ]
  },
  {
   "cell_type": "code",
   "execution_count": 10,
   "metadata": {
    "collapsed": true
   },
   "outputs": [],
   "source": [
    "st = model.spike_samples\n",
    "sc = model.spike_clusters"
   ]
  },
  {
   "cell_type": "markdown",
   "metadata": {},
   "source": [
    "Both arrays have `n_spikes` elements. The following contains the spike times in number of samples:"
   ]
  },
  {
   "cell_type": "code",
   "execution_count": 11,
   "metadata": {
    "collapsed": false
   },
   "outputs": [
    {
     "data": {
      "text/plain": [
       "array([     35,     795,     812, ..., 2398670, 2398753, 2399983], dtype=uint64)"
      ]
     },
     "execution_count": 11,
     "metadata": {},
     "output_type": "execute_result"
    }
   ],
   "source": [
    "st"
   ]
  },
  {
   "cell_type": "markdown",
   "metadata": {},
   "source": [
    "And here are the corresponding spike clusters:"
   ]
  },
  {
   "cell_type": "code",
   "execution_count": 12,
   "metadata": {
    "collapsed": false
   },
   "outputs": [
    {
     "data": {
      "text/plain": [
       "array([20, 10, 25, ..., 10, 12, 20], dtype=uint32)"
      ]
     },
     "execution_count": 12,
     "metadata": {},
     "output_type": "execute_result"
    }
   ],
   "source": [
    "sc"
   ]
  },
  {
   "cell_type": "markdown",
   "metadata": {},
   "source": [
    "Having access to the data in the notebook means that you can run any analysis or visualization you want, even if they're not yet implemented in phy. For example, there isn't yet a function for computing the firing rate (there will be eventually), but in the meantime you can do it easily with NumPy/matplotlib. As an example, here is the firing rate of the population over time:"
   ]
  },
  {
   "cell_type": "code",
   "execution_count": 13,
   "metadata": {
    "collapsed": false
   },
   "outputs": [
    {
     "data": {
      "image/png": "[encoded data removed]",
      "text/plain": [
       "<matplotlib.figure.Figure at 0x7f6604055d30>"
      ]
     },
     "metadata": {},
     "output_type": "display_data"
    }
   ],
   "source": [
    "bins = np.linspace(0, st.max(), 1000)\n",
    "plt.hist(st, bins);"
   ]
  },
  {
   "cell_type": "markdown",
   "metadata": {},
   "source": [
    "## Probe"
   ]
  },
  {
   "cell_type": "markdown",
   "metadata": {},
   "source": [
    "Here is how you can get the probe positions and make a plot:"
   ]
  },
  {
   "cell_type": "code",
   "execution_count": 14,
   "metadata": {
    "collapsed": true
   },
   "outputs": [],
   "source": [
    "channel_pos = model.probe.positions"
   ]
  },
  {
   "cell_type": "code",
   "execution_count": 15,
   "metadata": {
    "collapsed": false
   },
   "outputs": [
    {
     "data": {
      "image/png": "[encoded data removed]",
      "text/plain": [
       "<matplotlib.figure.Figure at 0x7f65f0f81128>"
      ]
     },
     "metadata": {},
     "output_type": "display_data"
    }
   ],
   "source": [
    "plt.scatter(channel_pos[:, 0], channel_pos[:, 1]);"
   ]
  },
  {
   "cell_type": "markdown",
   "metadata": {},
   "source": [
    "## Clusters"
   ]
  },
  {
   "cell_type": "markdown",
   "metadata": {},
   "source": [
    "To find out the list of clusters present in the file, you can use the `clustering` object:"
   ]
  },
  {
   "cell_type": "code",
   "execution_count": 16,
   "metadata": {
    "collapsed": true
   },
   "outputs": [],
   "source": [
    "clustering = session.clustering"
   ]
  },
  {
   "cell_type": "markdown",
   "metadata": {},
   "source": [
    "Again, you can inspect the properties and methods of this object with tab completion. Here are the main properties:"
   ]
  },
  {
   "cell_type": "code",
   "execution_count": 17,
   "metadata": {
    "collapsed": false
   },
   "outputs": [
    {
     "data": {
      "text/plain": [
       "24"
      ]
     },
     "execution_count": 17,
     "metadata": {},
     "output_type": "execute_result"
    }
   ],
   "source": [
    "clustering.n_clusters"
   ]
  },
  {
   "cell_type": "markdown",
   "metadata": {},
   "source": [
    "Here is the list of clusters:"
   ]
  },
  {
   "cell_type": "code",
   "execution_count": 18,
   "metadata": {
    "collapsed": false,
    "scrolled": false
   },
   "outputs": [
    {
     "data": {
      "text/plain": [
       "array([ 2,  3,  4,  5,  6,  7,  8,  9, 10, 11, 12, 13, 14, 15, 16, 17, 18,\n",
       "       19, 20, 21, 22, 23, 24, 25], dtype=uint32)"
      ]
     },
     "execution_count": 18,
     "metadata": {},
     "output_type": "execute_result"
    }
   ],
   "source": [
    "clustering.cluster_ids"
   ]
  },
  {
   "cell_type": "markdown",
   "metadata": {},
   "source": [
    "> Note: cluster identifiers are unique. A given cluster as identified by its ID cannot change. If a merge happens, the old clusters are deleted and a new one is created. Idem for splits. This assumption makes the implementation much simpler."
   ]
  },
  {
   "cell_type": "markdown",
   "metadata": {},
   "source": [
    "Here are the number of spikes in the clusters:"
   ]
  },
  {
   "cell_type": "code",
   "execution_count": 19,
   "metadata": {
    "collapsed": false
   },
   "outputs": [
    {
     "data": {
      "text/plain": [
       "{2: 553,\n",
       " 3: 188,\n",
       " 4: 708,\n",
       " 5: 260,\n",
       " 6: 265,\n",
       " 7: 667,\n",
       " 8: 752,\n",
       " 9: 1025,\n",
       " 10: 6023,\n",
       " 11: 402,\n",
       " 12: 1740,\n",
       " 13: 159,\n",
       " 14: 487,\n",
       " 15: 554,\n",
       " 16: 731,\n",
       " 17: 350,\n",
       " 18: 550,\n",
       " 19: 214,\n",
       " 20: 354,\n",
       " 21: 550,\n",
       " 22: 404,\n",
       " 23: 360,\n",
       " 24: 825,\n",
       " 25: 418}"
      ]
     },
     "execution_count": 19,
     "metadata": {},
     "output_type": "execute_result"
    }
   ],
   "source": [
    "clustering.cluster_counts"
   ]
  },
  {
   "cell_type": "markdown",
   "metadata": {},
   "source": [
    "Finally, the following variable is available for advanced uses: it is a dictionary mapping every cluster id to the list of spikes belonging to that cluster."
   ]
  },
  {
   "cell_type": "markdown",
   "metadata": {},
   "source": [
    "    clustering.spikes_per_cluster"
   ]
  },
  {
   "cell_type": "markdown",
   "metadata": {},
   "source": [
    "## Visualization for manual sorting"
   ]
  },
  {
   "cell_type": "markdown",
   "metadata": {},
   "source": [
    "Let's now move to the rich visualization widgets for manual clustering. There are three types of views currently implemented:\n",
    "\n",
    "* **Feature view**\n",
    "* **Waveform view**\n",
    "* **Correlograms view**"
   ]
  },
  {
   "cell_type": "markdown",
   "metadata": {},
   "source": [
    "Let's open a waveform view:"
   ]
  },
  {
   "cell_type": "code",
   "execution_count": 20,
   "metadata": {
    "collapsed": false
   },
   "outputs": [],
   "source": [
    "w = session.show_waveforms()"
   ]
  },
  {
   "cell_type": "markdown",
   "metadata": {},
   "source": [
    "This should open a black window on your computer. It doesn't contain anything yet, because we have to select clusters first."
   ]
  },
  {
   "cell_type": "markdown",
   "metadata": {},
   "source": [
    "A **wizard** proposing pairs of candidate clusters for merging is still in the works. In the meantime, you can use Python to select interesting clusters. For example, let's look the biggest clusters:"
   ]
  },
  {
   "cell_type": "code",
   "execution_count": 21,
   "metadata": {
    "collapsed": false
   },
   "outputs": [
    {
     "data": {
      "text/plain": [
       "[(10, 6023), (12, 1740), (9, 1025), (24, 825), (8, 752)]"
      ]
     },
     "execution_count": 21,
     "metadata": {},
     "output_type": "execute_result"
    }
   ],
   "source": [
    "# This sorts the dictionary by value (spike count) in decreasing order.\n",
    "from operator import itemgetter\n",
    "biggest = sorted(clustering.cluster_counts.items(), key=itemgetter(1))\n",
    "biggest[-1:-6:-1]"
   ]
  },
  {
   "cell_type": "markdown",
   "metadata": {},
   "source": [
    "The biggest cluster is the noise. Let's have a look at the next one:"
   ]
  },
  {
   "cell_type": "code",
   "execution_count": 22,
   "metadata": {
    "collapsed": false,
    "scrolled": true
   },
   "outputs": [],
   "source": [
    "session.select([12])"
   ]
  },
  {
   "cell_type": "markdown",
   "metadata": {},
   "source": [
    "> You can pan and zoom with the mouse and the keyboard. The interaction patterns will be improved in the future."
   ]
  },
  {
   "cell_type": "markdown",
   "metadata": {},
   "source": [
    "Here is the feature view:"
   ]
  },
  {
   "cell_type": "code",
   "execution_count": 23,
   "metadata": {
    "collapsed": false,
    "scrolled": true
   },
   "outputs": [],
   "source": [
    "f = session.show_features()"
   ]
  },
  {
   "cell_type": "markdown",
   "metadata": {},
   "source": [
    "The feature view displays the features of the selected clusters in several dimensions. The first dimension is time. The other are three channels that contain the highest number of unmasked spikes for these clusters."
   ]
  },
  {
   "cell_type": "markdown",
   "metadata": {},
   "source": [
    "There can be an arbitrary number of dimensions. There is no GUI yet to choose them, but in the meantime you can select dimensions manually like this:"
   ]
  },
  {
   "cell_type": "code",
   "execution_count": 24,
   "metadata": {
    "collapsed": false
   },
   "outputs": [],
   "source": [
    "# f.view.dimensions = ['time', (1, 0), (2, 0), (3, 0)]"
   ]
  },
  {
   "cell_type": "markdown",
   "metadata": {},
   "source": [
    "This automatically updates the feature view. In this list, every item is a dimension represented by a column (or row, the grid is mostly symmetrical). The dimension can be either `'time'` or a tuple `(channel, feature)` where `feature` is typically 0, 1, or 2. On the diagonal, instead of seeing dimension `(channel, feature)` over the same dimension `(channel, feature)`, you see `(channel, feature)` over `(channel, feature_bis)` where `feature_bis = 1 - feature` (this will probably be improved in the future)."
   ]
  },
  {
   "cell_type": "markdown",
   "metadata": {},
   "source": [
    "Finally, here are the correlograms (they are computed on the fly):"
   ]
  },
  {
   "cell_type": "code",
   "execution_count": 25,
   "metadata": {
    "collapsed": false,
    "scrolled": true
   },
   "outputs": [
    {
     "data": {
      "text/plain": [
       "<phy.cluster.manual.view_model.CorrelogramViewModel at 0x7f65f135aa90>"
      ]
     },
     "execution_count": 25,
     "metadata": {},
     "output_type": "execute_result"
    }
   ],
   "source": [
    "session.show_correlograms()"
   ]
  },
  {
   "cell_type": "markdown",
   "metadata": {},
   "source": [
    "## Clustering"
   ]
  },
  {
   "cell_type": "markdown",
   "metadata": {},
   "source": [
    "The `session` object implements some methods for clustering:"
   ]
  },
  {
   "cell_type": "markdown",
   "metadata": {},
   "source": [
    "* `session.merge(clusters)`: this creates a new cluster out of the spikes contained in the specified clusters. The old clusters are deleted.\n",
    "* `session.split(spikes)`: this create a new cluster out of the selected spikes. Since the old clusters are all modified as a result of this, their identifiers are all updated (they become new clusters with some spikes missing).\n",
    "* `undo()` and `redo()`."
   ]
  },
  {
   "cell_type": "markdown",
   "metadata": {},
   "source": [
    "> See the next notebook example for a test of the clustering functionality."
   ]
  },
  {
   "cell_type": "markdown",
   "metadata": {},
   "source": [
    "## Features and waveforms"
   ]
  },
  {
   "cell_type": "markdown",
   "metadata": {},
   "source": [
    "You can also access the features and waveforms data directly:"
   ]
  },
  {
   "cell_type": "markdown",
   "metadata": {},
   "source": [
    "This is the `features_masks` array stored in the KWX file, memory-mapped by h5py:"
   ]
  },
  {
   "cell_type": "code",
   "execution_count": 26,
   "metadata": {
    "collapsed": false
   },
   "outputs": [
    {
     "data": {
      "text/plain": [
       "<HDF5 dataset \"features_masks\": shape (18539, 96, 2), type \"<f4\">"
      ]
     },
     "execution_count": 26,
     "metadata": {},
     "output_type": "execute_result"
    }
   ],
   "source": [
    "model.features_masks"
   ]
  },
  {
   "cell_type": "code",
   "execution_count": 27,
   "metadata": {
    "collapsed": false
   },
   "outputs": [
    {
     "data": {
      "text/plain": [
       "(18539, 96)"
      ]
     },
     "execution_count": 27,
     "metadata": {},
     "output_type": "execute_result"
    }
   ],
   "source": [
    "model.features.shape"
   ]
  },
  {
   "cell_type": "markdown",
   "metadata": {},
   "source": [
    "You can use it as a normal NumPy array, but be careful because some access patterns are slow. If you want per-cluster data, you'd better use the cluster store (see later in this notebook.)"
   ]
  },
  {
   "cell_type": "code",
   "execution_count": 28,
   "metadata": {
    "collapsed": false
   },
   "outputs": [
    {
     "data": {
      "text/plain": [
       "array([[  3.23068309,   6.34757376,   8.63135719,   1.46410561,\n",
       "         -2.43757582],\n",
       "       [  0.47218394,  -1.33231926,   1.6220597 ,  11.68298244,\n",
       "         10.87937546],\n",
       "       [ -3.53801465,  -5.62805319,   1.99024045,   0.91526592,\n",
       "          4.60342264]], dtype=float32)"
      ]
     },
     "execution_count": 28,
     "metadata": {},
     "output_type": "execute_result"
    }
   ],
   "source": [
    "model.features[10:13, :5]"
   ]
  },
  {
   "cell_type": "markdown",
   "metadata": {},
   "source": [
    "You can also access the waveforms. But note that these are not obtained from the KWX file: they are obtained directly from the raw data in the KWD file. This is because we'll remove the waveforms from the KWX file in the next version of the file format."
   ]
  },
  {
   "cell_type": "markdown",
   "metadata": {},
   "source": [
    "This looks like an array, but it's rather a proxy to the waveforms in the KWD file. Waveforms are filtered on-the-fly when they're loaded:"
   ]
  },
  {
   "cell_type": "code",
   "execution_count": 29,
   "metadata": {
    "collapsed": false,
    "scrolled": true
   },
   "outputs": [
    {
     "data": {
      "text/plain": [
       "(18539, 32, 32)"
      ]
     },
     "execution_count": 29,
     "metadata": {},
     "output_type": "execute_result"
    }
   ],
   "source": [
    "model.waveforms.shape"
   ]
  },
  {
   "cell_type": "markdown",
   "metadata": {},
   "source": [
    "This shows the waveforms of one spike:"
   ]
  },
  {
   "cell_type": "code",
   "execution_count": 30,
   "metadata": {
    "collapsed": false
   },
   "outputs": [
    {
     "data": {
      "image/png": "[encoded data removed]",
      "text/plain": [
       "<matplotlib.figure.Figure at 0x7f65f12f21d0>"
      ]
     },
     "metadata": {},
     "output_type": "display_data"
    }
   ],
   "source": [
    "plt.plot(model.waveforms[100][0]);"
   ]
  },
  {
   "cell_type": "markdown",
   "metadata": {},
   "source": [
    "> Of course, using the waveform view is a better idea in this case."
   ]
  },
  {
   "cell_type": "markdown",
   "metadata": {},
   "source": [
    "## Custom GUIs"
   ]
  },
  {
   "cell_type": "markdown",
   "metadata": {},
   "source": [
    "We're still working on the GUI. In the meantime, with some knowledge of Python and IPython, you can build your own widgets."
   ]
  },
  {
   "cell_type": "markdown",
   "metadata": {},
   "source": [
    "For example, here is how you can create a little GUI to display the masks of a given cluster."
   ]
  },
  {
   "cell_type": "code",
   "execution_count": 31,
   "metadata": {
    "collapsed": true
   },
   "outputs": [],
   "source": [
    "clusters = clustering.cluster_ids"
   ]
  },
  {
   "cell_type": "code",
   "execution_count": 32,
   "metadata": {
    "collapsed": false
   },
   "outputs": [
    {
     "name": "stderr",
     "output_type": "stream",
     "text": [
      ":0: FutureWarning: IPython widgets are experimental and may change in the future.\n"
     ]
    }
   ],
   "source": [
    "from IPython.html.widgets import interact"
   ]
  },
  {
   "cell_type": "code",
   "execution_count": 33,
   "metadata": {
    "collapsed": false
   },
   "outputs": [
    {
     "data": {
      "image/png": "[encoded data removed]",
      "text/plain": [
       "<matplotlib.figure.Figure at 0x7f65f1d17518>"
      ]
     },
     "metadata": {},
     "output_type": "display_data"
    }
   ],
   "source": [
    "@interact(i=(0, len(clusters) - 1))\n",
    "def show_masks(i=5):\n",
    "    spikes = clustering.spikes_in_clusters([clusters[i]])\n",
    "    plt.figure(figsize=(12,6))\n",
    "    plt.imshow(model.masks[spikes[:30]], interpolation='none')\n",
    "    plt.grid(None)\n",
    "    plt.title(\"Masks of cluster %d\" % clusters[i])\n",
    "    plt.xlabel('Channel')\n",
    "    plt.ylabel('Spike')"
   ]
  },
  {
   "cell_type": "markdown",
   "metadata": {},
   "source": [
    "This displays a slider that allows you to go through all clusters and see their masks."
   ]
  },
  {
   "cell_type": "markdown",
   "metadata": {},
   "source": [
    "This will be mostly useful to Shabnam for the time being!"
   ]
  },
  {
   "cell_type": "markdown",
   "metadata": {},
   "source": [
    "## Cluster store"
   ]
  },
  {
   "cell_type": "markdown",
   "metadata": {},
   "source": [
    "The cluster store keeps per-cluster information. You can use it to retrieve some statistics related to the clusters."
   ]
  },
  {
   "cell_type": "code",
   "execution_count": 34,
   "metadata": {
    "collapsed": false
   },
   "outputs": [],
   "source": [
    "store = session.cluster_store"
   ]
  },
  {
   "cell_type": "markdown",
   "metadata": {},
   "source": [
    "For example, here is the average position of the spikes on the probe (in units of the channel position coordinates):"
   ]
  },
  {
   "cell_type": "code",
   "execution_count": 35,
   "metadata": {
    "collapsed": false
   },
   "outputs": [
    {
     "data": {
      "text/plain": [
       "array([ -1.42135382,  16.04123878], dtype=float32)"
      ]
     },
     "execution_count": 35,
     "metadata": {},
     "output_type": "execute_result"
    }
   ],
   "source": [
    "store.mean_probe_position(13)"
   ]
  },
  {
   "cell_type": "markdown",
   "metadata": {},
   "source": [
    "Average number of unmasked channels:"
   ]
  },
  {
   "cell_type": "code",
   "execution_count": 36,
   "metadata": {
    "collapsed": false
   },
   "outputs": [
    {
     "data": {
      "text/plain": [
       "24"
      ]
     },
     "execution_count": 36,
     "metadata": {},
     "output_type": "execute_result"
    }
   ],
   "source": [
    "store.n_unmasked_channels(13)"
   ]
  },
  {
   "cell_type": "markdown",
   "metadata": {},
   "source": [
    "The list of the main channels for that clusters:"
   ]
  },
  {
   "cell_type": "code",
   "execution_count": 37,
   "metadata": {
    "collapsed": false
   },
   "outputs": [
    {
     "data": {
      "text/plain": [
       "array([ 0,  1,  2,  3,  4,  5,  6,  7,  8,  9, 10, 11, 12, 13, 14, 15, 17,\n",
       "       18, 19, 20, 21, 23, 24, 26])"
      ]
     },
     "execution_count": 37,
     "metadata": {},
     "output_type": "execute_result"
    }
   ],
   "source": [
    "store.main_channels(13)"
   ]
  },
  {
   "cell_type": "markdown",
   "metadata": {},
   "source": [
    "> We planning to add many more statistics. You may also implement your own statistics directly in the notebook, and have them being updated automatically during the manual clustering session (API coming soon)."
   ]
  },
  {
   "cell_type": "markdown",
   "metadata": {},
   "source": [
    "### Mini wizard"
   ]
  },
  {
   "cell_type": "markdown",
   "metadata": {},
   "source": [
    "This cluster store will be the basis of the upcoming wizard. You can already implement in *one line of code* a very basic wizard by looking at clusters that are geometrically close to a given cluster:"
   ]
  },
  {
   "cell_type": "code",
   "execution_count": 38,
   "metadata": {
    "collapsed": false
   },
   "outputs": [
    {
     "data": {
      "text/plain": [
       "array([ 6, 19,  2, 13, 16], dtype=uint32)"
      ]
     },
     "execution_count": 38,
     "metadata": {},
     "output_type": "execute_result"
    }
   ],
   "source": [
    "target = 13\n",
    "idx = np.argsort([np.dot(store.mean_masks(target), store.mean_masks(cluster)) for cluster in clusters])[::-1]\n",
    "clusters[idx][:5]"
   ]
  },
  {
   "cell_type": "markdown",
   "metadata": {},
   "source": [
    "Cluster 1 is the noise. Cluster 1289 looks close to our cluster 1224: let's check that in the feature view."
   ]
  },
  {
   "cell_type": "code",
   "execution_count": 39,
   "metadata": {
    "collapsed": false
   },
   "outputs": [],
   "source": [
    "session.select([16, 3])"
   ]
  },
  {
   "cell_type": "markdown",
   "metadata": {},
   "source": [
    "The GUI will eventually implement something like this and offer quick keyboard shortcuts to look over pairs of similar clusters."
   ]
  },
  {
   "cell_type": "markdown",
   "metadata": {},
   "source": [
    "### Internal details on the cluster store"
   ]
  },
  {
   "cell_type": "markdown",
   "metadata": {},
   "source": [
    "> Warning: internal details ahead."
   ]
  },
  {
   "cell_type": "markdown",
   "metadata": {},
   "source": [
    "phy keeps an internal cache of the features and masks in a subfolder of the original data folder. This takes some disk space, but it makes the interface vastly faster. Data belonging to a given custer is is a single file, which makes it very fast to load in RAM. Here is how it's organized if you're curious:"
   ]
  },
  {
   "cell_type": "code",
   "execution_count": 40,
   "metadata": {
    "collapsed": false
   },
   "outputs": [],
   "source": [
    "import os.path as op\n",
    "exp_dir = op.dirname(filename)"
   ]
  },
  {
   "cell_type": "code",
   "execution_count": 41,
   "metadata": {
    "collapsed": false,
    "scrolled": true
   },
   "outputs": [
    {
     "name": "stdout",
     "output_type": "stream",
     "text": [
      "/home/cyrille/1_simple120sec\n"
     ]
    }
   ],
   "source": [
    "%cd {exp_dir}"
   ]
  },
  {
   "cell_type": "code",
   "execution_count": 42,
   "metadata": {
    "collapsed": false
   },
   "outputs": [
    {
     "name": "stdout",
     "output_type": "stream",
     "text": [
      "\u001b[0m\u001b[01;32mtest_1.py.lprof\u001b[0m*             \u001b[01;32mtest_hybrid_120sec.kwx\u001b[0m*\r\n",
      "\u001b[01;32mtest_hybrid_120sec.kwik\u001b[0m*     \u001b[01;34mtest_hybrid_120sec.phy\u001b[0m/\r\n",
      "test_hybrid_120sec.kwik.bak  \u001b[01;32mtest_hybrid_120sec.raw.kwd\u001b[0m*\r\n",
      "\u001b[01;32mtest_hybrid_120sec.kwik~\u001b[0m*\r\n"
     ]
    }
   ],
   "source": [
    "%ls"
   ]
  },
  {
   "cell_type": "code",
   "execution_count": 43,
   "metadata": {
    "collapsed": false
   },
   "outputs": [
    {
     "name": "stdout",
     "output_type": "stream",
     "text": [
      "/home/cyrille/1_simple120sec/test_hybrid_120sec.phy\n"
     ]
    }
   ],
   "source": [
    "%cd test_hybrid_120sec.phy"
   ]
  },
  {
   "cell_type": "code",
   "execution_count": 44,
   "metadata": {
    "collapsed": false,
    "scrolled": true
   },
   "outputs": [
    {
     "name": "stdout",
     "output_type": "stream",
     "text": [
      "\u001b[0m\u001b[01;34mcluster_store\u001b[0m/  internal_settings\r\n"
     ]
    }
   ],
   "source": [
    "%ls"
   ]
  },
  {
   "cell_type": "code",
   "execution_count": 45,
   "metadata": {
    "collapsed": false
   },
   "outputs": [
    {
     "name": "stdout",
     "output_type": "stream",
     "text": [
      "/home/cyrille/1_simple120sec/test_hybrid_120sec.phy/cluster_store\n",
      "/home/cyrille/1_simple120sec/test_hybrid_120sec.phy/cluster_store/0\n",
      "/home/cyrille/1_simple120sec/test_hybrid_120sec.phy/cluster_store/0/main\n"
     ]
    }
   ],
   "source": [
    "%cd cluster_store\n",
    "%cd 0\n",
    "%cd main"
   ]
  },
  {
   "cell_type": "code",
   "execution_count": 46,
   "metadata": {
    "collapsed": false,
    "scrolled": true
   },
   "outputs": [
    {
     "name": "stdout",
     "output_type": "stream",
     "text": [
      "10.features  14.features  18.features  21.features  25.features  6.features\r\n",
      "10.masks     14.masks     18.masks     21.masks     25.masks     6.masks\r\n",
      "11.features  15.features  19.features  22.features  3.features   7.features\r\n",
      "11.masks     15.masks     19.masks     22.masks     3.masks      7.masks\r\n",
      "12.features  16.features  2.features   23.features  4.features   8.features\r\n",
      "12.masks     16.masks     2.masks      23.masks     4.masks      8.masks\r\n",
      "13.features  17.features  20.features  24.features  5.features   9.features\r\n",
      "13.masks     17.masks     20.masks     24.masks     5.masks      9.masks\r\n"
     ]
    }
   ],
   "source": [
    "%ls"
   ]
  },
  {
   "cell_type": "markdown",
   "metadata": {},
   "source": [
    "This is updated in real-time when doing merges and splits in the interface."
   ]
  },
  {
   "cell_type": "markdown",
   "metadata": {},
   "source": [
    "## Settings"
   ]
  },
  {
   "cell_type": "markdown",
   "metadata": {},
   "source": [
    "You can put global settings in `~/.phy/user_settings.py`. Data-specific settings are to be in `/path/to/data/myexperiment.phy/user_settings.py`."
   ]
  },
  {
   "cell_type": "markdown",
   "metadata": {},
   "source": [
    "Here is an excerpt of the current default settings for manual clustering:"
   ]
  },
  {
   "cell_type": "markdown",
   "metadata": {},
   "source": [
    "    # -----------------------------------------------------------------------------\n",
    "    # Correlograms\n",
    "    # -----------------------------------------------------------------------------\n",
    "\n",
    "    # Number of time samples in a bin.\n",
    "    manual_clustering.correlograms_binsize = 20\n",
    "\n",
    "    # Number of bins (odd number).\n",
    "    manual_clustering.correlograms_winsize_bins = 2 * 25 + 1\n",
    "\n",
    "    # Maximum number of spikes for the correlograms.\n",
    "    manual_clustering.correlograms_n_spikes_max = 1000000\n",
    "\n",
    "    # Contiguous chunks of spikes for computing the CCGs.\n",
    "    manual_clustering.correlograms_excerpt_size = 100000\n",
    "\n",
    "\n",
    "    # -----------------------------------------------------------------------------\n",
    "    # Views\n",
    "    # -----------------------------------------------------------------------------\n",
    "\n",
    "    # Maximum number of spikes to display in the waveform view.\n",
    "    manual_clustering.waveforms_n_spikes_max = 100\n",
    "\n",
    "    # Load contiguous chunks of waveforms (contiguous I/O is faster).\n",
    "    # Higher value = faster loading of waveforms.\n",
    "    manual_clustering.waveforms_excerpt_size = 20\n",
    "\n",
    "    # Maximum number of spikes to display in the feature view.\n",
    "    manual_clustering.features_n_spikes_max = 10000\n"
   ]
  },
  {
   "cell_type": "markdown",
   "metadata": {},
   "source": [
    "## Conclusion"
   ]
  },
  {
   "cell_type": "markdown",
   "metadata": {},
   "source": [
    "There are many more features to come, notably:\n",
    "\n",
    "* Wizard\n",
    "* Interactive cluster view\n",
    "* GUI with the visualization widgets"
   ]
  }
 ],
 "metadata": {
  "kernelspec": {
   "display_name": "Python 3",
   "language": "python",
   "name": "python3"
  },
  "language_info": {
   "codemirror_mode": {
    "name": "ipython",
    "version": 3
   },
   "file_extension": ".py",
   "mimetype": "text/x-python",
   "name": "python",
   "nbconvert_exporter": "python",
   "pygments_lexer": "ipython3",
   "version": "3.4.3"
  }
 },
 "nbformat": 4,
 "nbformat_minor": 0
}

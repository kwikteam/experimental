{
 "cells": [
  {
   "cell_type": "code",
   "execution_count": null,
   "metadata": {
    "collapsed": false
   },
   "outputs": [],
   "source": [
    "%%writefile popup.html\n",
    "<html>\n",
    "<script>\n",
    "function _click() {\n",
    "    console.log( window.opener._widget.model);\n",
    "    window.opener._widget.model.send('hello');\n",
    "}\n",
    "</script>\n",
    "<body>\n",
    "<input type=\"button\" value=\"go\" onclick=\"_click();\" />\n",
    "</body>\n",
    "</html>"
   ]
  },
  {
   "cell_type": "code",
   "execution_count": null,
   "metadata": {
    "collapsed": false
   },
   "outputs": [],
   "source": [
    "from __future__ import print_function\n",
    "from IPython.html import widgets\n",
    "from IPython.display import display\n",
    "from IPython.utils.traitlets import Unicode"
   ]
  },
  {
   "cell_type": "code",
   "execution_count": null,
   "metadata": {
    "collapsed": false
   },
   "outputs": [],
   "source": [
    "class TestWidget(widgets.DOMWidget):\n",
    "    _view_name = Unicode('TestView', sync=True)\n",
    "    \n",
    "    def __init__(self, **kwargs):\n",
    "        super(TestWidget, self).__init__(**kwargs)\n",
    "        self.on_msg(self.print_msg)\n",
    "    \n",
    "    def print_msg(self, _, contents):\n",
    "        print(contents)"
   ]
  },
  {
   "cell_type": "code",
   "execution_count": null,
   "metadata": {
    "collapsed": false
   },
   "outputs": [],
   "source": [
    "%%javascript\n",
    "\n",
    "require([\"widgets/js/widget\", \"widgets/js/manager\"], \n",
    "        function(widget, manager){\n",
    "    \n",
    "    var TestView = IPython.DOMWidgetView.extend({\n",
    "        render: function(){\n",
    "            var that = this;\n",
    "            window._widget = this;\n",
    "            \n",
    "            this.model.comm.on_msg($.proxy(this.on_msg, this));\n",
    "            \n",
    "            this.$button = $('<input />')\n",
    "                .attr('type', 'button')\n",
    "                .attr('value', 'go')\n",
    "                .click(function() {\n",
    "                    window._widget.model.send('hello');\n",
    "                    that.send('hello from js');\n",
    "                })\n",
    "                .appendTo(this.$el);\n",
    "            \n",
    "            this.popup = window.open('popup.html', '', \n",
    "                                     'width=200,height=200,left=1700,top=100');\n",
    "            \n",
    "        },\n",
    "        \n",
    "        on_msg: function(msg) {\n",
    "            var contents = msg.content.data;\n",
    "            this.$el.append('<p>' + contents + '</p>');\n",
    "        }\n",
    "    });\n",
    "    \n",
    "    manager.WidgetManager.register_widget_view('TestView', TestView);\n",
    "});"
   ]
  },
  {
   "cell_type": "code",
   "execution_count": null,
   "metadata": {
    "collapsed": false
   },
   "outputs": [],
   "source": [
    "my_widget = TestWidget()"
   ]
  },
  {
   "cell_type": "code",
   "execution_count": null,
   "metadata": {
    "collapsed": false
   },
   "outputs": [],
   "source": [
    "display(my_widget)"
   ]
  }
 ],
 "metadata": {
  "kernelspec": {
   "display_name": "Python 3",
   "name": "python3"
  },
  "language_info": {
   "codemirror_mode": {
    "name": "ipython",
    "version": 3
   },
   "file_extension": ".py",
   "mimetype": "text/x-python",
   "name": "python",
   "nbconvert_exporter": "python",
   "pygments_lexer": "ipython3",
   "version": "3.4.2"
  }
 },
 "nbformat": 4,
 "nbformat_minor": 0
}
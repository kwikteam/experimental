{
 "metadata": {
  "name": "",
  "signature": "sha256:1a7357d8972595fd34b55b18a029ba486c3a1b5a5088047b5939b6ae80e923a0"
 },
 "nbformat": 3,
 "nbformat_minor": 0,
 "worksheets": [
  {
   "cells": [
    {
     "cell_type": "code",
     "collapsed": false,
     "input": [
      "import numpy as np\n",
      "import matplotlib.pyplot as plt\n",
      "%matplotlib inline"
     ],
     "language": "python",
     "metadata": {},
     "outputs": [],
     "prompt_number": 1
    },
    {
     "cell_type": "code",
     "collapsed": false,
     "input": [
      "import kwiklib\n",
      "import klustaviewa as kv\n",
      "from kwiklib import Experiment"
     ],
     "language": "python",
     "metadata": {},
     "outputs": [],
     "prompt_number": 2
    },
    {
     "cell_type": "code",
     "collapsed": false,
     "input": [
      "from IPython.display import HTML, Javascript, display\n",
      "import IPython.html.widgets as widgets"
     ],
     "language": "python",
     "metadata": {},
     "outputs": [],
     "prompt_number": 3
    },
    {
     "cell_type": "code",
     "collapsed": false,
     "input": [
      "from IPython.utils.traitlets import Unicode, List, Dict, Set, Int\n",
      "from IPython.html.widgets import DOMWidget"
     ],
     "language": "python",
     "metadata": {},
     "outputs": [],
     "prompt_number": 60
    },
    {
     "cell_type": "code",
     "collapsed": false,
     "input": [
      "filename = 'data/test.kwik'"
     ],
     "language": "python",
     "metadata": {},
     "outputs": [],
     "prompt_number": 5
    },
    {
     "cell_type": "code",
     "collapsed": false,
     "input": [
      "exp = Experiment(filename)"
     ],
     "language": "python",
     "metadata": {},
     "outputs": [
      {
       "output_type": "stream",
       "stream": "stdout",
       "text": [
        "2014-08-25 15:09:28  kwik:63                 IOError: ``D:\\git\\phy-experimental\\notebook\\data/test.high.kwd`` does not exist\n"
       ]
      },
      {
       "output_type": "stream",
       "stream": "stdout",
       "text": [
        "2014-08-25 15:09:28  kwik:63                 IOError: ``D:\\git\\phy-experimental\\notebook\\data/test.low.kwd`` does not exist\n"
       ]
      },
      {
       "output_type": "stream",
       "stream": "stdout",
       "text": [
        "2014-08-25 15:09:28  kwik:63                 IOError: ``D:\\git\\phy-experimental\\notebook\\data/test.raw.kwd`` does not exist\n"
       ]
      }
     ],
     "prompt_number": 6
    },
    {
     "cell_type": "code",
     "collapsed": false,
     "input": [
      "chgrp = exp.channel_groups[1]"
     ],
     "language": "python",
     "metadata": {},
     "outputs": [],
     "prompt_number": 7
    },
    {
     "cell_type": "code",
     "collapsed": false,
     "input": [
      "clusters_list = chgrp.clusters.main.keys()"
     ],
     "language": "python",
     "metadata": {},
     "outputs": [],
     "prompt_number": 8
    },
    {
     "cell_type": "code",
     "collapsed": false,
     "input": [
      "cluster_colors = chgrp.clusters.main.color[:]"
     ],
     "language": "python",
     "metadata": {},
     "outputs": [],
     "prompt_number": 50
    },
    {
     "cell_type": "code",
     "collapsed": false,
     "input": [
      "cludiv = '<div class=\"cluster\" style=\"background-color: %s;\">%d</div>'\n",
      "clucontainer = '<div class=\"cluster-container\">%s</div>'"
     ],
     "language": "python",
     "metadata": {},
     "outputs": [],
     "prompt_number": 9
    },
    {
     "cell_type": "code",
     "collapsed": false,
     "input": [
      "from vispy.color import get_color_names"
     ],
     "language": "python",
     "metadata": {},
     "outputs": [],
     "prompt_number": 10
    },
    {
     "cell_type": "code",
     "collapsed": false,
     "input": [
      "colors = get_color_names()"
     ],
     "language": "python",
     "metadata": {},
     "outputs": []
    },
    {
     "cell_type": "code",
     "collapsed": false,
     "input": [
      "%%HTML\n",
      "<style rel=\"stylesheet\" type=\"text/css\">\n",
      ".cluster {\n",
      "    float: left;\n",
      "    width: 30px;\n",
      "    height: 30px;\n",
      "    text-align: center;\n",
      "    vertical-align: center;\n",
      "    margin: 4px;\n",
      "    padding-top: 4px;\n",
      "    border: 1px solid black;\n",
      "    cursor: pointer;\n",
      "}\n",
      ".cluster-container {\n",
      "\n",
      "}\n",
      "</style>"
     ],
     "language": "python",
     "metadata": {},
     "outputs": [
      {
       "html": [
        "<style rel=\"stylesheet\" type=\"text/css\">\n",
        ".cluster {\n",
        "    float: left;\n",
        "    width: 30px;\n",
        "    height: 30px;\n",
        "    text-align: center;\n",
        "    vertical-align: center;\n",
        "    margin: 4px;\n",
        "    padding-top: 4px;\n",
        "    border: 1px solid black;\n",
        "    cursor: pointer;\n",
        "}\n",
        ".cluster-container {\n",
        "\n",
        "}\n",
        "</style>"
       ],
       "metadata": {},
       "output_type": "display_data",
       "text": [
        "<IPython.core.display.HTML object>"
       ]
      }
     ],
     "prompt_number": 38
    },
    {
     "cell_type": "code",
     "collapsed": false,
     "input": [
      "class ClusterWidget(DOMWidget):\n",
      "    _view_name = Unicode('ClusterWidget', sync=True)\n",
      "    description = Unicode(help=\"Description of the value this widget represents\", sync=True)\n",
      "    value = List(sync=True)\n",
      "    colors = List(sync=True)\n",
      "    selected_cluster = Int(sync=True)\n",
      "    \n",
      "    def __init__(self, *args, **kwargs):\n",
      "        super(ClusterWidget, self).__init__(*args, **kwargs)\n",
      "        self.on_trait_change(self._on_cluster_selected, 'selected_cluster')\n",
      "\n",
      "    def _on_cluster_selected(self, name, cluster):\n",
      "        print(\"Cluster selected: %d\" % cluster)"
     ],
     "language": "python",
     "metadata": {},
     "outputs": [],
     "prompt_number": 64
    },
    {
     "cell_type": "code",
     "collapsed": false,
     "input": [
      "%%javascript\n",
      "require([\"widgets/js/widget\"], function(WidgetManager){\n",
      "    var ClusterWidget = IPython.DOMWidgetView.extend({\n",
      "        render: function(){\n",
      "            var that = this;\n",
      "            this.$el.addClass('cluster-container');\n",
      "            this.model.on('change:value', this.value_changed, this);\n",
      "            this.value_changed();\n",
      "        },\n",
      "        \n",
      "        add_cluster: function(i, color) {\n",
      "            var that = this;\n",
      "            var cluster = $('<button \\\n",
      "                            style=\"background-color: '+color+';\\\n",
      "                            \">'+i.toString()+'</div>');\n",
      "            cluster.addClass('cluster');\n",
      "            cluster.click(function () {\n",
      "                that.model.set('selected_cluster', i);\n",
      "                that.touch();\n",
      "            });\n",
      "            this.$el.append(cluster);\n",
      "        },\n",
      "        \n",
      "        value_changed: function() {\n",
      "            var clusters = this.model.get('value');\n",
      "            var colors = this.model.get('colors');\n",
      "            this.$el.empty();\n",
      "            for (var i = 0; i < clusters.length; i++) {\n",
      "                this.add_cluster(clusters[i], colors[i]);\n",
      "            }\n",
      "        },\n",
      "    });\n",
      "    \n",
      "    WidgetManager.register_widget_view('ClusterWidget', ClusterWidget);\n",
      "});"
     ],
     "language": "python",
     "metadata": {},
     "outputs": [
      {
       "javascript": [
        "require([\"widgets/js/widget\"], function(WidgetManager){\n",
        "    var ClusterWidget = IPython.DOMWidgetView.extend({\n",
        "        render: function(){\n",
        "            var that = this;\n",
        "            this.$el.addClass('cluster-container');\n",
        "            this.model.on('change:value', this.value_changed, this);\n",
        "            this.value_changed();\n",
        "        },\n",
        "        \n",
        "        add_cluster: function(i, color) {\n",
        "            var that = this;\n",
        "            var cluster = $('<button \\\n",
        "                            style=\"background-color: '+color+';\\\n",
        "                            \">'+i.toString()+'</div>');\n",
        "            cluster.addClass('cluster');\n",
        "            cluster.click(function () {\n",
        "                that.model.set('selected_cluster', i);\n",
        "                that.touch();\n",
        "            });\n",
        "            this.$el.append(cluster);\n",
        "        },\n",
        "        \n",
        "        value_changed: function() {\n",
        "            var clusters = this.model.get('value');\n",
        "            var colors = this.model.get('colors');\n",
        "            this.$el.empty();\n",
        "            for (var i = 0; i < clusters.length; i++) {\n",
        "                this.add_cluster(clusters[i], colors[i]);\n",
        "            }\n",
        "        },\n",
        "    });\n",
        "    \n",
        "    WidgetManager.register_widget_view('ClusterWidget', ClusterWidget);\n",
        "});"
       ],
       "metadata": {},
       "output_type": "display_data",
       "text": [
        "<IPython.core.display.Javascript object>"
       ]
      }
     ],
     "prompt_number": 65
    },
    {
     "cell_type": "code",
     "collapsed": false,
     "input": [
      "ClusterWidget(value=clusters_list, colors=[colors[i] for i in cluster_colors])"
     ],
     "language": "python",
     "metadata": {},
     "outputs": [
      {
       "output_type": "stream",
       "stream": "stdout",
       "text": [
        "Cluster selected: 11\n"
       ]
      },
      {
       "output_type": "stream",
       "stream": "stdout",
       "text": [
        "Cluster selected: 15\n"
       ]
      }
     ],
     "prompt_number": 66
    },
    {
     "cell_type": "code",
     "collapsed": false,
     "input": [],
     "language": "python",
     "metadata": {},
     "outputs": []
    }
   ],
   "metadata": {}
  }
 ]
}
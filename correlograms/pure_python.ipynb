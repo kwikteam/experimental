{
 "metadata": {
  "name": "",
  "signature": "sha256:055e8e98ba44aecebb957094331fa3700b2a23c183c2a1d2b666846e37ea9613"
 },
 "nbformat": 3,
 "nbformat_minor": 0,
 "worksheets": [
  {
   "cells": [
    {
     "cell_type": "code",
     "collapsed": false,
     "input": [],
     "language": "python",
     "metadata": {},
     "outputs": []
    }
   ],
   "metadata": {}
  }
 ]
}
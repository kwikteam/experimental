{
 "metadata": {
  "name": "",
  "signature": "sha256:3392d9225d46b25b9d3e6e69ccc5d3e099a15eff660e7ea0a66bee6765b490b2"
 },
 "nbformat": 3,
 "nbformat_minor": 0,
 "worksheets": [
  {
   "cells": [
    {
     "cell_type": "markdown",
     "metadata": {},
     "source": [
      "# Pure Python correlograms"
     ]
    },
    {
     "cell_type": "markdown",
     "metadata": {},
     "source": [
      "Imports."
     ]
    },
    {
     "cell_type": "code",
     "collapsed": false,
     "input": [
      "from klustaviewa.stats.correlograms import compute_correlograms as compute_correlograms_original\n",
      "%load_ext line_profiler"
     ],
     "language": "python",
     "metadata": {},
     "outputs": [],
     "prompt_number": 1
    },
    {
     "cell_type": "code",
     "collapsed": false,
     "input": [
      "import numpy as np\n",
      "from numpy.lib.stride_tricks import as_strided\n",
      "import matplotlib.pyplot as plt\n",
      "%matplotlib inline"
     ],
     "language": "python",
     "metadata": {},
     "outputs": [],
     "prompt_number": 2
    },
    {
     "cell_type": "markdown",
     "metadata": {},
     "source": [
      "## Mock dataset"
     ]
    },
    {
     "cell_type": "code",
     "collapsed": false,
     "input": [
      "# 20 samples per ms\n",
      "sr = 20000\n",
      "nspikes = 5000000\n",
      "spiketimes = np.cumsum(np.random.exponential(scale=.005, size=nspikes))\n",
      "spiketimes = (spiketimes*sr).astype(np.int64)\n",
      "maxcluster = 10\n",
      "clusters = np.random.randint(0, maxcluster, nspikes).astype(np.int32)\n",
      "print \"%.3f hours\" % (spiketimes[-1]/float(sr)/3600.)"
     ],
     "language": "python",
     "metadata": {},
     "outputs": [
      {
       "output_type": "stream",
       "stream": "stdout",
       "text": [
        "6.952 hours\n"
       ]
      }
     ],
     "prompt_number": 3
    },
    {
     "cell_type": "code",
     "collapsed": false,
     "input": [
      "winsize_samples = 2*(25 * 20) + 1\n",
      "binsize = 1 * 20  # 1 ms\n",
      "winsize_bins = 2 * ((winsize_samples // 2) // binsize) + 1\n",
      "assert winsize_bins % 2 == 1"
     ],
     "language": "python",
     "metadata": {},
     "outputs": [],
     "prompt_number": 4
    },
    {
     "cell_type": "raw",
     "metadata": {},
     "source": [
      "[----|----|----|----|----|----|----]\n",
      "                  0\n",
      "\n",
      "binsize = 4 time samples\n",
      "winsize_samples = 12*2+1 = 25 time samples\n",
      "winsize_bins = 7"
     ]
    },
    {
     "cell_type": "markdown",
     "metadata": {},
     "source": [
      "## Pure Python implementation"
     ]
    },
    {
     "cell_type": "markdown",
     "metadata": {},
     "source": [
      "### Utility functions"
     ]
    },
    {
     "cell_type": "markdown",
     "metadata": {},
     "source": [
      "#### Increment function"
     ]
    },
    {
     "cell_type": "markdown",
     "metadata": {},
     "source": [
      "Increment utility function that takes repeated indices into account."
     ]
    },
    {
     "cell_type": "code",
     "collapsed": false,
     "input": [
      "def increment(arr, indices):\n",
      "    \"\"\"Increment some indices in a 1D vector of non-negative integers.\n",
      "    Repeated indices are taken into account.\"\"\"\n",
      "    bbins = np.bincount(indices)\n",
      "    arr[:len(bbins)] += bbins\n",
      "    return arr"
     ],
     "language": "python",
     "metadata": {},
     "outputs": [],
     "prompt_number": 5
    },
    {
     "cell_type": "code",
     "collapsed": false,
     "input": [
      "a = np.arange(10)\n",
      "b = [0, 2, 4, 2, 2, 2, 2, 2, 2]\n",
      "increment(a, b)"
     ],
     "language": "python",
     "metadata": {},
     "outputs": [
      {
       "metadata": {},
       "output_type": "pyout",
       "prompt_number": 6,
       "text": [
        "array([1, 1, 9, 3, 5, 5, 6, 7, 8, 9])"
       ]
      }
     ],
     "prompt_number": 6
    },
    {
     "cell_type": "markdown",
     "metadata": {},
     "source": [
      "#### Shift-diff"
     ]
    },
    {
     "cell_type": "markdown",
     "metadata": {},
     "source": [
      "Return a diff between a shifted version of the array, and the array. The source is the original array, the target is the shifted array."
     ]
    },
    {
     "cell_type": "code",
     "collapsed": false,
     "input": [
      "def shiftdiff(arr, steps):\n",
      "    return arr[steps:] - arr[:len(arr)-steps]"
     ],
     "language": "python",
     "metadata": {},
     "outputs": [],
     "prompt_number": 7
    },
    {
     "cell_type": "code",
     "collapsed": false,
     "input": [
      "print(shiftdiff(np.array([2, 3, 5, 7, 11, 13, 17]), 1))\n",
      "print(shiftdiff(np.array([2, 3, 5, 7, 11, 13, 17]), 2))"
     ],
     "language": "python",
     "metadata": {},
     "outputs": [
      {
       "output_type": "stream",
       "stream": "stdout",
       "text": [
        "[1 2 2 4 2 4]\n",
        "[3 4 6 6 6]\n"
       ]
      }
     ],
     "prompt_number": 8
    },
    {
     "cell_type": "markdown",
     "metadata": {},
     "source": [
      "#### Data structures"
     ]
    },
    {
     "cell_type": "code",
     "collapsed": false,
     "input": [
      "def create_correlograms_array(nclusters, winsize_bins):\n",
      "    return np.zeros((nclusters, nclusters, winsize_bins//2+1), dtype=np.int32)"
     ],
     "language": "python",
     "metadata": {},
     "outputs": [],
     "prompt_number": 9
    },
    {
     "cell_type": "markdown",
     "metadata": {},
     "source": [
      "### Implementation"
     ]
    },
    {
     "cell_type": "code",
     "collapsed": false,
     "input": [
      "class Correlograms(object):\n",
      "    def __init__(self, spiketimes, binsize=None, winsize_bins=None):\n",
      "        \"\"\"We compute a few data structures at initialization time, as\n",
      "        these can be reused for the computation of the CCGs with different\n",
      "        clusterings.\"\"\"\n",
      "        self.spiketimes = spiketimes\n",
      "        if binsize is not None and winsize_bins is not None:\n",
      "            self.initialize(binsize, winsize_bins)\n",
      "        \n",
      "    def initialize(self, binsize, winsize_bins):\n",
      "        \"\"\"Need to be called whenever binsize of winsize_bins changes.\"\"\"\n",
      "        self.binsize = binsize\n",
      "        self.winsize_bins = winsize_bins\n",
      "        self._cache = []  # internal cache that can be reused during manual clustering\n",
      "        # We create a big array with all correlograms. 1000 is the maximum\n",
      "        # cluster index that can appear in the dataset. This makes it easier and\n",
      "        # more efficient to deal with non-contiguous cluster indices.\n",
      "        self.correlograms = create_correlograms_array(1000, self.winsize_bins)\n",
      "        \n",
      "        shift = 1  # shift between the two copies of the spike trains\n",
      "        \n",
      "        # At a given shift, the mask precises which spikes have matching spikes\n",
      "        # within the correlogram time window.\n",
      "        mask = np.ones_like(self.spiketimes, dtype=np.bool)\n",
      "        \n",
      "        # The loop continues as long as there is at least one spike with\n",
      "        # a matching spike.\n",
      "        while mask[:-shift].any():\n",
      "            # Number of time samples between spike i and spike i+shift.\n",
      "            spikediff = shiftdiff(self.spiketimes, shift)\n",
      "\n",
      "            # Binarize the delays between spike i and spike i+shift.\n",
      "            spikediff_b = spikediff // binsize\n",
      "\n",
      "            # Spikes with no matching spikes are masked.\n",
      "            mask[:-shift][spikediff_b > (self.winsize_bins//2)] = False\n",
      "            \n",
      "            # Cache the masked spike delays.\n",
      "            m = mask[:-shift].copy()\n",
      "            d = spikediff_b[m]\n",
      "            \n",
      "            self._cache.append((shift, m, d, spikediff_b))\n",
      "\n",
      "            shift += 1\n",
      "        \n",
      "    def compute(self, clusters, clusters_to_update=None):\n",
      "        \"\"\"Compute all pairwise CCGs for a given clustering. The clusters which\n",
      "        CCGs need to be recomputed can be precised.\n",
      "        \n",
      "        Assume `initialize()` has been called if binsize, or winsize_bins\n",
      "        have changed.\n",
      "        \n",
      "        \"\"\"\n",
      "        \n",
      "        # Reset the correlograms for the clusters that are going to be updated.\n",
      "        if clusters_to_update is None or len(clusters_to_update) == 0:\n",
      "            self.correlograms[:] = 0\n",
      "        else:\n",
      "            self.correlograms[clusters_to_update,:,:] = 0\n",
      "        \n",
      "        # Loop over all shifts.\n",
      "        for shift, m, d, spikediff_b in self._cache:\n",
      "            \n",
      "            # Update the masks given the clusters to update.\n",
      "            if clusters_to_update is not None and len(clusters_to_update) > 0:\n",
      "                m0 = np.in1d(clusters[:-shift], clusters_to_update)\n",
      "                m = m & m0\n",
      "                d = spikediff_b[m]\n",
      "            \n",
      "            # Find the indices in the raveled correlograms array that need to be incremented,\n",
      "            # taking into account the spike clusters.\n",
      "            indices =  np.ravel_multi_index((clusters[:-shift][m],\n",
      "                                             clusters[shift:][m], d), \n",
      "                                            self.correlograms.shape)\n",
      "            \n",
      "            # Increment the matching spikes in the correlograms array.\n",
      "            increment(self.correlograms.ravel(), indices)\n",
      "            \n",
      "        return self.correlograms"
     ],
     "language": "python",
     "metadata": {},
     "outputs": [],
     "prompt_number": 10
    },
    {
     "cell_type": "code",
     "collapsed": false,
     "input": [
      "c = Correlograms(spiketimes, binsize, winsize_bins)"
     ],
     "language": "python",
     "metadata": {},
     "outputs": [],
     "prompt_number": 11
    },
    {
     "cell_type": "code",
     "collapsed": false,
     "input": [
      "correlograms = c.compute(clusters, [])"
     ],
     "language": "python",
     "metadata": {},
     "outputs": [],
     "prompt_number": 12
    },
    {
     "cell_type": "markdown",
     "metadata": {},
     "source": [
      "## Benchmarks"
     ]
    },
    {
     "cell_type": "markdown",
     "metadata": {},
     "source": [
      "Timing of the entire computation."
     ]
    },
    {
     "cell_type": "code",
     "collapsed": false,
     "input": [
      "%%timeit -r1 -n1\n",
      "c = Correlograms(spiketimes, binsize, winsize_bins)\n",
      "corrs = c.compute(clusters)"
     ],
     "language": "python",
     "metadata": {},
     "outputs": [
      {
       "output_type": "stream",
       "stream": "stdout",
       "text": [
        "1 loops, best of 1: 3.34 s per loop\n"
       ]
      }
     ],
     "prompt_number": 13
    },
    {
     "cell_type": "markdown",
     "metadata": {},
     "source": [
      "Timing the recomputation."
     ]
    },
    {
     "cell_type": "code",
     "collapsed": false,
     "input": [
      "%%timeit -r1 -n1 c = Correlograms(spiketimes, binsize, winsize_bins); c.compute(clusters);\n",
      "correlograms = c.compute(clusters)"
     ],
     "language": "python",
     "metadata": {},
     "outputs": [
      {
       "output_type": "stream",
       "stream": "stdout",
       "text": [
        "1 loops, best of 1: 804 ms per loop\n"
       ]
      }
     ],
     "prompt_number": 14
    }
   ],
   "metadata": {}
  }
 ]
}
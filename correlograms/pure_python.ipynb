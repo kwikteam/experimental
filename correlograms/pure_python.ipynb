{
 "metadata": {
  "name": "",
  "signature": "sha256:035ceb13fa365656d560fb4b2389e4df6a63e4cb6d7362fc225b8e25079325a9"
 },
 "nbformat": 3,
 "nbformat_minor": 0,
 "worksheets": [
  {
   "cells": [
    {
     "cell_type": "markdown",
     "metadata": {},
     "source": [
      "# Pure Python correlograms"
     ]
    },
    {
     "cell_type": "markdown",
     "metadata": {},
     "source": [
      "Imports."
     ]
    },
    {
     "cell_type": "code",
     "collapsed": false,
     "input": [
      "import numpy as np\n",
      "from numpy.lib.stride_tricks import as_strided\n",
      "from klustaviewa.stats.correlograms import compute_correlograms as compute_correlograms_original\n",
      "%load_ext line_profiler"
     ],
     "language": "python",
     "metadata": {},
     "outputs": [],
     "prompt_number": 28
    },
    {
     "cell_type": "markdown",
     "metadata": {},
     "source": [
      "## Mock dataset"
     ]
    },
    {
     "cell_type": "markdown",
     "metadata": {},
     "source": [
      "Define the two spike trains."
     ]
    },
    {
     "cell_type": "code",
     "collapsed": false,
     "input": [
      "# 20 samples per ms\n",
      "sr = 20000\n",
      "# one spike every 20 ms\n",
      "train0 = np.arange(0, 20000, 20*20).astype(np.int64)\n",
      "# 30 samples between train 0 and train 1\n",
      "train1 = train0 + 30\n",
      "spiketimes = np.hstack((train0, train1))"
     ],
     "language": "python",
     "metadata": {},
     "outputs": [],
     "prompt_number": 2
    },
    {
     "cell_type": "markdown",
     "metadata": {},
     "source": [
      "Generate the clusters: first spike train = cluster 0, second one = cluster 1."
     ]
    },
    {
     "cell_type": "code",
     "collapsed": false,
     "input": [
      "clusters = np.hstack((np.zeros(len(train0), dtype=np.int32),\n",
      "                       np.ones(len(train1), dtype=np.int32)))"
     ],
     "language": "python",
     "metadata": {},
     "outputs": [],
     "prompt_number": 3
    },
    {
     "cell_type": "code",
     "collapsed": false,
     "input": [
      "nclusters = len(np.unique(clusters))"
     ],
     "language": "python",
     "metadata": {},
     "outputs": [],
     "prompt_number": 4
    },
    {
     "cell_type": "markdown",
     "metadata": {},
     "source": [
      "Sort both spike times and clusters in time."
     ]
    },
    {
     "cell_type": "code",
     "collapsed": false,
     "input": [
      "indices_sorting = np.argsort(spiketimes)\n",
      "spiketimes = spiketimes[indices_sorting]\n",
      "clusters = clusters[indices_sorting]"
     ],
     "language": "python",
     "metadata": {},
     "outputs": [],
     "prompt_number": 5
    },
    {
     "cell_type": "raw",
     "metadata": {},
     "source": [
      "print spiketimes\n",
      "print clusters"
     ]
    },
    {
     "cell_type": "code",
     "collapsed": false,
     "input": [
      "winsize_samples = 2*(10 * 20) + 1\n",
      "binsize = 1 * 20  # 1 ms\n",
      "winsize_bins = 2 * ((winsize_samples // 2) // binsize) + 1\n",
      "assert winsize_bins % 2 == 1\n",
      "print winsize_samples, winsize_bins"
     ],
     "language": "python",
     "metadata": {},
     "outputs": [
      {
       "output_type": "stream",
       "stream": "stdout",
       "text": [
        "401 21\n"
       ]
      }
     ],
     "prompt_number": 6
    },
    {
     "cell_type": "raw",
     "metadata": {},
     "source": [
      "[----|----|----|----|----|----|----]\n",
      "                  0\n",
      "\n",
      "binsize = 4 time samples\n",
      "winsize_samples = 12*2+1 = 25 time samples\n",
      "winsize_bins = 7"
     ]
    },
    {
     "cell_type": "markdown",
     "metadata": {},
     "source": [
      "Test function."
     ]
    },
    {
     "cell_type": "code",
     "collapsed": false,
     "input": [
      "def test_correlograms(correlograms):\n",
      "    c01 = np.zeros(20, dtype=np.int32)\n",
      "    c01[11] = 50\n",
      "\n",
      "    c10 = np.zeros(20, dtype=np.int32)\n",
      "    c10[8] = 50\n",
      "\n",
      "    return(np.array_equal(correlograms[(0, 0)], np.zeros(20)),\n",
      "           np.array_equal(correlograms[(1, 1)], np.zeros(20)),\n",
      "           np.array_equal(correlograms[(0, 1)], c01),\n",
      "           np.array_equal(correlograms[(1, 0)], c10),)"
     ],
     "language": "python",
     "metadata": {},
     "outputs": [],
     "prompt_number": 7
    },
    {
     "cell_type": "markdown",
     "metadata": {},
     "source": [
      "## Original Cython implementation"
     ]
    },
    {
     "cell_type": "markdown",
     "metadata": {},
     "source": [
      "Compute the correlograms with the current Cython implementation."
     ]
    },
    {
     "cell_type": "code",
     "collapsed": false,
     "input": [
      "correlograms_original = compute_correlograms_original(spiketimes/float(sr),  # warning: float version for now\n",
      "                                    clusters,\n",
      "                                    ncorrbins=winsize_bins-1, corrbin=binsize/float(sr))"
     ],
     "language": "python",
     "metadata": {},
     "outputs": [],
     "prompt_number": 8
    },
    {
     "cell_type": "code",
     "collapsed": false,
     "input": [
      "print(correlograms_original[(0, 0)])\n",
      "print(correlograms_original[(1, 1)])\n",
      "print(correlograms_original[(0, 1)])\n",
      "print(correlograms_original[(1, 0)])"
     ],
     "language": "python",
     "metadata": {},
     "outputs": [
      {
       "output_type": "stream",
       "stream": "stdout",
       "text": [
        "[0 0 0 0 0 0 0 0 0 0 0 0 0 0 0 0 0 0 0 0]\n",
        "[0 0 0 0 0 0 0 0 0 0 0 0 0 0 0 0 0 0 0 0]\n",
        "[ 0  0  0  0  0  0  0  0  0  0  0 50  0  0  0  0  0  0  0  0]\n",
        "[ 0  0  0  0  0  0  0  0 50  0  0  0  0  0  0  0  0  0  0  0]\n"
       ]
      }
     ],
     "prompt_number": 9
    },
    {
     "cell_type": "code",
     "collapsed": false,
     "input": [
      "test_correlograms(correlograms_original)"
     ],
     "language": "python",
     "metadata": {},
     "outputs": [
      {
       "metadata": {},
       "output_type": "pyout",
       "prompt_number": 10,
       "text": [
        "(True, True, True, True)"
       ]
      }
     ],
     "prompt_number": 10
    },
    {
     "cell_type": "markdown",
     "metadata": {},
     "source": [
      "## Pure Python implementation"
     ]
    },
    {
     "cell_type": "markdown",
     "metadata": {},
     "source": [
      "### Utility functions"
     ]
    },
    {
     "cell_type": "markdown",
     "metadata": {},
     "source": [
      "#### Increment function"
     ]
    },
    {
     "cell_type": "markdown",
     "metadata": {},
     "source": [
      "Increment utility function that takes repeated indices into account."
     ]
    },
    {
     "cell_type": "code",
     "collapsed": false,
     "input": [
      "def increment(arr, indices):\n",
      "    \"\"\"Increment some indices in a 1D vector of non-negative integers.\n",
      "    Repeated indices are taken into account.\"\"\"\n",
      "    bbins = np.bincount(indices)\n",
      "    arr[:len(bbins)] += bbins\n",
      "    return arr"
     ],
     "language": "python",
     "metadata": {},
     "outputs": [],
     "prompt_number": 11
    },
    {
     "cell_type": "code",
     "collapsed": false,
     "input": [
      "a = np.arange(10)\n",
      "b = [0, 2, 4, 2, 2, 2, 2, 2, 2]\n",
      "increment(a, b)"
     ],
     "language": "python",
     "metadata": {},
     "outputs": [
      {
       "metadata": {},
       "output_type": "pyout",
       "prompt_number": 12,
       "text": [
        "array([1, 1, 9, 3, 5, 5, 6, 7, 8, 9])"
       ]
      }
     ],
     "prompt_number": 12
    },
    {
     "cell_type": "markdown",
     "metadata": {},
     "source": [
      "#### Shift-diff"
     ]
    },
    {
     "cell_type": "markdown",
     "metadata": {},
     "source": [
      "Return a diff between a shifted version of the array, and the array. The source is the original array, the target is the shifted array."
     ]
    },
    {
     "cell_type": "code",
     "collapsed": false,
     "input": [
      "def shiftdiff(arr, steps):\n",
      "    return arr[steps:] - arr[:len(arr)-steps]"
     ],
     "language": "python",
     "metadata": {},
     "outputs": [],
     "prompt_number": 13
    },
    {
     "cell_type": "code",
     "collapsed": false,
     "input": [
      "print(shiftdiff(np.array([2, 3, 5, 7, 11, 13, 17]), 1))\n",
      "print(shiftdiff(np.array([2, 3, 5, 7, 11, 13, 17]), 2))"
     ],
     "language": "python",
     "metadata": {},
     "outputs": [
      {
       "output_type": "stream",
       "stream": "stdout",
       "text": [
        "[1 2 2 4 2 4]\n",
        "[3 4 6 6 6]\n"
       ]
      }
     ],
     "prompt_number": 14
    },
    {
     "cell_type": "markdown",
     "metadata": {},
     "source": [
      "#### Data structures"
     ]
    },
    {
     "cell_type": "code",
     "collapsed": false,
     "input": [
      "def create_correlograms_array(nclusters, winsize_bins):\n",
      "    return np.zeros((nclusters, nclusters, winsize_bins//2+1), dtype=np.int32)"
     ],
     "language": "python",
     "metadata": {},
     "outputs": [],
     "prompt_number": 15
    },
    {
     "cell_type": "raw",
     "metadata": {},
     "source": [
      "def get_correlograms_indices(clusters, delays, mask, shift, nclusters, winsize_bins):\n",
      "    # TODO: non-contiguous cluster indices (relative/absolute indexing)\n",
      "    \n",
      "    m = mask[:-shift]\n",
      "    \n",
      "    # Swap the first two dimensions below to swap x/y axes in the correlograms matrix.\n",
      "    indices = (\n",
      "               clusters[:-shift][m],\n",
      "               clusters[shift:][m],\n",
      "               delays[m])\n",
      "    \n",
      "    return np.ravel_multi_index(indices, (nclusters, nclusters, winsize_bins//2+1))"
     ]
    },
    {
     "cell_type": "markdown",
     "metadata": {},
     "source": [
      "### Implementation"
     ]
    },
    {
     "cell_type": "code",
     "collapsed": false,
     "input": [
      "class Correlograms(object):\n",
      "    def __init__(self, spiketimes, binsize=None, winsize_bins=None):\n",
      "        self.spiketimes = spiketimes\n",
      "        if binsize is not None and winsize_bins is not None:\n",
      "            self.initialize(binsize, winsize_bins)\n",
      "        \n",
      "    def initialize(self, binsize, winsize_bins):\n",
      "        \"\"\"Need to be called whenever binsize of winsize_bins changes.\"\"\"\n",
      "        self.binsize = binsize\n",
      "        self.winsize_bins = winsize_bins\n",
      "        self._cache = []  # internal cache that can be reused during manual clustering\n",
      "        \n",
      "        shift = 1  # shift between the two copies of the spike trains\n",
      "        mask = np.ones_like(self.spiketimes, dtype=np.bool)\n",
      "        \n",
      "        while mask[:-shift].any():\n",
      "            spikediff = shiftdiff(self.spiketimes, shift)\n",
      "\n",
      "            # Binarize the delays between spikes.\n",
      "            spikediff_b = spikediff // binsize\n",
      "\n",
      "            mask[:-shift][spikediff_b > (self.winsize_bins//2)] = False\n",
      "            m = mask[:-shift].copy()\n",
      "            d = spikediff_b[m]\n",
      "            \n",
      "            self._cache.append((shift, m, d))\n",
      "\n",
      "            shift += 1\n",
      "        \n",
      "    def compute(self, clusters):\n",
      "        \"\"\"Assuming `initialize()` has been called if binsize, or winsize_bins\n",
      "        have changed.\"\"\"\n",
      "        \n",
      "        self.nclusters = len(np.unique(clusters))\n",
      "        correlograms = create_correlograms_array(nclusters, self.winsize_bins)\n",
      "        \n",
      "        for shift, m, d in self._cache:\n",
      "            # Find the indices in the raveled correlograms array that need to be incremented,\n",
      "            # taking into account the spike clusters.\n",
      "            indices =  np.ravel_multi_index((clusters[:-shift][m],\n",
      "                                             clusters[shift:][m], d), \n",
      "                                            (nclusters, nclusters,\n",
      "                                             self.winsize_bins//2+1))\n",
      "            increment(correlograms.ravel(), indices)\n",
      "            \n",
      "        return correlograms"
     ],
     "language": "python",
     "metadata": {},
     "outputs": [],
     "prompt_number": 16
    },
    {
     "cell_type": "code",
     "collapsed": false,
     "input": [
      "c = Correlograms(spiketimes, binsize, winsize_bins)\n",
      "correlograms = c.compute(clusters)\n",
      "print list(correlograms[0,0,:])\n",
      "print list(correlograms[1,1,:])\n",
      "print list(correlograms[0,1,:])\n",
      "print list(correlograms[1,0,:])"
     ],
     "language": "python",
     "metadata": {},
     "outputs": [
      {
       "output_type": "stream",
       "stream": "stdout",
       "text": [
        "[0, 0, 0, 0, 0, 0, 0, 0, 0, 0, 0]\n",
        "[0, 0, 0, 0, 0, 0, 0, 0, 0, 0, 0]\n",
        "[0, 50, 0, 0, 0, 0, 0, 0, 0, 0, 0]\n",
        "[0, 0, 0, 0, 0, 0, 0, 0, 0, 0, 0]\n"
       ]
      }
     ],
     "prompt_number": 17
    },
    {
     "cell_type": "markdown",
     "metadata": {},
     "source": [
      "## Benchmarks"
     ]
    },
    {
     "cell_type": "code",
     "collapsed": false,
     "input": [
      "# 20 samples per ms\n",
      "sr = 30000\n",
      "nspikes = 10000000\n",
      "spiketimes = np.cumsum(np.random.exponential(scale=.01, size=nspikes))\n",
      "spiketimes = (spiketimes*sr).astype(np.int64)\n",
      "maxcluster = 500\n",
      "clusters = np.random.randint(0, maxcluster, nspikes)\n",
      "nclusters = len(np.unique(clusters))\n",
      "print \"%.2f hours\" % (spiketimes[-1]/float(sr)/3600.)"
     ],
     "language": "python",
     "metadata": {},
     "outputs": [
      {
       "output_type": "stream",
       "stream": "stdout",
       "text": [
        "27.78 hours\n"
       ]
      }
     ],
     "prompt_number": 31
    },
    {
     "cell_type": "code",
     "collapsed": false,
     "input": [
      "winsize_samples = 2*(25 * 20) + 1\n",
      "binsize = 1 * 20  # 1 ms\n",
      "winsize_bins = 2 * ((winsize_samples // 2) // binsize) + 1\n",
      "assert winsize_bins % 2 == 1"
     ],
     "language": "python",
     "metadata": {},
     "outputs": [],
     "prompt_number": 32
    },
    {
     "cell_type": "code",
     "collapsed": false,
     "input": [
      "%%timeit -r1 -n1\n",
      "c = Correlograms(spiketimes, binsize, winsize_bins)\n",
      "corrs = c.compute(clusters)\n",
      "corrs.shape"
     ],
     "language": "python",
     "metadata": {},
     "outputs": [
      {
       "output_type": "stream",
       "stream": "stdout",
       "text": [
        "1 loops, best of 1: 4.15 s per loop\n"
       ]
      }
     ],
     "prompt_number": 33
    },
    {
     "cell_type": "code",
     "collapsed": false,
     "input": [
      "%%timeit -r1 -n1 c = Correlograms(spiketimes, binsize, winsize_bins)\n",
      "correlograms = c.compute(clusters)"
     ],
     "language": "python",
     "metadata": {},
     "outputs": [
      {
       "output_type": "stream",
       "stream": "stdout",
       "text": [
        "1 loops, best of 1: 1.66 s per loop\n"
       ]
      }
     ],
     "prompt_number": 34
    },
    {
     "cell_type": "code",
     "collapsed": false,
     "input": [
      "c = Correlograms(spiketimes, binsize, winsize_bins)"
     ],
     "language": "python",
     "metadata": {},
     "outputs": [],
     "prompt_number": 35
    },
    {
     "cell_type": "code",
     "collapsed": false,
     "input": [
      "%lprun -f c.compute c.compute(clusters)"
     ],
     "language": "python",
     "metadata": {},
     "outputs": [],
     "prompt_number": 36
    },
    {
     "cell_type": "code",
     "collapsed": false,
     "input": [],
     "language": "python",
     "metadata": {},
     "outputs": []
    }
   ],
   "metadata": {}
  }
 ]
}
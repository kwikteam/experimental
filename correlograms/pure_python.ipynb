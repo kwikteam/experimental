{
 "metadata": {
  "name": "",
  "signature": "sha256:d9f1622e3d39d7dd9f0484ac57c69d7619b7e3fa04a8d71c208679421cadf11c"
 },
 "nbformat": 3,
 "nbformat_minor": 0,
 "worksheets": [
  {
   "cells": [
    {
     "cell_type": "markdown",
     "metadata": {},
     "source": [
      "# Pure Python correlograms"
     ]
    },
    {
     "cell_type": "markdown",
     "metadata": {},
     "source": [
      "Imports."
     ]
    },
    {
     "cell_type": "code",
     "collapsed": false,
     "input": [
      "import numpy as np\n",
      "from numpy.lib.stride_tricks import as_strided\n",
      "from klustaviewa.stats.correlograms import compute_correlograms as compute_correlograms_original"
     ],
     "language": "python",
     "metadata": {},
     "outputs": [],
     "prompt_number": 36
    },
    {
     "cell_type": "markdown",
     "metadata": {},
     "source": [
      "## Mock dataset"
     ]
    },
    {
     "cell_type": "markdown",
     "metadata": {},
     "source": [
      "Define the two spike trains."
     ]
    },
    {
     "cell_type": "code",
     "collapsed": false,
     "input": [
      "# 20 samples per ms\n",
      "sr = 20000\n",
      "# one spike every 20 ms\n",
      "train0 = np.arange(0, 20000, 20*20).astype(np.int64)\n",
      "# 30 samples between train 0 and train 1\n",
      "train1 = train0 + 30\n",
      "spiketimes = np.hstack((train0, train1))"
     ],
     "language": "python",
     "metadata": {},
     "outputs": [],
     "prompt_number": 37
    },
    {
     "cell_type": "markdown",
     "metadata": {},
     "source": [
      "Generate the clusters: first spike train = cluster 0, second one = cluster 1."
     ]
    },
    {
     "cell_type": "code",
     "collapsed": false,
     "input": [
      "clusters = np.hstack((np.zeros(len(train0), dtype=np.int32),\n",
      "                       np.ones(len(train1), dtype=np.int32)))"
     ],
     "language": "python",
     "metadata": {},
     "outputs": [],
     "prompt_number": 38
    },
    {
     "cell_type": "code",
     "collapsed": false,
     "input": [
      "nclusters = len(np.unique(clusters))"
     ],
     "language": "python",
     "metadata": {},
     "outputs": [],
     "prompt_number": 39
    },
    {
     "cell_type": "markdown",
     "metadata": {},
     "source": [
      "Sort both spike times and clusters in time."
     ]
    },
    {
     "cell_type": "code",
     "collapsed": false,
     "input": [
      "indices_sorting = np.argsort(spiketimes)\n",
      "spiketimes = spiketimes[indices_sorting]\n",
      "clusters = clusters[indices_sorting]"
     ],
     "language": "python",
     "metadata": {},
     "outputs": [],
     "prompt_number": 40
    },
    {
     "cell_type": "code",
     "collapsed": false,
     "input": [
      "print spiketimes\n",
      "print clusters"
     ],
     "language": "python",
     "metadata": {},
     "outputs": [
      {
       "output_type": "stream",
       "stream": "stdout",
       "text": [
        "[    0    30   400   430   800   830  1200  1230  1600  1630  2000  2030\n",
        "  2400  2430  2800  2830  3200  3230  3600  3630  4000  4030  4400  4430\n",
        "  4800  4830  5200  5230  5600  5630  6000  6030  6400  6430  6800  6830\n",
        "  7200  7230  7600  7630  8000  8030  8400  8430  8800  8830  9200  9230\n",
        "  9600  9630 10000 10030 10400 10430 10800 10830 11200 11230 11600 11630\n",
        " 12000 12030 12400 12430 12800 12830 13200 13230 13600 13630 14000 14030\n",
        " 14400 14430 14800 14830 15200 15230 15600 15630 16000 16030 16400 16430\n",
        " 16800 16830 17200 17230 17600 17630 18000 18030 18400 18430 18800 18830\n",
        " 19200 19230 19600 19630]\n",
        "[0 1 0 1 0 1 0 1 0 1 0 1 0 1 0 1 0 1 0 1 0 1 0 1 0 1 0 1 0 1 0 1 0 1 0 1 0\n",
        " 1 0 1 0 1 0 1 0 1 0 1 0 1 0 1 0 1 0 1 0 1 0 1 0 1 0 1 0 1 0 1 0 1 0 1 0 1\n",
        " 0 1 0 1 0 1 0 1 0 1 0 1 0 1 0 1 0 1 0 1 0 1 0 1 0 1]\n"
       ]
      }
     ],
     "prompt_number": 41
    },
    {
     "cell_type": "code",
     "collapsed": false,
     "input": [
      "winsize_samples = 2*(10 * 20) + 1\n",
      "binsize = 1 * 20  # 1 ms\n",
      "winsize_bins = 2 * ((winsize_samples // 2) // binsize) + 1\n",
      "assert winsize_bins % 2 == 1"
     ],
     "language": "python",
     "metadata": {},
     "outputs": [],
     "prompt_number": 42
    },
    {
     "cell_type": "raw",
     "metadata": {},
     "source": [
      "[----|----|----|----|----|----|----]\n",
      "                  0\n",
      "winsize_samples = 12*2+1 = 25 time samples\n",
      "binsize = 4 time samples\n",
      "winsize_bins = 7"
     ]
    },
    {
     "cell_type": "markdown",
     "metadata": {},
     "source": [
      "Test function."
     ]
    },
    {
     "cell_type": "code",
     "collapsed": false,
     "input": [
      "def test_correlograms(correlograms):\n",
      "    c01 = np.zeros(20, dtype=np.int32)\n",
      "    c01[11] = 50\n",
      "\n",
      "    c10 = np.zeros(20, dtype=np.int32)\n",
      "    c10[8] = 50\n",
      "\n",
      "    return(np.array_equal(correlograms[(0, 0)], np.zeros(20)),\n",
      "           np.array_equal(correlograms[(1, 1)], np.zeros(20)),\n",
      "           np.array_equal(correlograms[(0, 1)], c01),\n",
      "           np.array_equal(correlograms[(1, 0)], c10),)"
     ],
     "language": "python",
     "metadata": {},
     "outputs": [],
     "prompt_number": 43
    },
    {
     "cell_type": "markdown",
     "metadata": {},
     "source": [
      "## Original Cython implementation"
     ]
    },
    {
     "cell_type": "markdown",
     "metadata": {},
     "source": [
      "Compute the correlograms with the current Cython implementation."
     ]
    },
    {
     "cell_type": "code",
     "collapsed": false,
     "input": [
      "correlograms_original = compute_correlograms_original(spiketimes/float(sr),  # warning: float version for now\n",
      "                                    clusters,\n",
      "                                    ncorrbins=winsize_bins-1, corrbin=binsize/float(sr))"
     ],
     "language": "python",
     "metadata": {},
     "outputs": [],
     "prompt_number": 44
    },
    {
     "cell_type": "code",
     "collapsed": false,
     "input": [
      "print(correlograms_original[(0, 0)])\n",
      "print(correlograms_original[(1, 1)])\n",
      "print(correlograms_original[(0, 1)])\n",
      "print(correlograms_original[(1, 0)])"
     ],
     "language": "python",
     "metadata": {},
     "outputs": [
      {
       "output_type": "stream",
       "stream": "stdout",
       "text": [
        "[0 0 0 0 0 0 0 0 0 0 0 0 0 0 0 0 0 0 0 0]\n",
        "[0 0 0 0 0 0 0 0 0 0 0 0 0 0 0 0 0 0 0 0]\n",
        "[ 0  0  0  0  0  0  0  0  0  0  0 50  0  0  0  0  0  0  0  0]\n",
        "[ 0  0  0  0  0  0  0  0 50  0  0  0  0  0  0  0  0  0  0  0]\n"
       ]
      }
     ],
     "prompt_number": 45
    },
    {
     "cell_type": "code",
     "collapsed": false,
     "input": [
      "test_correlograms(correlograms_original)"
     ],
     "language": "python",
     "metadata": {},
     "outputs": [
      {
       "metadata": {},
       "output_type": "pyout",
       "prompt_number": 46,
       "text": [
        "(True, True, True, True)"
       ]
      }
     ],
     "prompt_number": 46
    },
    {
     "cell_type": "markdown",
     "metadata": {},
     "source": [
      "## Pure Python implementation"
     ]
    },
    {
     "cell_type": "markdown",
     "metadata": {},
     "source": [
      "### Utility functions"
     ]
    },
    {
     "cell_type": "markdown",
     "metadata": {},
     "source": [
      "#### Increment function"
     ]
    },
    {
     "cell_type": "markdown",
     "metadata": {},
     "source": [
      "Increment utility function that takes repeated indices into account."
     ]
    },
    {
     "cell_type": "code",
     "collapsed": false,
     "input": [
      "def increment(arr, indices):\n",
      "    \"\"\"Increment some indices in a 1D vector of non-negative integers.\n",
      "    Repeated indices are taken into account.\"\"\"\n",
      "    bbins = np.bincount(indices)\n",
      "    arr[:len(bbins)] += bbins\n",
      "    return arr"
     ],
     "language": "python",
     "metadata": {},
     "outputs": [],
     "prompt_number": 47
    },
    {
     "cell_type": "code",
     "collapsed": false,
     "input": [
      "a = np.arange(10)\n",
      "b = [0, 2, 4, 2, 2, 2, 2, 2, 2]\n",
      "increment(a, b)"
     ],
     "language": "python",
     "metadata": {},
     "outputs": [
      {
       "metadata": {},
       "output_type": "pyout",
       "prompt_number": 48,
       "text": [
        "array([1, 1, 9, 3, 5, 5, 6, 7, 8, 9])"
       ]
      }
     ],
     "prompt_number": 48
    },
    {
     "cell_type": "markdown",
     "metadata": {},
     "source": [
      "#### Shift-diff"
     ]
    },
    {
     "cell_type": "markdown",
     "metadata": {},
     "source": [
      "Return a diff between a shifted version of the array, and the array. The source is the original array, the target is the shifted array."
     ]
    },
    {
     "cell_type": "code",
     "collapsed": false,
     "input": [
      "def shiftdiff(arr, steps):\n",
      "    return arr[steps:] - arr[:len(arr)-steps]"
     ],
     "language": "python",
     "metadata": {},
     "outputs": [],
     "prompt_number": 49
    },
    {
     "cell_type": "code",
     "collapsed": false,
     "input": [
      "print(shiftdiff(np.array([2, 3, 5, 7, 11, 13, 17]), 1))\n",
      "print(shiftdiff(np.array([2, 3, 5, 7, 11, 13, 17]), 2))"
     ],
     "language": "python",
     "metadata": {},
     "outputs": [
      {
       "output_type": "stream",
       "stream": "stdout",
       "text": [
        "[1 2 2 4 2 4]\n",
        "[3 4 6 6 6]\n"
       ]
      }
     ],
     "prompt_number": 50
    },
    {
     "cell_type": "markdown",
     "metadata": {},
     "source": [
      "#### Data structures"
     ]
    },
    {
     "cell_type": "code",
     "collapsed": false,
     "input": [
      "def create_correlograms_array(nclusters, winsize_bins):\n",
      "    return np.zeros((nclusters, nclusters, winsize_bins), dtype=np.int32)"
     ],
     "language": "python",
     "metadata": {},
     "outputs": [],
     "prompt_number": 51
    },
    {
     "cell_type": "code",
     "collapsed": false,
     "input": [
      "def get_correlograms_indices(clusters, delays, mask, shift, nclusters, winsize_bins):\n",
      "    # TODO: non-contiguous cluster indices (relative/absolute indexing)\n",
      "    \n",
      "    # Swap the first two dimensions below to swap x/y axes in the correlograms matrix.\n",
      "    indices = (\n",
      "               clusters[:-shift][mask[:-shift]],\n",
      "               clusters[shift:][mask[:-shift]],\n",
      "               delays[mask[:-shift]])\n",
      "    \n",
      "    return np.ravel_multi_index(indices, (nclusters, nclusters, winsize_bins))"
     ],
     "language": "python",
     "metadata": {},
     "outputs": [],
     "prompt_number": 52
    },
    {
     "cell_type": "markdown",
     "metadata": {},
     "source": [
      "### Implementation"
     ]
    },
    {
     "cell_type": "code",
     "collapsed": false,
     "input": [
      "def compute_correlograms(spiketimes, clusters, binsize, winsize_bins):\n",
      "    nclusters = len(np.unique(clusters))\n",
      "    correlograms = create_correlograms_array(nclusters, winsize_bins//2)\n",
      "    correlograms_r = correlograms.ravel()\n",
      "\n",
      "    shift = 1  # shift between the two copies of the spike trains\n",
      "    mindelay = 0  # minimum delay between any two spikes separated by `step`\n",
      "    mask = np.ones_like(spiketimes, dtype=np.bool)\n",
      "    n = len(spiketimes)\n",
      "    while mask[:n-shift].any():\n",
      "    #while mindelay <= (winsize_samples//2):  # stop when all spikes are separated more than the window size\n",
      "        spikediff = shiftdiff(spiketimes, shift)\n",
      "\n",
      "        # Calculate the minimum delay, used for the termination condition in the loop.\n",
      "        #mindelay = spikediff.min()\n",
      "\n",
      "        # Binarize the delays between spikes.\n",
      "        spikediff_b = spikediff // binsize\n",
      "        \n",
      "        mask[:n-shift][spikediff_b > (winsize_bins//2)] = False\n",
      "\n",
      "        # Find the indices in the raveled correlograms array that need to be incremented,\n",
      "        # taking into account the spike clusters.\n",
      "        indices = get_correlograms_indices(clusters,\n",
      "                                           spikediff_b,\n",
      "                                           mask,\n",
      "                                           shift, nclusters, winsize_bins//2)\n",
      "\n",
      "        # Increment the final correlograms (making sure duplicates are being\n",
      "        # taken into account).\n",
      "        increment(correlograms_r, indices)\n",
      "\n",
      "        shift += 1\n",
      "    return correlograms"
     ],
     "language": "python",
     "metadata": {},
     "outputs": [],
     "prompt_number": 53
    },
    {
     "cell_type": "code",
     "collapsed": false,
     "input": [
      "correlograms = compute_correlograms(spiketimes, clusters, binsize, winsize_bins)\n",
      "print \"corrs\"\n",
      "print list(correlograms[0,0,:])\n",
      "print list(correlograms[1,1,:])\n",
      "print list(correlograms[0,1,:])\n",
      "print list(correlograms[1,0,:])"
     ],
     "language": "python",
     "metadata": {},
     "outputs": [
      {
       "output_type": "stream",
       "stream": "stdout",
       "text": [
        "corrs\n",
        "[0, 0, 0, 0, 0, 0, 0, 0, 0, 0]\n",
        "[0, 0, 0, 0, 0, 0, 0, 0, 0, 0]\n",
        "[0, 50, 0, 0, 0, 0, 0, 0, 0, 0]\n",
        "[0, 0, 0, 0, 0, 0, 0, 0, 0, 0]\n"
       ]
      }
     ],
     "prompt_number": 54
    },
    {
     "cell_type": "markdown",
     "metadata": {},
     "source": [
      "## Benchmarks"
     ]
    },
    {
     "cell_type": "code",
     "collapsed": false,
     "input": [
      "# 20 samples per ms\n",
      "sr = 20000\n",
      "nspikes = 100\n",
      "spiketimes = np.cumsum(np.random.exponential(scale=.01, size=nspikes))\n",
      "spiketimes = (spiketimes*sr).astype(np.int64)\n",
      "maxcluster = 2\n",
      "clusters = np.random.randint(0, maxcluster, nspikes)\n",
      "nclusters = len(np.unique(clusters))\n",
      "print \"%.2f hours\" % (spiketimes[-1]/float(sr)/3600.)"
     ],
     "language": "python",
     "metadata": {},
     "outputs": [
      {
       "output_type": "stream",
       "stream": "stdout",
       "text": [
        "0.00 hours\n"
       ]
      }
     ],
     "prompt_number": 67
    },
    {
     "cell_type": "code",
     "collapsed": false,
     "input": [
      "winsize_samples = 2*(10 * 20) + 1\n",
      "binsize = 1 * 20  # 1 ms\n",
      "winsize_bins = 2 * ((winsize_samples // 2) // binsize) + 1\n",
      "assert winsize_bins % 2 == 1"
     ],
     "language": "python",
     "metadata": {},
     "outputs": [],
     "prompt_number": 68
    },
    {
     "cell_type": "raw",
     "metadata": {},
     "source": [
      "%timeit -r1 -n1 correlograms = compute_correlograms(spiketimes, clusters, binsize, winsize_bins)"
     ]
    },
    {
     "cell_type": "code",
     "collapsed": false,
     "input": [
      "cc = compute_correlograms(spiketimes, clusters, binsize, winsize_bins)\n",
      "print cc[0,0]\n",
      "print cc[0,1]"
     ],
     "language": "python",
     "metadata": {},
     "outputs": [
      {
       "ename": "ValueError",
       "evalue": "invalid entry in coordinates array",
       "output_type": "pyerr",
       "traceback": [
        "\u001b[1;31m---------------------------------------------------------------------------\u001b[0m\n\u001b[1;31mValueError\u001b[0m                                Traceback (most recent call last)",
        "\u001b[1;32m<ipython-input-71-c98afcdf011f>\u001b[0m in \u001b[0;36m<module>\u001b[1;34m()\u001b[0m\n\u001b[1;32m----> 1\u001b[1;33m \u001b[0mcc\u001b[0m \u001b[1;33m=\u001b[0m \u001b[0mcompute_correlograms\u001b[0m\u001b[1;33m(\u001b[0m\u001b[0mspiketimes\u001b[0m\u001b[1;33m,\u001b[0m \u001b[0mclusters\u001b[0m\u001b[1;33m,\u001b[0m \u001b[0mbinsize\u001b[0m\u001b[1;33m,\u001b[0m \u001b[0mwinsize_bins\u001b[0m\u001b[1;33m)\u001b[0m\u001b[1;33m\u001b[0m\u001b[0m\n\u001b[0m\u001b[0;32m      2\u001b[0m \u001b[1;32mprint\u001b[0m \u001b[0mcc\u001b[0m\u001b[1;33m[\u001b[0m\u001b[1;36m0\u001b[0m\u001b[1;33m,\u001b[0m\u001b[1;36m0\u001b[0m\u001b[1;33m]\u001b[0m\u001b[1;33m\u001b[0m\u001b[0m\n\u001b[0;32m      3\u001b[0m \u001b[1;32mprint\u001b[0m \u001b[0mcc\u001b[0m\u001b[1;33m[\u001b[0m\u001b[1;36m0\u001b[0m\u001b[1;33m,\u001b[0m\u001b[1;36m1\u001b[0m\u001b[1;33m]\u001b[0m\u001b[1;33m\u001b[0m\u001b[0m\n",
        "\u001b[1;32m<ipython-input-53-8741ad64091b>\u001b[0m in \u001b[0;36mcompute_correlograms\u001b[1;34m(spiketimes, clusters, binsize, winsize_bins)\u001b[0m\n\u001b[0;32m     25\u001b[0m                                            \u001b[0mspikediff_b\u001b[0m\u001b[1;33m,\u001b[0m\u001b[1;33m\u001b[0m\u001b[0m\n\u001b[0;32m     26\u001b[0m                                            \u001b[0mmask\u001b[0m\u001b[1;33m,\u001b[0m\u001b[1;33m\u001b[0m\u001b[0m\n\u001b[1;32m---> 27\u001b[1;33m                                            shift, nclusters, winsize_bins//2)\n\u001b[0m\u001b[0;32m     28\u001b[0m \u001b[1;33m\u001b[0m\u001b[0m\n\u001b[0;32m     29\u001b[0m         \u001b[1;31m# Increment the final correlograms (making sure duplicates are being\u001b[0m\u001b[1;33m\u001b[0m\u001b[1;33m\u001b[0m\u001b[0m\n",
        "\u001b[1;32m<ipython-input-52-2c36edc3de9a>\u001b[0m in \u001b[0;36mget_correlograms_indices\u001b[1;34m(clusters, delays, mask, shift, nclusters, winsize_bins)\u001b[0m\n\u001b[0;32m      8\u001b[0m                delays[mask[:-shift]])\n\u001b[0;32m      9\u001b[0m \u001b[1;33m\u001b[0m\u001b[0m\n\u001b[1;32m---> 10\u001b[1;33m     \u001b[1;32mreturn\u001b[0m \u001b[0mnp\u001b[0m\u001b[1;33m.\u001b[0m\u001b[0mravel_multi_index\u001b[0m\u001b[1;33m(\u001b[0m\u001b[0mindices\u001b[0m\u001b[1;33m,\u001b[0m \u001b[1;33m(\u001b[0m\u001b[0mnclusters\u001b[0m\u001b[1;33m,\u001b[0m \u001b[0mnclusters\u001b[0m\u001b[1;33m,\u001b[0m \u001b[0mwinsize_bins\u001b[0m\u001b[1;33m)\u001b[0m\u001b[1;33m)\u001b[0m\u001b[1;33m\u001b[0m\u001b[0m\n\u001b[0m",
        "\u001b[1;31mValueError\u001b[0m: invalid entry in coordinates array"
       ]
      }
     ],
     "prompt_number": 71
    },
    {
     "cell_type": "raw",
     "metadata": {},
     "source": [
      "%load_ext line_profiler"
     ]
    },
    {
     "cell_type": "raw",
     "metadata": {},
     "source": [
      "%lprun -f compute_correlograms -f increment compute_correlograms(spiketimes, clusters, binsize, nbins)"
     ]
    },
    {
     "cell_type": "code",
     "collapsed": false,
     "input": [],
     "language": "python",
     "metadata": {},
     "outputs": [],
     "prompt_number": 31
    }
   ],
   "metadata": {}
  }
 ]
}
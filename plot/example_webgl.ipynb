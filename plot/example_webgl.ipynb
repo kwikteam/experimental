{
 "metadata": {
  "name": "",
  "signature": "sha256:b78000e3ecbebf5e8425561cf6fd6d148e900fb2a64f2e42139815272e9697d6"
 },
 "nbformat": 3,
 "nbformat_minor": 0,
 "worksheets": [
  {
   "cells": [
    {
     "cell_type": "code",
     "collapsed": false,
     "input": [
      "import numpy as np\n",
      "from vispy import app\n",
      "from signals import show_raw_data"
     ],
     "language": "python",
     "metadata": {},
     "outputs": []
    },
    {
     "cell_type": "code",
     "collapsed": false,
     "input": [
      "app.use_app('ipynb_webgl')"
     ],
     "language": "python",
     "metadata": {},
     "outputs": []
    },
    {
     "cell_type": "code",
     "collapsed": false,
     "input": [
      "filename = '/data/spikesorting/nick128_sorted/20141009_all_AdjGraph.raw.kwd'"
     ],
     "language": "python",
     "metadata": {},
     "outputs": []
    },
    {
     "cell_type": "code",
     "collapsed": false,
     "input": [
      "show_raw_data(filename, nchannels=128, page_duration=.5,\n",
      "              size=(600,300))"
     ],
     "language": "python",
     "metadata": {},
     "outputs": []
    }
   ],
   "metadata": {}
  }
 ]
}
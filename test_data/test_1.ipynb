{
 "cells": [
  {
   "cell_type": "markdown",
   "metadata": {},
   "source": [
    "# Manual clustering with phy"
   ]
  },
  {
   "cell_type": "markdown",
   "metadata": {},
   "source": [
    "This notebook example gives an overview of the Python API for manual clustering provided by the [phy](https://github.com/kwikteam/phy) library."
   ]
  },
  {
   "cell_type": "markdown",
   "metadata": {},
   "source": [
    "## Loading a dataset"
   ]
  },
  {
   "cell_type": "markdown",
   "metadata": {},
   "source": [
    "Let's import the library:"
   ]
  },
  {
   "cell_type": "code",
   "execution_count": 1,
   "metadata": {
    "collapsed": true
   },
   "outputs": [],
   "source": [
    "import phy\n",
    "from phy.cluster.manual.session import Session"
   ]
  },
  {
   "cell_type": "markdown",
   "metadata": {},
   "source": [
    "We'll also need a few standard scientific Python libraries."
   ]
  },
  {
   "cell_type": "code",
   "execution_count": 2,
   "metadata": {
    "collapsed": true
   },
   "outputs": [],
   "source": [
    "import numpy as np\n",
    "import matplotlib.pyplot as plt\n",
    "import seaborn as sns\n",
    "%matplotlib inline\n",
    "%gui qt"
   ]
  },
  {
   "cell_type": "markdown",
   "metadata": {},
   "source": [
    "This is the full path to a Kwik file:"
   ]
  },
  {
   "cell_type": "code",
   "execution_count": 3,
   "metadata": {
    "collapsed": true
   },
   "outputs": [],
   "source": [
    "filename = \"/data/spikesorting/3_nick_full/20141202_all.kwik\""
   ]
  },
  {
   "cell_type": "markdown",
   "metadata": {},
   "source": [
    "The `Session` is the main gateway to your clustering session. It gives you access to the data, the clustering process, and the views."
   ]
  },
  {
   "cell_type": "code",
   "execution_count": 4,
   "metadata": {
    "collapsed": false
   },
   "outputs": [],
   "source": [
    "session = Session()"
   ]
  },
  {
   "cell_type": "markdown",
   "metadata": {},
   "source": [
    "This is the command to open the dataset:"
   ]
  },
  {
   "cell_type": "code",
   "execution_count": 5,
   "metadata": {
    "collapsed": false
   },
   "outputs": [
    {
     "name": "stdout",
     "output_type": "stream",
     "text": []
    }
   ],
   "source": [
    "session.open(filename)"
   ]
  },
  {
   "cell_type": "markdown",
   "metadata": {},
   "source": [
    "The very first call may last a few minutes, because an internal cache is created in the same folder as your data. This will make the program much faster. Once the cache exists, re-loading the data is very fast."
   ]
  },
  {
   "cell_type": "markdown",
   "metadata": {},
   "source": [
    "## What's in the data?"
   ]
  },
  {
   "cell_type": "markdown",
   "metadata": {},
   "source": [
    "You can use tab completion in IPython to inspect the properties provided by the `Session` object. Type `session.<TAB>`:"
   ]
  },
  {
   "cell_type": "markdown",
   "metadata": {},
   "source": [
    "    session."
   ]
  },
  {
   "cell_type": "markdown",
   "metadata": {},
   "source": [
    "The `Session` object provides several useful methods, as we'll see later. It also gives access to two other important objects:\n",
    "\n",
    "* `session.model` stores the experiment's data\n",
    "* `session.clustering` is responsible for the manual clustering process"
   ]
  },
  {
   "cell_type": "markdown",
   "metadata": {},
   "source": [
    "For now, let's have a look at the model."
   ]
  },
  {
   "cell_type": "code",
   "execution_count": 11,
   "metadata": {
    "collapsed": true
   },
   "outputs": [],
   "source": [
    "model = session.model"
   ]
  },
  {
   "cell_type": "markdown",
   "metadata": {},
   "source": [
    "Here are a few details about the experiment:"
   ]
  },
  {
   "cell_type": "markdown",
   "metadata": {},
   "source": [
    "> Note: [support for multiple shanks is still WIP](https://github.com/kwikteam/phy/issues/142). Currently, phy loads the first shank automatically."
   ]
  },
  {
   "cell_type": "code",
   "execution_count": 11,
   "metadata": {
    "collapsed": false
   },
   "outputs": [
    {
     "data": {
      "text/plain": [
       "4667599"
      ]
     },
     "execution_count": 11,
     "metadata": {},
     "output_type": "execute_result"
    }
   ],
   "source": [
    "model.n_spikes"
   ]
  },
  {
   "cell_type": "code",
   "execution_count": 15,
   "metadata": {
    "collapsed": false
   },
   "outputs": [
    {
     "data": {
      "text/plain": [
       "120"
      ]
     },
     "execution_count": 15,
     "metadata": {},
     "output_type": "execute_result"
    }
   ],
   "source": [
    "model.n_channels"
   ]
  },
  {
   "cell_type": "markdown",
   "metadata": {},
   "source": [
    "The `metadata` is a dictionary with various parameters used for automatic clustering (as used in SpikeDetekt2 and KlustaKwik)."
   ]
  },
  {
   "cell_type": "code",
   "execution_count": 29,
   "metadata": {
    "collapsed": false,
    "scrolled": true
   },
   "outputs": [
    {
     "data": {
      "text/plain": [
       "{'__doc__': b'Contain default parameters.',\n",
       " 'canonical_pcs': b'N.',\n",
       " 'chunk_overlap': 375,\n",
       " 'chunk_size': 25000,\n",
       " 'connected_component_join_size': 1,\n",
       " 'detect_spikes': b'negative',\n",
       " 'diagnostics_script_path': b'N.',\n",
       " 'excerpt_size': 25000,\n",
       " 'experiment_name': b'20141202_all',\n",
       " 'extract_s_after': 18,\n",
       " 'extract_s_before': 10,\n",
       " 'filter_butter_order': 3,\n",
       " 'filter_high': 11875.0,\n",
       " 'filter_low': 500.0,\n",
       " 'kk_alwayssplitbimodal': 1,\n",
       " 'kk_assigntofirstclosestmask': 1,\n",
       " 'kk_droplastnfeatures': 0,\n",
       " 'kk_fullstepevery': 10,\n",
       " 'kk_maskstarts': 999,\n",
       " 'kk_maxiter': 10000,\n",
       " 'kk_maxpossibleclusters': 1000,\n",
       " 'kk_penaltyk': 0.0,\n",
       " 'kk_penaltyklogn': 1.0,\n",
       " 'kk_pointsforclustermask': 200,\n",
       " 'kk_priorpoint': 1,\n",
       " 'kk_randomseed': 654,\n",
       " 'kk_savecovariancemeans': 0,\n",
       " 'kk_savesorted': 0,\n",
       " 'kk_savetempclueveryiter': 1,\n",
       " 'kk_splitevery': 200,\n",
       " 'kk_splitfirst': 20,\n",
       " 'kk_subset': 50,\n",
       " 'kk_usedistributional': 1,\n",
       " 'kk_usemaskedinitialconditions': 1,\n",
       " 'kk_verbose': 2,\n",
       " 'nbits': 16,\n",
       " 'nchannels': 129,\n",
       " 'nexcerpts': 50,\n",
       " 'nfeatures_per_channel': 3,\n",
       " 'pca_nwaveforms_max': 10000,\n",
       " 'prb_file': b'imecToWhisper.prb',\n",
       " 'raw_data_files': b\"(lp1\\nS'20141202_1.dat'\\np2\\naS'20141202_CW.dat'\\np3\\na.\",\n",
       " 'sample_rate': 25000,\n",
       " 'threshold_strong_std_factor': 4.0,\n",
       " 'threshold_weak_std_factor': 2.0,\n",
       " 'voltage_gain': 10.0,\n",
       " 'waveforms_nsamples': 28,\n",
       " 'weight_power': 2}"
      ]
     },
     "execution_count": 29,
     "metadata": {},
     "output_type": "execute_result"
    }
   ],
   "source": [
    "model.metadata"
   ]
  },
  {
   "cell_type": "code",
   "execution_count": 16,
   "metadata": {
    "collapsed": true
   },
   "outputs": [],
   "source": [
    "st = model.spike_times\n",
    "sc = model.spike_clusters"
   ]
  },
  {
   "cell_type": "markdown",
   "metadata": {},
   "source": [
    "Both arrays have `n_spikes` elements. The following contains the spike times in number of samples:"
   ]
  },
  {
   "cell_type": "code",
   "execution_count": 18,
   "metadata": {
    "collapsed": false
   },
   "outputs": [
    {
     "data": {
      "text/plain": [
       "array([       5,      101,      110, ..., 53678148, 53678173, 53678228], dtype=uint64)"
      ]
     },
     "execution_count": 18,
     "metadata": {},
     "output_type": "execute_result"
    }
   ],
   "source": [
    "st"
   ]
  },
  {
   "cell_type": "markdown",
   "metadata": {},
   "source": [
    "And here are the corresponding spike clusters:"
   ]
  },
  {
   "cell_type": "code",
   "execution_count": 19,
   "metadata": {
    "collapsed": false
   },
   "outputs": [
    {
     "data": {
      "text/plain": [
       "array([   1,    1,    1, ..., 1083,    1,    1], dtype=uint32)"
      ]
     },
     "execution_count": 19,
     "metadata": {},
     "output_type": "execute_result"
    }
   ],
   "source": [
    "sc"
   ]
  },
  {
   "cell_type": "markdown",
   "metadata": {},
   "source": [
    "Having access to the data in the notebook means that you can run any analysis or visualization you want, even if they're not yet implemented in phy. For example, there isn't yet a function for computing the firing rate (there will be eventually), but in the meantime you can do it easily with NumPy/matplotlib. As an example, here is the firing rate of the population over time:"
   ]
  },
  {
   "cell_type": "code",
   "execution_count": 27,
   "metadata": {
    "collapsed": false
   },
   "outputs": [
    {
     "data": {
      "image/png": "[encoded data removed]",
      "text/plain": [
       "<matplotlib.figure.Figure at 0x7f3c6d6497b8>"
      ]
     },
     "metadata": {},
     "output_type": "display_data"
    }
   ],
   "source": [
    "bins = np.linspace(0, st.max(), 1000)\n",
    "plt.hist(st, bins);"
   ]
  },
  {
   "cell_type": "markdown",
   "metadata": {},
   "source": [
    "## Probe"
   ]
  },
  {
   "cell_type": "markdown",
   "metadata": {},
   "source": [
    "Here is how you can get the probe positions and make a plot:"
   ]
  },
  {
   "cell_type": "code",
   "execution_count": null,
   "metadata": {
    "collapsed": true
   },
   "outputs": [],
   "source": [
    "channel_pos = model.probe.positions"
   ]
  },
  {
   "cell_type": "code",
   "execution_count": 12,
   "metadata": {
    "collapsed": false
   },
   "outputs": [
    {
     "data": {
      "image/png": "[encoded data removed]",
      "text/plain": [
       "<matplotlib.figure.Figure at 0x7f9a2c03dac8>"
      ]
     },
     "metadata": {},
     "output_type": "display_data"
    }
   ],
   "source": [
    "plt.scatter(channel_pos[:, 0], channel_pos[:, 1]);"
   ]
  },
  {
   "cell_type": "markdown",
   "metadata": {},
   "source": [
    "## Clusters"
   ]
  },
  {
   "cell_type": "markdown",
   "metadata": {},
   "source": [
    "To find out the list of clusters present in the file, you can use the `clustering` object:"
   ]
  },
  {
   "cell_type": "code",
   "execution_count": 24,
   "metadata": {
    "collapsed": true
   },
   "outputs": [],
   "source": [
    "clustering = session.clustering"
   ]
  },
  {
   "cell_type": "markdown",
   "metadata": {},
   "source": [
    "Again, you can inspect the properties and methods of this object with tab completion. Here are the main properties:"
   ]
  },
  {
   "cell_type": "code",
   "execution_count": 13,
   "metadata": {
    "collapsed": false
   },
   "outputs": [
    {
     "data": {
      "text/plain": [
       "243"
      ]
     },
     "execution_count": 13,
     "metadata": {},
     "output_type": "execute_result"
    }
   ],
   "source": [
    "clustering.n_clusters"
   ]
  },
  {
   "cell_type": "markdown",
   "metadata": {},
   "source": [
    "Here is the list of clusters:"
   ]
  },
  {
   "cell_type": "code",
   "execution_count": 14,
   "metadata": {
    "collapsed": false,
    "scrolled": false
   },
   "outputs": [
    {
     "data": {
      "text/plain": [
       "array([   1,   10,   23,   32,   35,   37,   38,   61,  104,  108,  112,\n",
       "        117,  120,  127,  141,  143,  151,  165,  176,  186,  188,  206,\n",
       "        211,  223,  239,  246,  263,  273,  288,  297,  300,  309,  331,\n",
       "        354,  365,  368,  374,  385,  413,  416,  423,  431,  446,  451,\n",
       "        452,  459,  467,  478,  486,  489,  493,  500,  503,  505,  519,\n",
       "        545,  557,  575,  601,  613,  639,  643,  648,  651,  652,  659,\n",
       "        662,  663,  676,  692,  703,  704,  737,  746,  751,  756,  763,\n",
       "        765,  766,  783,  792,  798,  800,  809,  814,  816,  820,  824,\n",
       "        826,  828,  888,  901,  909,  914,  915,  917,  928,  929,  940,\n",
       "        945,  950,  953,  958,  966,  976,  991, 1002, 1003, 1008, 1009,\n",
       "       1010, 1014, 1015, 1022, 1024, 1034, 1036, 1039, 1040, 1044, 1048,\n",
       "       1052, 1055, 1058, 1061, 1068, 1069, 1075, 1083, 1084, 1087, 1089,\n",
       "       1093, 1094, 1095, 1097, 1099, 1102, 1107, 1110, 1115, 1117, 1119,\n",
       "       1127, 1130, 1136, 1143, 1145, 1148, 1159, 1163, 1171, 1172, 1177,\n",
       "       1180, 1191, 1192, 1195, 1198, 1199, 1203, 1207, 1208, 1209, 1210,\n",
       "       1211, 1212, 1213, 1214, 1215, 1219, 1220, 1223, 1224, 1225, 1226,\n",
       "       1227, 1230, 1233, 1234, 1235, 1236, 1237, 1239, 1240, 1241, 1243,\n",
       "       1245, 1246, 1249, 1250, 1253, 1255, 1256, 1258, 1260, 1262, 1263,\n",
       "       1266, 1267, 1268, 1269, 1270, 1271, 1272, 1274, 1275, 1277, 1278,\n",
       "       1279, 1280, 1281, 1282, 1283, 1285, 1286, 1289, 1290, 1291, 1292,\n",
       "       1293, 1297, 1298, 1299, 1302, 1303, 1304, 1305, 1307, 1310, 1312,\n",
       "       1313, 1314, 1316, 1317, 1320, 1322, 1323, 1324, 1325, 1326, 1327,\n",
       "       1328], dtype=uint32)"
      ]
     },
     "execution_count": 14,
     "metadata": {},
     "output_type": "execute_result"
    }
   ],
   "source": [
    "clustering.cluster_ids"
   ]
  },
  {
   "cell_type": "markdown",
   "metadata": {},
   "source": [
    "> Note: cluster identifiers are unique. A given cluster as identified by its ID cannot change. If a merge happens, the old clusters are deleted and a new one is created. Idem for splits. This assumption makes the implementation much simpler."
   ]
  },
  {
   "cell_type": "markdown",
   "metadata": {},
   "source": [
    "Here are the number of spikes in the clusters:"
   ]
  },
  {
   "cell_type": "code",
   "execution_count": 15,
   "metadata": {
    "collapsed": false
   },
   "outputs": [
    {
     "data": {
      "text/plain": [
       "{1: 3068942,\n",
       " 10: 1847,\n",
       " 23: 2502,\n",
       " 32: 1312,\n",
       " 35: 3214,\n",
       " 37: 4135,\n",
       " 38: 6929,\n",
       " 61: 2296,\n",
       " 104: 3498,\n",
       " 108: 1093,\n",
       " 112: 2177,\n",
       " ...,\n",
       " 1317: 4691,\n",
       " 1320: 31988,\n",
       " 1322: 3390,\n",
       " 1323: 1631,\n",
       " 1324: 7499,\n",
       " 1325: 15669,\n",
       " 1326: 9322,\n",
       " 1327: 5671,\n",
       " 1328: 6179}"
      ]
     },
     "execution_count": 15,
     "metadata": {},
     "output_type": "execute_result"
    }
   ],
   "source": [
    "clustering.cluster_counts"
   ]
  },
  {
   "cell_type": "markdown",
   "metadata": {},
   "source": [
    "Finally, the following variable is available for advanced uses: it is a dictionary mapping every cluster id to the list of spikes belonging to that cluster."
   ]
  },
  {
   "cell_type": "markdown",
   "metadata": {},
   "source": [
    "    clustering.spikes_per_cluster"
   ]
  },
  {
   "cell_type": "markdown",
   "metadata": {},
   "source": [
    "## Visualization for manual sorting"
   ]
  },
  {
   "cell_type": "markdown",
   "metadata": {},
   "source": [
    "Let's now move to the rich visualization widgets for manual clustering. There are three types of views currently implemented:\n",
    "\n",
    "* **Feature view**\n",
    "* **Waveform view**\n",
    "* **Correlograms view**"
   ]
  },
  {
   "cell_type": "markdown",
   "metadata": {},
   "source": [
    "Let's open a waveform view:"
   ]
  },
  {
   "cell_type": "code",
   "execution_count": 35,
   "metadata": {
    "collapsed": false
   },
   "outputs": [],
   "source": [
    "session.select([])"
   ]
  },
  {
   "cell_type": "code",
   "execution_count": 36,
   "metadata": {
    "collapsed": false
   },
   "outputs": [],
   "source": [
    "w = session.show_waveforms()"
   ]
  },
  {
   "cell_type": "markdown",
   "metadata": {},
   "source": [
    "This should open a black window on your computer. It doesn't contain anything yet, because we have to select clusters first."
   ]
  },
  {
   "cell_type": "markdown",
   "metadata": {},
   "source": [
    "A **wizard** proposing pairs of candidate clusters for merging is still in the works. In the meantime, you can use Python to select interesting clusters. For example, let's look the biggest clusters:"
   ]
  },
  {
   "cell_type": "code",
   "execution_count": 39,
   "metadata": {
    "collapsed": false
   },
   "outputs": [
    {
     "data": {
      "text/plain": [
       "[(1, 3068942), (1143, 45372), (1075, 43925), (1159, 37107), (1320, 31988)]"
      ]
     },
     "execution_count": 39,
     "metadata": {},
     "output_type": "execute_result"
    }
   ],
   "source": [
    "# This sorts the dictionary by value (spike count) in decreasing order.\n",
    "from operator import itemgetter\n",
    "biggest = sorted(clustering.cluster_counts.items(), key=itemgetter(1))\n",
    "biggest[-1:-6:-1]"
   ]
  },
  {
   "cell_type": "markdown",
   "metadata": {},
   "source": [
    "The biggest cluster is the noise. Let's have a look at the next one:"
   ]
  },
  {
   "cell_type": "code",
   "execution_count": null,
   "metadata": {
    "collapsed": false,
    "scrolled": true
   },
   "outputs": [],
   "source": [
    "session.select([1143])"
   ]
  },
  {
   "cell_type": "markdown",
   "metadata": {},
   "source": [
    "Here is a screenshot:"
   ]
  },
  {
   "cell_type": "markdown",
   "metadata": {},
   "source": [
    "![Waveforms](images/wave.png)"
   ]
  },
  {
   "cell_type": "markdown",
   "metadata": {},
   "source": [
    "> You can pan and zoom with the mouse and the keyboard. The interaction patterns will be improved in the future."
   ]
  },
  {
   "cell_type": "markdown",
   "metadata": {},
   "source": [
    "Now let's select more clusters:"
   ]
  },
  {
   "cell_type": "code",
   "execution_count": 7,
   "metadata": {
    "collapsed": true
   },
   "outputs": [],
   "source": [
    "session.select([1075, 1159, 1320])"
   ]
  },
  {
   "cell_type": "markdown",
   "metadata": {},
   "source": [
    "Here is the feature view:"
   ]
  },
  {
   "cell_type": "code",
   "execution_count": 6,
   "metadata": {
    "collapsed": false,
    "scrolled": true
   },
   "outputs": [],
   "source": [
    "f = session.show_features()"
   ]
  },
  {
   "cell_type": "markdown",
   "metadata": {},
   "source": [
    "![Features](images/fet.png)"
   ]
  },
  {
   "cell_type": "markdown",
   "metadata": {},
   "source": [
    "The feature view displays the features of the selected clusters in several dimensions. The first dimension is time. The other are three channels that contain the highest number of unmasked spikes for these clusters."
   ]
  },
  {
   "cell_type": "markdown",
   "metadata": {},
   "source": [
    "There can be an arbitrary number of dimensions. There is no GUI yet to choose them, but in the meantime you can select dimensions manually like this:"
   ]
  },
  {
   "cell_type": "code",
   "execution_count": 8,
   "metadata": {
    "collapsed": false
   },
   "outputs": [],
   "source": [
    "f.view.dimensions = ['time', (1, 0), (2, 0), (3, 0)]"
   ]
  },
  {
   "cell_type": "markdown",
   "metadata": {},
   "source": [
    "This automatically updates the feature view. In this list, every item is a dimension represented by a column (or row, the grid is mostly symmetrical). The dimension can be either `'time'` or a tuple `(channel, feature)` where `feature` is typically 0, 1, or 2. On the diagonal, instead of seeing dimension `(channel, feature)` over the same dimension `(channel, feature)`, you see `(channel, feature)` over `(channel, feature_bis)` where `feature_bis = 1 - feature` (this will probably be improved in the future)."
   ]
  },
  {
   "cell_type": "markdown",
   "metadata": {},
   "source": [
    "Finally, here are the correlograms (they are computed on the fly):"
   ]
  },
  {
   "cell_type": "code",
   "execution_count": null,
   "metadata": {
    "collapsed": false,
    "scrolled": true
   },
   "outputs": [],
   "source": [
    "session.show_correlograms()"
   ]
  },
  {
   "cell_type": "markdown",
   "metadata": {},
   "source": [
    "![CCGs](images/ccg.png)"
   ]
  },
  {
   "cell_type": "markdown",
   "metadata": {},
   "source": [
    "## Clustering"
   ]
  },
  {
   "cell_type": "markdown",
   "metadata": {},
   "source": [
    "The `session` object implements some methods for clustering:"
   ]
  },
  {
   "cell_type": "markdown",
   "metadata": {},
   "source": [
    "* `session.merge(clusters)`: this creates a new cluster out of the spikes contained in the specified clusters. The old clusters are deleted.\n",
    "* `session.split(spikes)`: this create a new cluster out of the selected spikes. Since the old clusters are all modified as a result of this, their identifiers are all updated (they become new clusters with some spikes missing).\n",
    "* `undo()` and `redo()`."
   ]
  },
  {
   "cell_type": "markdown",
   "metadata": {},
   "source": [
    "> Warning: although the functionality has been implemented, it is not yet ready for being used. This should be ready by next week."
   ]
  },
  {
   "cell_type": "markdown",
   "metadata": {},
   "source": [
    "## Features and waveforms"
   ]
  },
  {
   "cell_type": "markdown",
   "metadata": {},
   "source": [
    "You can also access the features and waveforms data directly:"
   ]
  },
  {
   "cell_type": "markdown",
   "metadata": {},
   "source": [
    "This is the `features_masks` array stored in the KWX file, memory-mapped by h5py:"
   ]
  },
  {
   "cell_type": "code",
   "execution_count": 15,
   "metadata": {
    "collapsed": false
   },
   "outputs": [
    {
     "data": {
      "text/plain": [
       "<HDF5 dataset \"features_masks\": shape (4667599, 360, 2), type \"<f4\">"
      ]
     },
     "execution_count": 15,
     "metadata": {},
     "output_type": "execute_result"
    }
   ],
   "source": [
    "model.features_masks"
   ]
  },
  {
   "cell_type": "code",
   "execution_count": 16,
   "metadata": {
    "collapsed": false
   },
   "outputs": [
    {
     "data": {
      "text/plain": [
       "(4667599, 360)"
      ]
     },
     "execution_count": 16,
     "metadata": {},
     "output_type": "execute_result"
    }
   ],
   "source": [
    "model.features.shape"
   ]
  },
  {
   "cell_type": "markdown",
   "metadata": {},
   "source": [
    "You can use it as a normal NumPy array, but be careful because some access patterns are slow. If you want per-cluster data, you'd better use the cluster store (see later in this notebook.)"
   ]
  },
  {
   "cell_type": "code",
   "execution_count": 18,
   "metadata": {
    "collapsed": false
   },
   "outputs": [
    {
     "data": {
      "text/plain": [
       "array([[ 0.85523224,  0.70657474,  1.36157477, ..., -0.43144026,\n",
       "         1.69687164,  0.36244535],\n",
       "       [-1.33068109,  1.71427059,  0.68786293, ..., -0.86158049,\n",
       "         0.96890873,  0.21655154],\n",
       "       [-0.86157173, -0.6342169 ,  0.33258784, ...,  1.09780407,\n",
       "        -0.36814305, -1.00799847]], dtype=float32)"
      ]
     },
     "execution_count": 18,
     "metadata": {},
     "output_type": "execute_result"
    }
   ],
   "source": [
    "model.features[1000:1003, ...]"
   ]
  },
  {
   "cell_type": "markdown",
   "metadata": {},
   "source": [
    "You can also access the waveforms. But note that these are not obtained from the KWX file: they are obtained directly from the raw data in the KWD file. This is because we'll remove the waveforms from the KWX file in the next version of the file format."
   ]
  },
  {
   "cell_type": "markdown",
   "metadata": {},
   "source": [
    "This looks like an array, but it's rather a proxy to the waveforms in the KWD file. Waveforms are filtered on-the-fly when they're loaded:"
   ]
  },
  {
   "cell_type": "code",
   "execution_count": 19,
   "metadata": {
    "collapsed": false,
    "scrolled": true
   },
   "outputs": [
    {
     "data": {
      "text/plain": [
       "(4667599, 28, 120)"
      ]
     },
     "execution_count": 19,
     "metadata": {},
     "output_type": "execute_result"
    }
   ],
   "source": [
    "model.waveforms.shape"
   ]
  },
  {
   "cell_type": "markdown",
   "metadata": {},
   "source": [
    "This shows the waveforms of one spike:"
   ]
  },
  {
   "cell_type": "code",
   "execution_count": 22,
   "metadata": {
    "collapsed": false
   },
   "outputs": [
    {
     "data": {
      "image/png": "[encoded data removed]",
      "text/plain": [
       "<matplotlib.figure.Figure at 0x7f9a1469f4e0>"
      ]
     },
     "metadata": {},
     "output_type": "display_data"
    }
   ],
   "source": [
    "plt.plot(model.waveforms[100][0]);"
   ]
  },
  {
   "cell_type": "markdown",
   "metadata": {},
   "source": [
    "> Of course, using the waveform view is a better idea in this case."
   ]
  },
  {
   "cell_type": "markdown",
   "metadata": {},
   "source": [
    "## Custom GUIs"
   ]
  },
  {
   "cell_type": "markdown",
   "metadata": {},
   "source": [
    "We're still working on the GUI. In the meantime, with some knowledge of Python and IPython, you can build your own widgets."
   ]
  },
  {
   "cell_type": "markdown",
   "metadata": {},
   "source": [
    "For example, here is how you can create a little GUI to display the masks of a given cluster."
   ]
  },
  {
   "cell_type": "code",
   "execution_count": 71,
   "metadata": {
    "collapsed": true
   },
   "outputs": [],
   "source": [
    "clusters = clustering.cluster_ids"
   ]
  },
  {
   "cell_type": "code",
   "execution_count": null,
   "metadata": {
    "collapsed": false
   },
   "outputs": [],
   "source": [
    "from IPython.html.widgets import interact"
   ]
  },
  {
   "cell_type": "code",
   "execution_count": 74,
   "metadata": {
    "collapsed": false
   },
   "outputs": [
    {
     "data": {
      "image/png": "[encoded data removed]",
      "text/plain": [
       "<matplotlib.figure.Figure at 0x7f9a139e52e8>"
      ]
     },
     "metadata": {},
     "output_type": "display_data"
    }
   ],
   "source": [
    "@interact(i=(0, len(clusters) - 1))\n",
    "def show_masks(i=5):\n",
    "    spikes = clustering.spikes_in_clusters([clusters[i]])\n",
    "    plt.figure(figsize=(12,6))\n",
    "    plt.imshow(model.masks[spikes[:30]], interpolation='none')\n",
    "    plt.grid(None)\n",
    "    plt.title(\"Masks of cluster %d\" % clusters[i])\n",
    "    plt.xlabel('Channel')\n",
    "    plt.ylabel('Spike')"
   ]
  },
  {
   "cell_type": "markdown",
   "metadata": {},
   "source": [
    "This displays a slider that allows you to go through all clusters and see their masks."
   ]
  },
  {
   "cell_type": "markdown",
   "metadata": {},
   "source": [
    "![Slider](images/slider.png)"
   ]
  },
  {
   "cell_type": "markdown",
   "metadata": {},
   "source": [
    "This will be mostly useful to Shabnam for the time being!"
   ]
  },
  {
   "cell_type": "markdown",
   "metadata": {},
   "source": [
    "## Cluster store"
   ]
  },
  {
   "cell_type": "markdown",
   "metadata": {},
   "source": [
    "> Warning: internal details ahead."
   ]
  },
  {
   "cell_type": "markdown",
   "metadata": {},
   "source": [
    "phy keeps an internal cache of the features and masks in a subfolder of the original data folder. This takes some disk space, but it makes the interface vastly faster. Data belonging to a given custer is is a single file, which makes it very fast to load in RAM. Here is how it's organized if you're curious:"
   ]
  },
  {
   "cell_type": "code",
   "execution_count": 98,
   "metadata": {
    "collapsed": false,
    "scrolled": true
   },
   "outputs": [
    {
     "name": "stdout",
     "output_type": "stream",
     "text": [
      "/data/spikesorting/3_nick_full\n"
     ]
    }
   ],
   "source": [
    "%cd \"/data/spikesorting/3_nick_full/\""
   ]
  },
  {
   "cell_type": "code",
   "execution_count": 99,
   "metadata": {
    "collapsed": false
   },
   "outputs": [
    {
     "name": "stdout",
     "output_type": "stream",
     "text": [
      "\u001b[0m\u001b[01;32m20141202_all.kwik\u001b[0m*  \u001b[01;32m20141202_all.kwx\u001b[0m*  \u001b[01;34m20141202_all.phy\u001b[0m/  \u001b[01;32m20141202_all.raw.kwd\u001b[0m*\r\n"
     ]
    }
   ],
   "source": [
    "%ls"
   ]
  },
  {
   "cell_type": "code",
   "execution_count": 100,
   "metadata": {
    "collapsed": false
   },
   "outputs": [
    {
     "name": "stdout",
     "output_type": "stream",
     "text": [
      "/data/spikesorting/3_nick_full/20141202_all.phy\n"
     ]
    }
   ],
   "source": [
    "%cd 20141202_all.phy"
   ]
  },
  {
   "cell_type": "code",
   "execution_count": 101,
   "metadata": {
    "collapsed": false
   },
   "outputs": [
    {
     "name": "stdout",
     "output_type": "stream",
     "text": [
      "\u001b[0m\u001b[01;34mcluster_store\u001b[0m/  \u001b[01;32minternal_settings\u001b[0m*\r\n"
     ]
    }
   ],
   "source": [
    "%ls"
   ]
  },
  {
   "cell_type": "code",
   "execution_count": 102,
   "metadata": {
    "collapsed": false
   },
   "outputs": [
    {
     "name": "stdout",
     "output_type": "stream",
     "text": [
      "/data/spikesorting/3_nick_full/20141202_all.phy/cluster_store\n",
      "/data/spikesorting/3_nick_full/20141202_all.phy/cluster_store/1\n",
      "/data/spikesorting/3_nick_full/20141202_all.phy/cluster_store/1/main\n"
     ]
    }
   ],
   "source": [
    "%cd cluster_store\n",
    "%cd 1\n",
    "%cd main"
   ]
  },
  {
   "cell_type": "code",
   "execution_count": 103,
   "metadata": {
    "collapsed": false,
    "scrolled": true
   },
   "outputs": [
    {
     "name": "stdout",
     "output_type": "stream",
     "text": [
      "\u001b[0m\u001b[01;32m1.features\u001b[0m*     \u001b[01;32m1163.features\u001b[0m*  \u001b[01;32m1263.features\u001b[0m*  \u001b[01;32m151.features\u001b[0m*  \u001b[01;32m613.features\u001b[0m*\r\n",
      "\u001b[01;32m1.masks\u001b[0m*        \u001b[01;32m1163.masks\u001b[0m*     \u001b[01;32m1263.masks\u001b[0m*     \u001b[01;32m151.masks\u001b[0m*     \u001b[01;32m613.masks\u001b[0m*\r\n",
      "\u001b[01;32m10.features\u001b[0m*    \u001b[01;32m117.features\u001b[0m*   \u001b[01;32m1266.features\u001b[0m*  \u001b[01;32m165.features\u001b[0m*  \u001b[01;32m639.features\u001b[0m*\r\n",
      "\u001b[01;32m10.masks\u001b[0m*       \u001b[01;32m117.masks\u001b[0m*      \u001b[01;32m1266.masks\u001b[0m*     \u001b[01;32m165.masks\u001b[0m*     \u001b[01;32m639.masks\u001b[0m*\r\n",
      "\u001b[01;32m1002.features\u001b[0m*  \u001b[01;32m1171.features\u001b[0m*  \u001b[01;32m1267.features\u001b[0m*  \u001b[01;32m176.features\u001b[0m*  \u001b[01;32m643.features\u001b[0m*\r\n",
      "\u001b[01;32m1145.masks\u001b[0m*     \u001b[01;32m1258.masks\u001b[0m*     \u001b[01;32m1328.masks\u001b[0m*     \u001b[01;32m575.masks\u001b[0m*     \u001b[01;32m991.masks\u001b[0m*\r\n",
      "\u001b[01;32m1148.features\u001b[0m*  \u001b[01;32m1260.features\u001b[0m*  \u001b[01;32m141.features\u001b[0m*   \u001b[01;32m601.features\u001b[0m*\r\n",
      "\u001b[01;32m1148.masks\u001b[0m*     \u001b[01;32m1260.masks\u001b[0m*     \u001b[01;32m141.masks\u001b[0m*      \u001b[01;32m601.masks\u001b[0m*\r\n",
      "\u001b[01;32m1159.features\u001b[0m*  \u001b[01;32m1262.features\u001b[0m*  \u001b[01;32m143.features\u001b[0m*   \u001b[01;32m61.features\u001b[0m*\r\n",
      "\u001b[01;32m1159.masks\u001b[0m*     \u001b[01;32m1262.masks\u001b[0m*     \u001b[01;32m143.masks\u001b[0m*      \u001b[01;32m61.masks\u001b[0m*\r\n"
     ]
    }
   ],
   "source": [
    "%ls"
   ]
  },
  {
   "cell_type": "markdown",
   "metadata": {},
   "source": [
    "This needs to be updated in real-time when doing merges and splits in the interface."
   ]
  },
  {
   "cell_type": "markdown",
   "metadata": {},
   "source": [
    "## Settings"
   ]
  },
  {
   "cell_type": "markdown",
   "metadata": {},
   "source": [
    "You can put global settings in `~/.phy/user_settings.py`. Data-specific settings are to be in `/path/to/data/myexperiment.phy/user_settings.py`."
   ]
  },
  {
   "cell_type": "markdown",
   "metadata": {},
   "source": [
    "Here is an excerpt of the current default settings for manual clustering:"
   ]
  },
  {
   "cell_type": "markdown",
   "metadata": {},
   "source": [
    "    # -----------------------------------------------------------------------------\n",
    "    # Correlograms\n",
    "    # -----------------------------------------------------------------------------\n",
    "\n",
    "    # Number of time samples in a bin.\n",
    "    manual_clustering.correlograms_binsize = 20\n",
    "\n",
    "    # Number of bins (odd number).\n",
    "    manual_clustering.correlograms_winsize_bins = 2 * 25 + 1\n",
    "\n",
    "    # Maximum number of spikes for the correlograms.\n",
    "    manual_clustering.correlograms_n_spikes_max = 1000000\n",
    "\n",
    "    # Contiguous chunks of spikes for computing the CCGs.\n",
    "    manual_clustering.correlograms_excerpt_size = 100000\n",
    "\n",
    "\n",
    "    # -----------------------------------------------------------------------------\n",
    "    # Views\n",
    "    # -----------------------------------------------------------------------------\n",
    "\n",
    "    # Maximum number of spikes to display in the waveform view.\n",
    "    manual_clustering.waveforms_n_spikes_max = 100\n",
    "\n",
    "    # Load contiguous chunks of waveforms (contiguous I/O is faster).\n",
    "    # Higher value = faster loading of waveforms.\n",
    "    manual_clustering.waveforms_excerpt_size = 20\n",
    "\n",
    "    # Maximum number of spikes to display in the feature view.\n",
    "    manual_clustering.features_n_spikes_max = 10000\n"
   ]
  },
  {
   "cell_type": "markdown",
   "metadata": {},
   "source": [
    "## Conclusion"
   ]
  },
  {
   "cell_type": "markdown",
   "metadata": {},
   "source": [
    "There are many more features to come, notably:\n",
    "\n",
    "* Wizard\n",
    "* Interactive cluster view\n",
    "* GUI with the visualization widgets\n",
    "* Save to Kwik"
   ]
  },
  {
   "cell_type": "markdown",
   "metadata": {},
   "source": [
    "We're looking forward to hearing your feedback on the features that would be most helpful to you for your manual sorting sessions."
   ]
  }
 ],
 "metadata": {
  "kernelspec": {
   "display_name": "Python 3",
   "language": "python",
   "name": "python3"
  },
  "language_info": {
   "codemirror_mode": {
    "name": "ipython",
    "version": 3
   },
   "file_extension": ".py",
   "mimetype": "text/x-python",
   "name": "python",
   "nbconvert_exporter": "python",
   "pygments_lexer": "ipython3",
   "version": "3.4.3"
  }
 },
 "nbformat": 4,
 "nbformat_minor": 0
}

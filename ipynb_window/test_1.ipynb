{
 "metadata": {
  "name": "",
  "signature": "sha256:f959b8cd7c34291d13690a9b9e14fac764f5d3dcd6494a969d0b40d73a27dab1"
 },
 "nbformat": 3,
 "nbformat_minor": 0,
 "worksheets": [
  {
   "cells": [
    {
     "cell_type": "code",
     "collapsed": false,
     "input": [
      "%%writefile popup.html\n",
      "<html>\n",
      "<script>\n",
      "function send() {\n",
      "    window.comm.send('hello');\n",
      "}\n",
      "</script>\n",
      "<body>\n",
      "<input type=\"button\" value=\"go\" onclick=\"send();\" />\n",
      "</body>\n",
      "</html>"
     ],
     "language": "python",
     "metadata": {},
     "outputs": [
      {
       "output_type": "stream",
       "stream": "stdout",
       "text": [
        "Overwriting popup.html\n"
       ]
      }
     ],
     "prompt_number": 1
    },
    {
     "cell_type": "code",
     "collapsed": false,
     "input": [
      "from __future__ import print_function\n",
      "from IPython.html import widgets\n",
      "from IPython.display import display\n",
      "from IPython.utils.traitlets import Unicode"
     ],
     "language": "python",
     "metadata": {},
     "outputs": [],
     "prompt_number": 2
    },
    {
     "cell_type": "code",
     "collapsed": false,
     "input": [
      "class TestWidget(widgets.DOMWidget):\n",
      "    _view_name = Unicode('TestView', sync=True)\n",
      "    \n",
      "    def __init__(self, **kwargs):\n",
      "        super(TestWidget, self).__init__(**kwargs)\n",
      "        self.on_msg(self.print_msg)\n",
      "    \n",
      "    def print_msg(self, _, contents):\n",
      "        print(\"hello from python\")"
     ],
     "language": "python",
     "metadata": {},
     "outputs": [],
     "prompt_number": 21
    },
    {
     "cell_type": "code",
     "collapsed": false,
     "input": [
      "%%javascript\n",
      "\n",
      "require([\"widgets/js/widget\"], function(WidgetManager){\n",
      "    \n",
      "    var TestView = IPython.DOMWidgetView.extend({\n",
      "        render: function(){\n",
      "            var that = this;\n",
      "            \n",
      "            this.model.comm.on_msg($.proxy(this.on_msg, this));\n",
      "            \n",
      "            // Create the date picker control.\n",
      "            this.$button = $('<input />')\n",
      "                .attr('type', 'button')\n",
      "                .attr('value', 'go')\n",
      "                .click(function() {\n",
      "                    console.log(that.model.comm);\n",
      "                    that.send('hello from js');\n",
      "                })\n",
      "                .appendTo(this.$el);\n",
      "            \n",
      "            /*this.popup = window.open('popup.html', '', \n",
      "                                     'width=200,height=200,left=1700,top=100');\n",
      "            this.popup.comm = this.model.comm;*/\n",
      "        },\n",
      "        \n",
      "        on_msg: function(msg) {\n",
      "            var contents = msg.content.data;\n",
      "            //this.popup.document.write(contents);\n",
      "            this.$el.append('<p>' + contents + '</p>');\n",
      "        }\n",
      "    });\n",
      "    \n",
      "    WidgetManager.register_widget_view('TestView', TestView);\n",
      "});"
     ],
     "language": "python",
     "metadata": {},
     "outputs": [
      {
       "javascript": [
        "\n",
        "require([\"widgets/js/widget\"], function(WidgetManager){\n",
        "    \n",
        "    var TestView = IPython.DOMWidgetView.extend({\n",
        "        render: function(){\n",
        "            var that = this;\n",
        "            \n",
        "            this.model.comm.on_msg($.proxy(this.on_msg, this));\n",
        "            \n",
        "            // Create the date picker control.\n",
        "            this.$button = $('<input />')\n",
        "                .attr('type', 'button')\n",
        "                .attr('value', 'go')\n",
        "                .click(function() {\n",
        "                    console.log(that.model.comm);\n",
        "                    that.send('hello from js');\n",
        "                })\n",
        "                .appendTo(this.$el);\n",
        "            \n",
        "            /*this.popup = window.open('popup.html', '', \n",
        "                                     'width=200,height=200,left=1700,top=100');\n",
        "            this.popup.comm = this.model.comm;*/\n",
        "        },\n",
        "        \n",
        "        on_msg: function(msg) {\n",
        "            var contents = msg.content.data;\n",
        "            //this.popup.document.write(contents);\n",
        "            this.$el.append('<p>' + contents + '</p>');\n",
        "        }\n",
        "    });\n",
        "    \n",
        "    WidgetManager.register_widget_view('TestView', TestView);\n",
        "});"
       ],
       "metadata": {},
       "output_type": "display_data",
       "text": [
        "<IPython.core.display.Javascript at 0x7fdc74122d68>"
       ]
      }
     ],
     "prompt_number": 22
    },
    {
     "cell_type": "code",
     "collapsed": false,
     "input": [
      "my_widget = TestWidget()"
     ],
     "language": "python",
     "metadata": {},
     "outputs": [],
     "prompt_number": 23
    },
    {
     "cell_type": "code",
     "collapsed": false,
     "input": [
      "display(my_widget)"
     ],
     "language": "python",
     "metadata": {},
     "outputs": [
      {
       "output_type": "stream",
       "stream": "stdout",
       "text": [
        "hello from python\n"
       ]
      }
     ],
     "prompt_number": 24
    },
    {
     "cell_type": "code",
     "collapsed": false,
     "input": [
      "button = widgets.ButtonWidget(description='go')\n",
      "def f(b):\n",
      "    my_widget.comm.send('hello from python')\n",
      "button.on_click(f)\n",
      "display(button)"
     ],
     "language": "python",
     "metadata": {},
     "outputs": [],
     "prompt_number": 25
    },
    {
     "cell_type": "code",
     "collapsed": false,
     "input": [],
     "language": "python",
     "metadata": {},
     "outputs": [],
     "prompt_number": 20
    },
    {
     "cell_type": "code",
     "collapsed": false,
     "input": [],
     "language": "python",
     "metadata": {},
     "outputs": []
    }
   ],
   "metadata": {}
  }
 ]
}
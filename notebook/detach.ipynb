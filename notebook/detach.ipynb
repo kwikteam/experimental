{
 "metadata": {
  "kernelspec": {
   "codemirror_mode": {
    "name": "python",
    "version": 2
   },
   "display_name": "Python 2",
   "language": "python",
   "name": "python2"
  },
  "name": "",
  "signature": "sha256:5d0a82e651151670026e3a9bd0184f90e2263b5fbc6a523980bf0834cc3c9f64"
 },
 "nbformat": 3,
 "nbformat_minor": 0,
 "worksheets": [
  {
   "cells": [
    {
     "cell_type": "raw",
     "metadata": {},
     "source": [
      "import IPython.html.widgets as widgets"
     ]
    },
    {
     "cell_type": "raw",
     "metadata": {},
     "source": [
      "%%javascript\n",
      "window.popup = window.open(\"\", \"\", \n",
      "                           \"width=200, height=200, left=1200, top=200\").document.body;"
     ]
    },
    {
     "cell_type": "raw",
     "metadata": {},
     "source": [
      "%%javascript\n",
      "$(window.popup).empty();"
     ]
    },
    {
     "cell_type": "raw",
     "metadata": {},
     "source": [
      "%%javascript\n",
      "$(window.popup).append($(\"<div>Hello</div>\"))"
     ]
    },
    {
     "cell_type": "raw",
     "metadata": {},
     "source": [
      "widgets.Button(description=\"go\")"
     ]
    },
    {
     "cell_type": "code",
     "collapsed": false,
     "input": [
      "from IPython.html import widgets\n",
      "from IPython.utils.traitlets import Unicode\n",
      " \n",
      "class MyWidget(widgets.DOMWidget):\n",
      "    _view_name = Unicode('MyView', sync=True)"
     ],
     "language": "python",
     "metadata": {},
     "outputs": [],
     "prompt_number": 1
    },
    {
     "cell_type": "code",
     "collapsed": false,
     "input": [
      "%%javascript\n",
      "require([\"widgets/js/widget\"], function(WidgetManager){ \n",
      "    var MyView = IPython.DOMWidgetView.extend({\n",
      "        render: function(){ \n",
      "            this.$button = $(\"<button/>\");\n",
      "            this.$button.click(function () {\n",
      "                console.log(window.popup);\n",
      "            });\n",
      "            this.$el.append(this.$button); \n",
      "        },\n",
      "    });\n",
      "    WidgetManager.register_widget_view('MyView', MyView);\n",
      "});"
     ],
     "language": "python",
     "metadata": {},
     "outputs": [
      {
       "javascript": [
        "require([\"widgets/js/widget\"], function(WidgetManager){ \n",
        "    var MyView = IPython.DOMWidgetView.extend({\n",
        "        render: function(){ \n",
        "            this.$button = $(\"<button/>\");\n",
        "            this.$button.click(function () {\n",
        "                console.log(window.popup);\n",
        "            });\n",
        "            this.$el.append(this.$button); \n",
        "        },\n",
        "    });\n",
        "    WidgetManager.register_widget_view('MyView', MyView);\n",
        "});"
       ],
       "metadata": {},
       "output_type": "display_data",
       "text": [
        "<IPython.core.display.Javascript object>"
       ]
      }
     ],
     "prompt_number": 3
    },
    {
     "cell_type": "code",
     "collapsed": false,
     "input": [],
     "language": "python",
     "metadata": {},
     "outputs": []
    }
   ],
   "metadata": {}
  }
 ]
}
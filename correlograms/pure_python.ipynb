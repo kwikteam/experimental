{
 "metadata": {
  "name": "",
  "signature": "sha256:338c9fe64820101ffd5e1de1d371763d07e72824add759ebce2ec825ad34bd9c"
 },
 "nbformat": 3,
 "nbformat_minor": 0,
 "worksheets": [
  {
   "cells": [
    {
     "cell_type": "markdown",
     "metadata": {},
     "source": [
      "# Pure Python correlograms"
     ]
    },
    {
     "cell_type": "code",
     "collapsed": false,
     "input": [
      "import numpy as np\n",
      "from klustaviewa.stats.correlograms import compute_correlograms"
     ],
     "language": "python",
     "metadata": {},
     "outputs": [],
     "prompt_number": 4
    },
    {
     "cell_type": "markdown",
     "metadata": {},
     "source": [
      "## Mock dataset"
     ]
    },
    {
     "cell_type": "markdown",
     "metadata": {},
     "source": [
      "Define the two spike trains."
     ]
    },
    {
     "cell_type": "code",
     "collapsed": false,
     "input": [
      "# 20 samples per ms\n",
      "sr = 20000\n",
      "# one spike every 20 ms\n",
      "train0 = np.arange(0, 20000, 20*20).astype(np.int64)\n",
      "# 30 samples between train 0 and train 1\n",
      "train1 = train0 + 30\n",
      "spiketimes = np.hstack((train0, train1))"
     ],
     "language": "python",
     "metadata": {},
     "outputs": [],
     "prompt_number": 8
    },
    {
     "cell_type": "markdown",
     "metadata": {},
     "source": [
      "Generate the clusters: first spike train = cluster 0, second one = cluster 1."
     ]
    },
    {
     "cell_type": "code",
     "collapsed": false,
     "input": [
      "clusters = np.hstack((np.zeros(len(train0), dtype=np.int32),\n",
      "                       np.ones(len(train1), dtype=np.int32)))"
     ],
     "language": "python",
     "metadata": {},
     "outputs": [],
     "prompt_number": 9
    },
    {
     "cell_type": "markdown",
     "metadata": {},
     "source": [
      "Sort both spike times and clusters in time."
     ]
    },
    {
     "cell_type": "code",
     "collapsed": false,
     "input": [
      "indices_sorting = np.argsort(spiketimes)\n",
      "spiketimes = spiketimes[indices_sorting]\n",
      "clusters = clusters[indices_sorting]"
     ],
     "language": "python",
     "metadata": {},
     "outputs": [],
     "prompt_number": 10
    },
    {
     "cell_type": "code",
     "collapsed": false,
     "input": [
      "ncorrbins = 20\n",
      "corrbin = .001 \u00a0# in seconds"
     ],
     "language": "python",
     "metadata": {},
     "outputs": []
    },
    {
     "cell_type": "markdown",
     "metadata": {},
     "source": [
      "Test function."
     ]
    },
    {
     "cell_type": "code",
     "collapsed": false,
     "input": [
      "def test_correlograms(correlograms):\n",
      "    c01 = np.zeros(20, dtype=np.int32)\n",
      "    c01[11] = 50\n",
      "\n",
      "    c10 = np.zeros(20, dtype=np.int32)\n",
      "    c10[8] = 50\n",
      "\n",
      "    return(np.array_equal(correlograms[(0, 0)], np.zeros(20)),\n",
      "           np.array_equal(correlograms[(1, 1)], np.zeros(20)),\n",
      "           np.array_equal(correlograms[(0, 1)], c01),\n",
      "           np.array_equal(correlograms[(1, 0)], c10),)"
     ],
     "language": "python",
     "metadata": {},
     "outputs": [],
     "prompt_number": 17
    },
    {
     "cell_type": "markdown",
     "metadata": {},
     "source": [
      "## Original Cython implementation"
     ]
    },
    {
     "cell_type": "markdown",
     "metadata": {},
     "source": [
      "Compute the correlograms with the current Cython implementation."
     ]
    },
    {
     "cell_type": "code",
     "collapsed": false,
     "input": [
      "correlograms = compute_correlograms(spiketimes/float(sr),  # warning: float version for now\n",
      "                                    clusters,\n",
      "                                    ncorrbins=ncorrbins, corrbin=corrbin)"
     ],
     "language": "python",
     "metadata": {},
     "outputs": [],
     "prompt_number": 12
    },
    {
     "cell_type": "code",
     "collapsed": false,
     "input": [
      "print(correlograms[(0, 0)])\n",
      "print(correlograms[(0, 1)])"
     ],
     "language": "python",
     "metadata": {},
     "outputs": [
      {
       "output_type": "stream",
       "stream": "stdout",
       "text": [
        "[0 0 0 0 0 0 0 0 0 0 0 0 0 0 0 0 0 0 0 0]\n",
        "[ 0  0  0  0  0  0  0  0  0  0  0 50  0  0  0  0  0  0  0  0]\n"
       ]
      }
     ],
     "prompt_number": 19
    },
    {
     "cell_type": "code",
     "collapsed": false,
     "input": [
      "test_correlograms(correlograms)"
     ],
     "language": "python",
     "metadata": {},
     "outputs": [
      {
       "metadata": {},
       "output_type": "pyout",
       "prompt_number": 20,
       "text": [
        "(True, True, True, True)"
       ]
      }
     ],
     "prompt_number": 20
    },
    {
     "cell_type": "markdown",
     "metadata": {},
     "source": [
      "## Tentative pure Python implementation"
     ]
    },
    {
     "cell_type": "code",
     "collapsed": false,
     "input": [],
     "language": "python",
     "metadata": {},
     "outputs": []
    }
   ],
   "metadata": {}
  }
 ]
}
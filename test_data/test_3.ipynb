{
 "cells": [
  {
   "cell_type": "markdown",
   "metadata": {},
   "source": [
    "# Multiple clusterings"
   ]
  },
  {
   "cell_type": "code",
   "execution_count": 1,
   "metadata": {
    "collapsed": true
   },
   "outputs": [],
   "source": [
    "import phy\n",
    "from phy.cluster.manual.session import Session"
   ]
  },
  {
   "cell_type": "code",
   "execution_count": 2,
   "metadata": {
    "collapsed": true
   },
   "outputs": [],
   "source": [
    "import numpy as np\n",
    "import matplotlib.pyplot as plt\n",
    "import seaborn as sns\n",
    "%matplotlib inline\n",
    "%gui qt"
   ]
  },
  {
   "cell_type": "code",
   "execution_count": 3,
   "metadata": {
    "collapsed": true
   },
   "outputs": [],
   "source": [
    "filename = \"/home/cyrille/1_simple120sec/test_hybrid_120sec.kwik\""
   ]
  },
  {
   "cell_type": "markdown",
   "metadata": {},
   "source": [
    "There's always a `.kwik.bak` backup file that is created when loading the file (unless the backup already exists). We can use that to recover the original file at the beginning so that we can mess around with the Kwik file without worrying about breaking it."
   ]
  },
  {
   "cell_type": "code",
   "execution_count": 4,
   "metadata": {
    "collapsed": true
   },
   "outputs": [],
   "source": [
    "import os.path as op\n",
    "import shutil\n",
    "bak = filename + '.bak'\n",
    "if op.exists(bak):\n",
    "    shutil.copyfile(bak, filename)"
   ]
  },
  {
   "cell_type": "code",
   "execution_count": 5,
   "metadata": {
    "collapsed": false
   },
   "outputs": [],
   "source": [
    "session = Session()"
   ]
  },
  {
   "cell_type": "code",
   "execution_count": 6,
   "metadata": {
    "collapsed": false
   },
   "outputs": [
    {
     "name": "stdout",
     "output_type": "stream",
     "text": [
      "Initializing cluster statistics: 4.17%.\r",
      "Initializing cluster statistics: 8.33%.\r",
      "Initializing cluster statistics: 12.50%.\r",
      "Initializing cluster statistics: 16.67%.\r",
      "Initializing cluster statistics: 20.83%.\r",
      "Initializing cluster statistics: 25.00%.\r",
      "Initializing cluster statistics: 29.17%.\r",
      "Initializing cluster statistics: 33.33%.\r",
      "Initializing cluster statistics: 37.50%.\r",
      "Initializing cluster statistics: 41.67%.\r",
      "Initializing cluster statistics: 45.83%.\r",
      "Initializing cluster statistics: 50.00%.\r",
      "Initializing cluster statistics: 54.17%.\r",
      "Initializing cluster statistics: 58.33%.\r",
      "Initializing cluster statistics: 62.50%.\r",
      "Initializing cluster statistics: 66.67%.\r",
      "Initializing cluster statistics: 70.83%.\r",
      "Initializing cluster statistics: 75.00%.\r",
      "Initializing cluster statistics: 79.17%.\r",
      "Initializing cluster statistics: 83.33%.\r",
      "Initializing cluster statistics: 87.50%.\r",
      "Initializing cluster statistics: 91.67%.\r",
      "Initializing cluster statistics: 95.83%.\r",
      "Initializing cluster statistics: 100.00%.\r",
      "Initializing cluster statistics: 100.00%.\r"
     ]
    }
   ],
   "source": [
    "session.open(filename)"
   ]
  },
  {
   "cell_type": "code",
   "execution_count": 7,
   "metadata": {
    "collapsed": false
   },
   "outputs": [
    {
     "data": {
      "text/plain": [
       "24"
      ]
     },
     "execution_count": 7,
     "metadata": {},
     "output_type": "execute_result"
    }
   ],
   "source": [
    "session.model.n_clusters"
   ]
  },
  {
   "cell_type": "code",
   "execution_count": 8,
   "metadata": {
    "collapsed": false
   },
   "outputs": [
    {
     "data": {
      "text/plain": [
       "<phy.cluster.manual.view_model.WaveformViewModel at 0x7fcce0927f98>"
      ]
     },
     "execution_count": 8,
     "metadata": {},
     "output_type": "execute_result"
    }
   ],
   "source": [
    "session.show_waveforms()"
   ]
  },
  {
   "cell_type": "code",
   "execution_count": 9,
   "metadata": {
    "collapsed": false
   },
   "outputs": [
    {
     "data": {
      "text/plain": [
       "array([ 2,  3,  4,  5,  6,  7,  8,  9, 10, 11, 12, 13, 14, 15, 16, 17, 18,\n",
       "       19, 20, 21, 22, 23, 24, 25], dtype=uint32)"
      ]
     },
     "execution_count": 9,
     "metadata": {},
     "output_type": "execute_result"
    }
   ],
   "source": [
    "session.cluster_ids"
   ]
  },
  {
   "cell_type": "code",
   "execution_count": 10,
   "metadata": {
    "collapsed": false,
    "scrolled": true
   },
   "outputs": [
    {
     "data": {
      "text/plain": [
       "[5, 8, 13, 20, 22, 24, 19, 17, 21, 2]"
      ]
     },
     "execution_count": 10,
     "metadata": {},
     "output_type": "execute_result"
    }
   ],
   "source": [
    "session.wizard.best_clusters()"
   ]
  },
  {
   "cell_type": "code",
   "execution_count": 11,
   "metadata": {
    "collapsed": true
   },
   "outputs": [],
   "source": [
    "session.select(5)"
   ]
  },
  {
   "cell_type": "markdown",
   "metadata": {},
   "source": [
    "The list of clusterings in the file:"
   ]
  },
  {
   "cell_type": "code",
   "execution_count": 12,
   "metadata": {
    "collapsed": false
   },
   "outputs": [
    {
     "data": {
      "text/plain": [
       "['main', 'original']"
      ]
     },
     "execution_count": 12,
     "metadata": {},
     "output_type": "execute_result"
    }
   ],
   "source": [
    "session.model.clusterings"
   ]
  },
  {
   "cell_type": "markdown",
   "metadata": {},
   "source": [
    "Choose another clustering than the main one:"
   ]
  },
  {
   "cell_type": "code",
   "execution_count": 13,
   "metadata": {
    "collapsed": false,
    "scrolled": true
   },
   "outputs": [
    {
     "name": "stdout",
     "output_type": "stream",
     "text": [
      "Initializing cluster statistics: 4.17%.\r",
      "Initializing cluster statistics: 8.33%.\r",
      "Initializing cluster statistics: 12.50%.\r",
      "Initializing cluster statistics: 16.67%.\r",
      "Initializing cluster statistics: 20.83%.\r",
      "Initializing cluster statistics: 25.00%.\r",
      "Initializing cluster statistics: 29.17%.\r",
      "Initializing cluster statistics: 33.33%.\r",
      "Initializing cluster statistics: 37.50%.\r",
      "Initializing cluster statistics: 41.67%.\r",
      "Initializing cluster statistics: 45.83%.\r",
      "Initializing cluster statistics: 50.00%.\r",
      "Initializing cluster statistics: 54.17%.\r",
      "Initializing cluster statistics: 58.33%.\r",
      "Initializing cluster statistics: 62.50%.\r",
      "Initializing cluster statistics: 66.67%.\r",
      "Initializing cluster statistics: 70.83%.\r",
      "Initializing cluster statistics: 75.00%.\r",
      "Initializing cluster statistics: 79.17%.\r",
      "Initializing cluster statistics: 83.33%.\r",
      "Initializing cluster statistics: 87.50%.\r",
      "Initializing cluster statistics: 91.67%.\r",
      "Initializing cluster statistics: 95.83%.\r",
      "Initializing cluster statistics: 100.00%.\r",
      "Initializing cluster statistics: 100.00%.\r"
     ]
    }
   ],
   "source": [
    "session.change_clustering('original')"
   ]
  },
  {
   "cell_type": "markdown",
   "metadata": {},
   "source": [
    "Check the current clustering:"
   ]
  },
  {
   "cell_type": "code",
   "execution_count": 14,
   "metadata": {
    "collapsed": false
   },
   "outputs": [
    {
     "data": {
      "text/plain": [
       "'original'"
      ]
     },
     "execution_count": 14,
     "metadata": {},
     "output_type": "execute_result"
    }
   ],
   "source": [
    "session.model.clustering"
   ]
  },
  {
   "cell_type": "markdown",
   "metadata": {},
   "source": [
    "List of clusters in the current clustering:"
   ]
  },
  {
   "cell_type": "code",
   "execution_count": 15,
   "metadata": {
    "collapsed": false
   },
   "outputs": [
    {
     "data": {
      "text/plain": [
       "array([ 2,  3,  4,  5,  6,  7,  8,  9, 10, 11, 12, 13, 14, 15, 16, 17, 18,\n",
       "       19, 20, 21, 22, 23, 24, 25], dtype=uint32)"
      ]
     },
     "execution_count": 15,
     "metadata": {},
     "output_type": "execute_result"
    }
   ],
   "source": [
    "session.cluster_ids"
   ]
  },
  {
   "cell_type": "code",
   "execution_count": 16,
   "metadata": {
    "collapsed": false
   },
   "outputs": [],
   "source": [
    "session.select([6,7])"
   ]
  },
  {
   "cell_type": "markdown",
   "metadata": {},
   "source": [
    "Move a cluster to a group:"
   ]
  },
  {
   "cell_type": "code",
   "execution_count": 17,
   "metadata": {
    "collapsed": false
   },
   "outputs": [
    {
     "data": {
      "text/plain": [
       "3"
      ]
     },
     "execution_count": 17,
     "metadata": {},
     "output_type": "execute_result"
    }
   ],
   "source": [
    "session.cluster_metadata.group(6)"
   ]
  },
  {
   "cell_type": "code",
   "execution_count": 18,
   "metadata": {
    "collapsed": true
   },
   "outputs": [],
   "source": [
    "session.move([6], 2)"
   ]
  },
  {
   "cell_type": "code",
   "execution_count": 19,
   "metadata": {
    "collapsed": false
   },
   "outputs": [
    {
     "data": {
      "text/plain": [
       "2"
      ]
     },
     "execution_count": 19,
     "metadata": {},
     "output_type": "execute_result"
    }
   ],
   "source": [
    "session.cluster_metadata.group(6)"
   ]
  },
  {
   "cell_type": "markdown",
   "metadata": {},
   "source": [
    "Merge two clusters:"
   ]
  },
  {
   "cell_type": "code",
   "execution_count": 22,
   "metadata": {
    "collapsed": false
   },
   "outputs": [
    {
     "name": "stdout",
     "output_type": "stream",
     "text": [
      "Initializing cluster statistics: 200.00%.\r",
      "Initializing cluster statistics: 100.00%.\r",
      "Initializing cluster statistics: 200.00%.\r",
      "Initializing cluster statistics: 100.00%.\r"
     ]
    }
   ],
   "source": [
    "session.merge([8,7])"
   ]
  },
  {
   "cell_type": "markdown",
   "metadata": {},
   "source": [
    "Check the cluster ids."
   ]
  },
  {
   "cell_type": "code",
   "execution_count": 23,
   "metadata": {
    "collapsed": false
   },
   "outputs": [
    {
     "data": {
      "text/plain": [
       "array([ 2,  3,  4,  5,  6,  9, 10, 11, 12, 13, 14, 15, 16, 17, 18, 19, 20,\n",
       "       21, 22, 23, 24, 25, 26])"
      ]
     },
     "execution_count": 23,
     "metadata": {},
     "output_type": "execute_result"
    }
   ],
   "source": [
    "session.cluster_ids"
   ]
  },
  {
   "cell_type": "markdown",
   "metadata": {},
   "source": [
    "Save the changes to the file, in the `original` clustering:"
   ]
  },
  {
   "cell_type": "code",
   "execution_count": 24,
   "metadata": {
    "collapsed": false
   },
   "outputs": [
    {
     "name": "stdout",
     "output_type": "stream",
     "text": [
      "2015-04-15 12:22:08  session:462             Saved /home/cyrille/1_simple120sec/test_hybrid_120sec.kwik.\n"
     ]
    }
   ],
   "source": [
    "session.save()"
   ]
  }
 ],
 "metadata": {
  "kernelspec": {
   "display_name": "Python 3",
   "language": "python",
   "name": "python3"
  },
  "language_info": {
   "codemirror_mode": {
    "name": "ipython",
    "version": 3
   },
   "file_extension": ".py",
   "mimetype": "text/x-python",
   "name": "python",
   "nbconvert_exporter": "python",
   "pygments_lexer": "ipython3",
   "version": "3.4.3"
  }
 },
 "nbformat": 4,
 "nbformat_minor": 0
}
